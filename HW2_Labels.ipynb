{
 "cells": [
  {
   "cell_type": "code",
   "execution_count": null,
   "metadata": {
    "colab": {
     "base_uri": "https://localhost:8080/"
    },
    "id": "BajEVc7CNWIU",
    "outputId": "c3bdfdd0-720c-408c-b9e4-0ce1ddf76849"
   },
   "outputs": [
    {
     "data": {
      "text/plain": [
       "['Lung']"
      ]
     },
     "execution_count": 8,
     "metadata": {},
     "output_type": "execute_result"
    }
   ],
   "source": [
    "# Step 2: create a list of labels and then add them to the LOOM (check how to enumerate them)\n",
    "\n",
    "def get_labels():\n",
    "  labels_list = ['Lung']\n",
    "  return(labels_list)\n",
    "# ,'Lung','Muscle','Omentum','Omentum','Pancreas',\n",
    "#  'GSM4008638_Adult-Peripheral-Blood1_dge.txt.gz',\n",
    "#  'GSM4008639_Adult-Peripheral-Blood2_dge.txt.gz',\n",
    "#  'GSM4008640_Adult-Peripheral-Blood3-1_dge.txt.gz',\n",
    "#  'GSM4008641_Adult-Peripheral-Blood3-2_dge.txt.gz',\n",
    "#  'GSM4008642_Adult-Peripheral-Blood4-1_dge.txt.gz',\n",
    "#  'GSM4008643_Adult-Peripheral-Blood4-2_dge.txt.gz',\n",
    "#  'GSM4008644_Adult-Peripheral-Blood4-3_dge.txt.gz',\n",
    "#  'GSM4008645_Adult-Pleura1_dge.txt.gz',\n",
    "#  'GSM4008646_Adult-Prostate1_dge.txt.gz',\n",
    "#  'GSM4008647_Adult-Rectum1_dge.txt.gz',\n",
    "#  'GSM4008648_Adult-Sigmoid-Colon1_dge.txt.gz',\n",
    "#  'GSM4008649_Adult-Spleen1-1_dge.txt.gz',\n",
    "#  'GSM4008650_Adult-Spleen1-2_dge.txt.gz',\n",
    "#  'GSM4008651_Adult-Stomach1_dge.txt.gz',\n",
    "#  'GSM4008652_Adult-Stomach2_dge.txt.gz',\n",
    "#  'GSM4008653_Adult-Stomach3-1_dge.txt.gz',\n",
    "#  'GSM4008654_Adult-Stomach3-2_dge.txt.gz',\n",
    "#  'GSM4008655_Adult-Stomach3-3_dge.txt.gz',\n",
    "#  'GSM4008656_Adult-Temporal-Lobe1-1_dge.txt.gz',\n",
    "#  'GSM4008657_Adult-Temporal-Lobe1-2_dge.txt.gz',\n",
    "#  'GSM4008658_Adult-Temporal-Lobe1-3_dge.txt.gz',\n",
    "#  'GSM4008659_Adult-Thyroid1_dge.txt.gz',\n",
    "#  'GSM4008660_Adult-Thyroid2_dge.txt.gz',\n",
    "#  'GSM4008661_Adult-Trachea2_dge.txt.gz',\n",
    "#  'GSM4008662_Adult-Transverse-Colon1_dge.txt.gz',\n",
    "#  'GSM4008663_Adult-Transverse-Colon2-1_dge.txt.gz',\n",
    "#  'GSM4008664_Adult-Transverse-Colon2-2_dge.txt.gz',\n",
    "#  'GSM4008665_Adult-Ureter1_dge.txt.gz',\n",
    "#  'GSM4008666_Adult-Uterus1_dge.txt.gz',\n",
    "#  'GSM4008667_Chorionic-Villus1_dge.txt.gz',\n",
    "#  'GSM4008628_Adult-Lung1_dge.txt.gz',\n",
    "#  'GSM4008629_Adult-Lung2_dge.txt.gz',\n",
    "#  'GSM4008630_Adult-Lung3-1_dge.txt.gz',\n",
    "#  'GSM4008631_Adult-Lung3-2_dge.txt.gz',\n",
    "#  'GSM4008625_Adult-Liver2_dge.txt.gz',\n",
    "#  'GSM4008626_Adult-Liver4-1_dge.txt.gz',\n",
    "#  'GSM4008627_Adult-Liver4-2_dge.txt.gz',\n",
    "#  'GSM4008622_Adult-Kidney4-2_dge.txt.gz',\n",
    "#  'GSM4008623_Adult-Liver1-1_dge.txt.gz',\n",
    "#  'GSM4008624_Adult-Liver1-2_dge.txt.gz',\n",
    "#  'GSM4008620_Adult-Kidney3_dge.txt.gz',\n",
    "#  'GSM4008621_Adult-Kidney4-1_dge.txt.gz',\n",
    "#  'GSM3980140_Adult-Ileum2_dge.txt.gz',\n",
    "#  'GSM3980141_Adult-Jejunum2_dge.txt.gz',\n",
    "#  'GSM4008619_Adult-Kidney2_dge.txt.gz',\n",
    "#  'GSM3980137_Adult-Gall-Bladder1_dge.txt.gz',\n",
    "#  'GSM3980138_Adult-Heart1_dge.txt.gz',\n",
    "#  'GSM3980139_Adult-Heart2_dge.txt.gz',\n",
    "#  'GSM3980134_Adult-Esophagus2_dge.txt.gz',\n",
    "#  'GSM3980135_Adult-Fallopian-Tube1_dge.txt.gz',\n",
    "#  'GSM3980136_Adult-Gall-Bladder2_dge.txt.gz',\n",
    "#  'GSM3980131_Adult-Duodenum1_dge.txt.gz',\n",
    "#  'GSM3980132_Adult-Epityphlon1_dge.txt.gz',\n",
    "#  'GSM3980133_Adult-Esophagus1_dge.txt.gz',\n",
    "#  'GSM3980129_Adult-Cerebellum1_dge.txt.gz',\n",
    "#  'GSM3980130_Adult-Cervix1_dge.txt.gz',\n",
    "#  'GSM3980125_Adult-Ascending-Colon1_dge.txt.gz',\n",
    "#  'GSM3980126_Adult-Bladder1_dge.txt.gz',\n",
    "#  'GSM3980127_Adult-Bladder2_dge.txt.gz',\n",
    "#  'GSM3980128_Adult-Bone-Marrow2_dge.txt.gz',\n",
    "#  'GSM3980123_Adult-Adrenal-Gland3_dge.txt.gz',\n",
    "#  'GSM3980124_Adult-Artery1_dge.txt.gz',\n",
    "#  'GSM3943045_Adult-Bone-Marrow1_dge.txt.gz',\n",
    "#  'GSM3943046_Adult-Adipose1_dge.txt.gz',\n",
    "#  'GSM3943047_Adult-Adrenal-Gland2_dge.txt.gz',\n",
    "#  '2023_07_11_ananthg_lec2_geneformers.pdf]\n",
    "# labels"
   ]
  },
  {
   "cell_type": "code",
   "execution_count": null,
   "metadata": {
    "id": "9kw23pgGlVna"
   },
   "outputs": [],
   "source": [
    "# # digitize the labels\n",
    "# import tensorflow as tf\n",
    "\n",
    "# # Create a unique list of string labels\n",
    "# unique_labels = list(set(labels))\n",
    "\n",
    "# # Create a StaticHashTable to map string labels to integers automatically\n",
    "# label_mapping = tf.lookup.StaticHashTable(\n",
    "#     tf.lookup.KeyValueTensorInitializer(unique_labels, tf.range(len(unique_labels))),\n",
    "#     default_value=-1\n",
    "# )\n",
    "\n",
    "# # Function to convert string labels to integers\n",
    "# def map_labels_to_integers(label):\n",
    "#     return label_mapping.lookup(label)\n",
    "\n",
    "# # Create a TensorFlow Dataset from the list of string labels and map them to integers\n",
    "# label_dataset = tf.data.Dataset.from_tensor_slices(labels)\n",
    "# label_dataset = label_dataset.map(map_labels_to_integers)\n",
    "\n",
    "# # Iterate over the dataset and print the integer labels\n",
    "# for label in label_dataset:\n",
    "#     print(label.numpy())"
   ]
  }
 ],
 "metadata": {
  "accelerator": "GPU",
  "colab": {
   "provenance": []
  },
  "kernelspec": {
   "display_name": "Python 3 (ipykernel)",
   "language": "python",
   "name": "python3"
  },
  "language_info": {
   "codemirror_mode": {
    "name": "ipython",
    "version": 3
   },
   "file_extension": ".py",
   "mimetype": "text/x-python",
   "name": "python",
   "nbconvert_exporter": "python",
   "pygments_lexer": "ipython3",
   "version": "3.11.4"
  }
 },
 "nbformat": 4,
 "nbformat_minor": 4
}
