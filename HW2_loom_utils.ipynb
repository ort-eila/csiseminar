{
 "cells": [
  {
   "cell_type": "code",
   "execution_count": null,
   "metadata": {
    "id": "1BkWda_5lSwS"
   },
   "outputs": [],
   "source": [
    "# for debug only\n",
    "import gzip\n",
    "\n",
    "def read_gzipped_file(file_path, num_lines=5):\n",
    "    lines = []\n",
    "    with gzip.open(file_path, \"rt\") as gzfile:\n",
    "        for _ in range(num_lines):\n",
    "            line = gzfile.readline().strip()\n",
    "            if not line:  # Break the loop if we reach the end of the file\n",
    "                break\n",
    "            lines.append(line)\n",
    "    return lines\n",
    "\n",
    "# gz_file_path = os.path.join(cur_work_dir,\"GSM4008632_Adult-Lung3-3_dge.txt.gz\")\n",
    "\n",
    "# num_lines_to_read = 5\n",
    "# lines = read_gzipped_file(gz_file_path, num_lines=num_lines_to_read)\n",
    "# print(lines)\n"
   ]
  },
  {
   "cell_type": "code",
   "execution_count": null,
   "metadata": {
    "id": "hnaIpWn1lSwT"
   },
   "outputs": [],
   "source": [
    "import pandas as pd\n",
    "import gzip\n",
    "\n",
    "def read_gzipped_dge(gz_file_path):\n",
    "    # Initialize lists to store the data\n",
    "    gene_names = []\n",
    "    cell_names = []\n",
    "    umi_counts = []\n",
    "\n",
    "    # Read the gzipped DGE data\n",
    "    with gzip.open(gz_file_path, \"rt\") as gzfile:\n",
    "        # Skip the header line with column names\n",
    "        next(gzfile)\n",
    "\n",
    "        for line in gzfile:\n",
    "# debug\n",
    "#         for _ in range(5):\n",
    "#             line = gzfile.readline().strip()\n",
    "            fields = line.strip().split(\"\\t\")\n",
    "            gene_names.append(fields[0])\n",
    "            cell_names.append(fields[1])\n",
    "            umi_counts.append([int(count) for count in fields[2:]])\n",
    "\n",
    "    # Create the pandas DataFrame\n",
    "    df = pd.DataFrame(umi_counts, index=gene_names, columns=cell_names)\n",
    "\n",
    "    return df\n",
    "\n",
    "# # Example usage:\n",
    "# gz_dge_file_path = \"path/to/your/gzipped_dge_data.txt.gz\"\n",
    "# exp_mtx = read_gzipped_dge(gz_dge_file_path)\n"
   ]
  },
  {
   "cell_type": "code",
   "execution_count": 5,
   "metadata": {},
   "outputs": [
    {
     "name": "stdout",
     "output_type": "stream",
     "text": [
      "record is  {'Count': '3', 'RetMax': '3', 'RetStart': '0', 'IdList': ['10211', '574436', '503538'], 'TranslationSet': [], 'TranslationStack': [{'Term': 'A1BG-AS1[All Fields]', 'Field': 'All Fields', 'Count': '3', 'Explode': 'N'}, 'GROUP'], 'QueryTranslation': 'A1BG-AS1[All Fields]'}\n",
      "ensembl_ids is  ['10211']\n"
     ]
    },
    {
     "data": {
      "text/plain": [
       "['10211']"
      ]
     },
     "execution_count": 5,
     "metadata": {},
     "output_type": "execute_result"
    }
   ],
   "source": [
    "# gene_names_to_ensembl_ids([\"A1BG-AS1\"])"
   ]
  },
  {
   "cell_type": "code",
   "execution_count": null,
   "metadata": {
    "id": "5c3iiA2vlSwW"
   },
   "outputs": [],
   "source": [
    "import numpy as np\n",
    "import gzip\n",
    "import loompy\n",
    "\n",
    "def create_loom_from_gz_dge_mtx(gz_file_path, loom_file_path,labels):\n",
    "    # Read and process the gzipped DGE data\n",
    "    # debug\n",
    "    debug_num_of_cells = 2 #genes and cell cut off\n",
    "    label_idx = 0\n",
    "    # read the file to mtx\n",
    "    gene_names = []\n",
    "    cell_names = []\n",
    "    umi_counts = []\n",
    "    labels_list = []\n",
    "    print(\"labels is {}\".format(labels))\n",
    "\n",
    "    # when adding more file, I need to increase the label\n",
    "    with gzip.open(gz_file_path, \"rt\") as gzfile:\n",
    "        # Skip the header line with column names\n",
    "        cell_names = next(gzfile)\n",
    "        print(\"all cell_names are\".format(cell_names))\n",
    "        cell_names = cell_names.split(\"\\t\")\n",
    "        print(\"cell_names[0:5] after split is {}\".format(cell_names[0:5]))\n",
    "        cell_names = cell_names[1:1+debug_num_of_cells]\n",
    "        print(\"cell_names after removing the first one is {}\".format(cell_names[0:debug_num_of_cells]))\n",
    "        print(\"len(cell_names)) is {}\".format(len(cell_names)))\n",
    "\n",
    "#         for line in gzfile:\n",
    " # debug\n",
    "        for _ in range(debug_num_of_cells): # reviewing debug number of genes\n",
    "            line = gzfile.readline().strip()\n",
    "            fields = line.strip().split(\"\\t\")\n",
    "            print(\"fields[0:1+debug_num_of_cells] are {}\".format(fields[0:1+len(cell_names)]))\n",
    "            gene = fields[0]\n",
    "            print(\"gene is {}\".format(gene))\n",
    "            ensemble_id = gene_symbol_to_ensembl_id(fields[0])\n",
    "            if (ensemble_id == None):\n",
    "                print(\"!!!skipping gene {}. couldnt find enseble ID for it\".format(gene))\n",
    "                continue\n",
    "            print(\"ensemble_id is {}\".format(ensemble_id))\n",
    "            gene_names.append(ensemble_id) # convert the gene name to ensembl id\n",
    "            print(\"gene_names ensemble_id is {}\".format(gene_names))\n",
    "            # cell_names.append(fields[1:1+debug_num_of_cells])\n",
    "            # Convert the vector values from str to int using list comprehension\n",
    "            umi_counts_int = [int(value) for value in fields[1:1+debug_num_of_cells]]\n",
    "            # Calculate the sum using the sum() function\n",
    "            # umi_counts_sum = sum(umi_counts_int)\n",
    "            umi_counts.append(umi_counts_int)\n",
    "                # [int(count) for count in fields[1:1+debug_num_of_cells]])\n",
    "            print(\"umi_counts is {}\".format(umi_counts))\n",
    "            labels_list.append(labels[label_idx])\n",
    "            print(\"labels_list is {}\".format(labels_list))\n",
    "\n",
    "    # Convert the lists to NumPy arrays for efficient processing\n",
    "    gene_names_arr = np.array(gene_names)\n",
    "    print(\"gene_names_arr np array is {}\".format(gene_names_arr))\n",
    "    cell_names_arr = np.array(cell_names) #[0:debug_num_of_cells])\n",
    "    print(\"cell_names_arr np array is {}\".format(cell_names_arr))\n",
    "    umi_counts_arr = np.array(umi_counts) #[0:debug_num_of_cells])\n",
    "    print(\"umi_counts_arr np array is {}\".format(umi_counts_arr))\n",
    "    print(\"umi_counts_arr dim is {}\".format(umi_counts_arr.shape))\n",
    "    tissue_type_arr = np.array(labels_list)\n",
    "    print(\"tissue_type_arr np array is {}\".format(tissue_type_arr))\n",
    "\n",
    "    # Create an empty array for the default layer\n",
    "#     default_layer = np.empty((len(cell_names), len(gene_names)), dtype=int)\n",
    "\n",
    "    # Create the Loom file and write data\n",
    "    # layers_arr = {\"\": umi_counts_arr}\n",
    "    layers_arr = umi_counts_arr\n",
    "    row_attrs = {\"ensembl_id\": gene_names_arr}\n",
    "    col_attrs = {\n",
    "      'cell_id': cell_names_arr,\n",
    "      'n_counts': umi_counts_arr,\n",
    "      'tissue_type': tissue_type_arr\n",
    "    }\n",
    "#     {\"CellID\": cell_names}\n",
    "\n",
    "    print(\"umi_counts_arr shape is {}\".format(umi_counts_arr.shape))\n",
    "    print(\"cell_names_arr shape is {}\".format(cell_names_arr.shape))\n",
    "    print(\"umi_counts_arr shape is {}\".format(umi_counts_arr.shape))\n",
    "    print(\"tissue_type_arr shape is {}\".format(tissue_type_arr.shape))\n",
    "    print(\"loom_file_path is {}\".format(loom_file_path))\n",
    "    print(\"col_attrs is {}\".format(col_attrs))\n",
    "    shape = layers_arr.shape\n",
    "    print(\"layers_arr shape is {}\".format(shape))\n",
    "    print(\"layers_arr shape[0] is {}\".format(shape[0]))\n",
    "    print(\"layers_arr shape[1] is {}\".format(shape[1]))\n",
    "    \n",
    "    loompy.create(loom_file_path, layers=layers_arr, row_attrs=row_attrs, col_attrs=col_attrs)\n",
    "\n",
    "# # usage:\n",
    "# gz_dge_file_path = os.path.join(cur_work_dir,\"GSM4008632_Adult-Lung3-3_dge.txt.gz\")\n",
    "# loom_file_path = os.path.join(cur_work_dir,\"GSM4008632_Adult-Lung3-3_dge.txt.gz\".split(\".\")[0]) #\"scRNA-seq.loom\"\n",
    "\n",
    "# create_loom_from_gz_dge(gz_dge_file_path, loom_file_path)\n"
   ]
  },
  {
   "cell_type": "code",
   "execution_count": null,
   "metadata": {
    "id": "E0a_5DoKlSwW",
    "outputId": "d4b409b7-9fc6-4bcc-b0b6-ae025a12e27a"
   },
   "outputs": [
    {
     "name": "stdout",
     "output_type": "stream",
     "text": [
      "[[0 0 0 0 0]\n",
      " [0 0 0 0 0]\n",
      " [0 0 0 0 0]\n",
      " [0 0 0 0 0]\n",
      " [0 0 0 0 0]]\n",
      "['A1BG-AS1' 'A2M' 'A2M-AS1' 'A4GALT' 'A4GNT']\n"
     ]
    }
   ],
   "source": [
    "import numpy as np\n",
    "import loompy\n",
    "\n",
    "def load_loom_file(loom_file_path):\n",
    "    # Connect to the Loom file\n",
    "    with loompy.connect(loom_file_path) as ds:\n",
    "        # Access the gene expression data and other attributes\n",
    "        gene_expression_matrix = ds[:, :]  # Get the entire gene expression matrix\n",
    "        gene_names = ds.ra.ensembl_id      # Get gene names from the row attributes\n",
    "        cell_names = ds.ca.cell_id         # Get cell names from the column attributes\n",
    "        tissue_names = ds.ca.tissue_type   # Get tissue type names from the column attributes\n",
    "\n",
    "    return gene_expression_matrix, gene_names, cell_names, tissue_names\n",
    "\n",
    "# # Example usage:\n",
    "# # loom_file_path = \"path/to/your/scRNA-seq.loom\"\n",
    "# gene_expression_matrix, gene_names, cell_names = load_loom_file(loom_file_path)\n",
    "\n",
    "# # Now you can work with the loaded data\n",
    "# # For example, you can print the first few rows of the gene expression matrix:\n",
    "# print(gene_expression_matrix[:5, :5])\n",
    "# print(gene_names)"
   ]
  },
  {
   "cell_type": "code",
   "execution_count": null,
   "metadata": {
    "id": "ucJhtfowDxCf"
   },
   "outputs": [],
   "source": [
    "# \"GSM4008632_Adult-Lung3-3_dge.txt.gz\".split(\".\")[0]"
   ]
  },
  {
   "cell_type": "code",
   "execution_count": 1,
   "metadata": {},
   "outputs": [],
   "source": [
    "import requests\n",
    "\n",
    "def gene_symbol_to_ensembl_id(gene_symbol):\n",
    "    # Ensembl REST API endpoint\n",
    "    ensembl_api_url = \"https://rest.ensembl.org\"\n",
    "\n",
    "    # Set the headers for the request\n",
    "    headers = {\n",
    "        \"Content-Type\": \"application/json\",\n",
    "    }\n",
    "\n",
    "    # Perform the gene symbol to Ensembl ID conversion\n",
    "    ext = f\"/lookup/symbol/human/{gene_symbol}?expand=1\"\n",
    "    response = requests.get(ensembl_api_url + ext, headers=headers)\n",
    "\n",
    "    if response.ok:\n",
    "        data = response.json()\n",
    "        if \"id\" in data:\n",
    "            return data[\"id\"]\n",
    "    else:\n",
    "        response.raise_for_status()\n",
    "        if gene ==\"AAED1\":\n",
    "            return \"ENSG00000158122\"\n",
    "        pass\n",
    "\n",
    "    return None\n",
    "\n",
    "# if __name__ == \"__main__\":\n",
    "#     gene_symbol = \"BRCA1\"\n",
    "#     ensembl_id = gene_symbol_to_ensembl_id(gene_symbol)\n",
    "\n",
    "#     if ensembl_id:\n",
    "#         print(f\"Ensembl ID for gene symbol {gene_symbol}: {ensembl_id}\")\n",
    "#     else:\n",
    "#         print(f\"No Ensembl ID found for gene symbol {gene_symbol}.\")\n"
   ]
  },
  {
   "cell_type": "code",
   "execution_count": null,
   "metadata": {},
   "outputs": [],
   "source": [
    "import shutil\n",
    "\n",
    "def safe_remove_directory(directory_path):\n",
    "    try:\n",
    "        shutil.rmtree(directory_path, ignore_errors=True)\n",
    "        print(f\"Directory '{directory_path}' and its contents have been removed.\")\n",
    "    except Exception as e:\n",
    "        print(f\"An error occurred while removing '{directory_path}': {e}\")\n",
    "\n",
    "# if __name__ == \"__main__\":\n",
    "#     # Replace 'path_to_directory' with the actual path of the directory you want to remove.\n",
    "#     directory_path = \"path_to_directory\"\n",
    "#     safe_remove_directory(directory_path)"
   ]
  }
 ],
 "metadata": {
  "accelerator": "GPU",
  "colab": {
   "provenance": []
  },
  "kernelspec": {
   "display_name": "Python 3 (ipykernel)",
   "language": "python",
   "name": "python3"
  },
  "language_info": {
   "codemirror_mode": {
    "name": "ipython",
    "version": 3
   },
   "file_extension": ".py",
   "mimetype": "text/x-python",
   "name": "python",
   "nbconvert_exporter": "python",
   "pygments_lexer": "ipython3",
   "version": "3.11.4"
  }
 },
 "nbformat": 4,
 "nbformat_minor": 4
}
