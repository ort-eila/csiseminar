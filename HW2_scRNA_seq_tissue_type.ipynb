{
 "cells": [
  {
   "cell_type": "code",
   "execution_count": 1,
   "metadata": {
    "id": "ByNeP73d-aQM"
   },
   "outputs": [],
   "source": [
    "# import os\n",
    "# GPU_NUMBER = [0]\n",
    "# os.environ[\"CUDA_VISIBLE_DEVICES\"] = \",\".join([str(s) for s in GPU_NUMBER])\n",
    "# os.environ[\"NCCL_DEBUG\"] = \"INFO\""
   ]
  },
  {
   "cell_type": "code",
   "execution_count": 2,
   "metadata": {},
   "outputs": [],
   "source": [
    "# !pip install pandas\n",
    "# pip install Bio\n",
    "# pip install loompy\n",
    "# pip install numpy\n",
    "# pip install tensorflow\n",
    "# !pip install biomart\n",
    "# !pip install torch\n",
    "# pip install --upgrade numba \n",
    "# !pip install statsmodels\n",
    "# !pip install scikit-learn\n"
   ]
  },
  {
   "cell_type": "code",
   "execution_count": 3,
   "metadata": {
    "id": "-KPt0O1iCaeg"
   },
   "outputs": [],
   "source": [
    "import os\n",
    "import tensorflow as tf\n",
    "from biomart import BiomartServer\n"
   ]
  },
  {
   "cell_type": "code",
   "execution_count": 4,
   "metadata": {
    "id": "fJjOSWOXlLQ6"
   },
   "outputs": [
    {
     "name": "stderr",
     "output_type": "stream",
     "text": [
      "/Users/eilaarich-landkof-stanford/miniconda3/lib/python3.11/site-packages/loompy/bus_file.py:67: NumbaDeprecationWarning: The 'nopython' keyword argument was not supplied to the 'numba.jit' decorator. The implicit default value for this argument is currently False, but it will be changed to True in Numba 0.59.0. See https://numba.readthedocs.io/en/stable/reference/deprecation.html#deprecation-of-object-mode-fall-back-behaviour-when-using-jit for details.\n",
      "  @jit\n",
      "/Users/eilaarich-landkof-stanford/miniconda3/lib/python3.11/site-packages/loompy/bus_file.py:84: NumbaDeprecationWarning: The 'nopython' keyword argument was not supplied to the 'numba.jit' decorator. The implicit default value for this argument is currently False, but it will be changed to True in Numba 0.59.0. See https://numba.readthedocs.io/en/stable/reference/deprecation.html#deprecation-of-object-mode-fall-back-behaviour-when-using-jit for details.\n",
      "  @jit\n",
      "/Users/eilaarich-landkof-stanford/miniconda3/lib/python3.11/site-packages/loompy/bus_file.py:101: NumbaDeprecationWarning: The 'nopython' keyword argument was not supplied to the 'numba.jit' decorator. The implicit default value for this argument is currently False, but it will be changed to True in Numba 0.59.0. See https://numba.readthedocs.io/en/stable/reference/deprecation.html#deprecation-of-object-mode-fall-back-behaviour-when-using-jit for details.\n",
      "  @jit\n"
     ]
    }
   ],
   "source": [
    "%run HW2_loom_utils.ipynb\n",
    "%run HW2_Labels.ipynb"
   ]
  },
  {
   "cell_type": "code",
   "execution_count": 5,
   "metadata": {},
   "outputs": [
    {
     "name": "stdout",
     "output_type": "stream",
     "text": [
      "/Users/eilaarich-landkof-stanford/Documents/Code/csiseminar\n"
     ]
    }
   ],
   "source": [
    "!pwd"
   ]
  },
  {
   "cell_type": "code",
   "execution_count": 6,
   "metadata": {},
   "outputs": [],
   "source": [
    "# gene_symbol_to_ensembl_id"
   ]
  },
  {
   "cell_type": "code",
   "execution_count": 7,
   "metadata": {
    "id": "HogJSK9B_nAO"
   },
   "outputs": [],
   "source": [
    "# install required libraries\n",
    "# !pip install datasets\n",
    "# !pip install transformers\n",
    "\n",
    "# !git clone https://huggingface.co/ctheodoris/Geneformer\n",
    "# os.chdir('/Users/eilaarich-landkof-stanford/Documents/Code/csiseminar/Geneformer')\n",
    "# !pip install .\n",
    "# !pip install accelerator -U\n",
    "# !pip install biomart\n",
    "# !pip install Bio\n",
    "# !pip install seaborn\n",
    "# !pip install statsmodels"
   ]
  },
  {
   "cell_type": "code",
   "execution_count": 8,
   "metadata": {
    "colab": {
     "base_uri": "https://localhost:8080/"
    },
    "id": "nB1mNM0-I4j5",
    "outputId": "2389f213-a967-4869-80f9-5a8997a4ae58"
   },
   "outputs": [
    {
     "name": "stdout",
     "output_type": "stream",
     "text": [
      "['token_directory', 'GSM4008632_Adult-Lung3-3_dge.txt.gz', 'HW2_Labels.ipynb']\n"
     ]
    }
   ],
   "source": [
    "# Mount Google Drive\n",
    "files_in_specific_directory = None\n",
    "cur_work_dir = os.getcwd()\n",
    "if (\"Code\" in cur_work_dir):\n",
    "  # List all files and directories in the specific directory\n",
    "  files_in_specific_directory = os.listdir(cur_work_dir)\n",
    "else:\n",
    "  from google.colab import drive\n",
    "  drive.mount('/content/gdrive')\n",
    "  # Path to your specific directory within Google Drive\n",
    "  specific_directory_path = '/content/gdrive/MyDrive/immune_310_HW2'\n",
    "\n",
    "  # List all files and directories in the specific directory\n",
    "  files_in_specific_directory = os.listdir(specific_directory_path)\n",
    "\n",
    "# Print the list of files and directories in the specific directory\n",
    "print(files_in_specific_directory[0:3])\n"
   ]
  },
  {
   "cell_type": "code",
   "execution_count": 9,
   "metadata": {
    "colab": {
     "base_uri": "https://localhost:8080/"
    },
    "id": "ypbtifFgDzoU",
    "outputId": "15c09063-ba55-43cb-d3c1-4307d92f3594"
   },
   "outputs": [
    {
     "data": {
      "text/plain": [
       "['token_directory', 'GSM4008632_Adult-Lung3-3_dge.txt.gz', 'HW2_Labels.ipynb']"
      ]
     },
     "execution_count": 9,
     "metadata": {},
     "output_type": "execute_result"
    }
   ],
   "source": [
    "files_in_specific_directory[0:3]"
   ]
  },
  {
   "cell_type": "code",
   "execution_count": 10,
   "metadata": {
    "id": "dMkmqymilLQ8"
   },
   "outputs": [],
   "source": [
    "# zcat_file = os.path.join(cur_work_dir,\"GSM4008632_Adult-Lung3-3_dge.txt.gz\")\n",
    "# zcat_file"
   ]
  },
  {
   "cell_type": "code",
   "execution_count": 11,
   "metadata": {
    "colab": {
     "base_uri": "https://localhost:8080/"
    },
    "id": "BajEVc7CNWIU",
    "outputId": "c3bdfdd0-720c-408c-b9e4-0ce1ddf76849"
   },
   "outputs": [
    {
     "data": {
      "text/plain": [
       "['Lung']"
      ]
     },
     "execution_count": 11,
     "metadata": {},
     "output_type": "execute_result"
    }
   ],
   "source": [
    "# Step 2: create a list of labels and then add them to the LOOM (check how to enumerate them)\n",
    "labels = get_labels()\n",
    "labels"
   ]
  },
  {
   "cell_type": "code",
   "execution_count": 12,
   "metadata": {
    "id": "ZDpJMw1blLQ9"
   },
   "outputs": [
    {
     "name": "stdout",
     "output_type": "stream",
     "text": [
      "GSM4008632_Adult-Lung3-3_dge.txt    HW2_loom_utils.ipynb\n",
      "GSM4008632_Adult-Lung3-3_dge.txt.gz HW2_scRNA_seq_tissue_type.ipynb\n",
      "\u001b[34mGeneformer\u001b[m\u001b[m                          \u001b[34mloom_files\u001b[m\u001b[m\n",
      "HW2_Labels.ipynb                    \u001b[34mtoken_directory\u001b[m\u001b[m\n"
     ]
    }
   ],
   "source": [
    "# Q:is it going to be a loom file per scRNA-seq data?\n",
    "!ls $cur_work_dir"
   ]
  },
  {
   "cell_type": "code",
   "execution_count": 13,
   "metadata": {
    "id": "Ps04f14slLQ9",
    "outputId": "bffa273d-f122-40a0-87b0-8d9d3ccb2d43"
   },
   "outputs": [
    {
     "name": "stdout",
     "output_type": "stream",
     "text": [
      "gz_dge_file_path is  /Users/eilaarich-landkof-stanford/Documents/Code/csiseminar/GSM4008632_Adult-Lung3-3_dge.txt.gz\n",
      "labels is ['Lung']\n",
      "cell_names[0:100] is GENE\tAAGCGGTGCGGATGATCA\tAAGCGGGTATACAACGCC\tACGTTGACGTTGGTGGTA\tAAGCGGTCGGGTTGCAAT\tCAACAACGCACCAAGTAC\t\n",
      "cell_names[0:5] is ['GENE', 'AAGCGGTGCGGATGATCA', 'AAGCGGGTATACAACGCC', 'ACGTTGACGTTGGTGGTA', 'AAGCGGTCGGGTTGCAAT']\n",
      "cell_names after removing the first one is ['AAGCGGTGCGGATGATCA', 'AAGCGGGTATACAACGCC', 'ACGTTGACGTTGGTGGTA', 'AAGCGGTCGGGTTGCAAT', 'CAACAACGCACCAAGTAC']\n",
      "fields[0:100] are ['A1BG-AS1', '1', '0', '0', '0', '0', '0', '0', '0', '0', '0', '0', '0', '0', '0', '0', '0', '0', '0', '0', '0', '0', '0', '0', '0', '0', '0', '0', '0', '0', '0', '0', '0', '0', '0', '0', '0', '0', '0', '0', '0', '0', '0', '0', '0', '0', '0', '0', '0', '0', '0', '0', '0', '0', '0', '0', '0', '0', '0', '0', '0', '0', '0', '1', '0', '0', '0', '0', '0', '0', '0', '0', '0', '0', '0', '0', '0', '0', '0', '0', '0', '0', '0', '0', '0', '0', '0', '0', '0', '0', '0', '0', '0', '1', '0', '0', '0', '0', '0', '0']\n",
      "gene is A1BG-AS1\n",
      "ensemble_id is ENSG00000268895\n",
      "gene_names ensemble_id is ['ENSG00000268895']\n",
      "umi_counts[0][0:100] is [1, 0]\n",
      "labels_list is ['Lung']\n",
      "fields[0:100] are ['A2M', '0', '2', '1', '1', '0', '0', '2', '0', '0', '0', '0', '1', '0', '1', '0', '0', '0', '0', '0', '0', '0', '0', '1', '2', '1', '0', '1', '0', '0', '0', '0', '1', '0', '0', '1', '0', '0', '0', '0', '1', '0', '1', '1', '0', '1', '0', '0', '0', '0', '0', '0', '0', '0', '1', '0', '0', '1', '0', '0', '0', '2', '1', '0', '1', '0', '0', '0', '0', '0', '0', '0', '0', '0', '0', '1', '0', '0', '0', '0', '0', '1', '0', '0', '1', '0', '4', '0', '0', '0', '0', '0', '1', '0', '1', '1', '0', '0', '1', '3']\n",
      "gene is A2M\n",
      "ensemble_id is ENSG00000175899\n",
      "gene_names ensemble_id is ['ENSG00000268895', 'ENSG00000175899']\n",
      "umi_counts[0][0:100] is [1, 0]\n",
      "labels_list is ['Lung', 'Lung']\n",
      "gene_names_arr np array is ['ENSG00000268895' 'ENSG00000175899']\n",
      "cell_names_arr np array is ['AAGCGGTGCGGATGATCA' 'AAGCGGGTATACAACGCC']\n",
      "umi_counts_arr np array is [[1 0]\n",
      " [0 2]]\n",
      "tissue_type_arr np array is ['Lung' 'Lung']\n"
     ]
    }
   ],
   "source": [
    "%run HW2_loom_utils.ipynb\n",
    "%run HW2_Labels.ipynb\n",
    "loom_data_directory = os.path.join(cur_work_dir,\"loom_files\")\n",
    "os.makedirs(loom_data_directory,exist_ok=True)\n",
    "# read the dge expression file and create a LOOM file\n",
    "gz_dge_file_path = os.path.join(cur_work_dir,\"GSM4008632_Adult-Lung3-3_dge.txt.gz\")\n",
    "loom_file_path = os.path.join(loom_data_directory,\"GSM4008632_Adult-Lung3-3_dge.txt.gz\".split(\".\")[0]) #\"scRNA-seq.loom\"\n",
    "print(\"gz_dge_file_path is \",gz_dge_file_path)\n",
    "# create_loom_from_gz_dge(gz_dge_file_path, loom_file_path,labels_list)\n",
    "create_loom_from_gz_dge_mtx(gz_dge_file_path, loom_file_path,labels)\n"
   ]
  },
  {
   "cell_type": "code",
   "execution_count": 14,
   "metadata": {},
   "outputs": [
    {
     "name": "stdout",
     "output_type": "stream",
     "text": [
      "/Users/eilaarich-landkof-stanford/Documents/Code/csiseminar/GSM4008632_Adult-Lung3-3_dge.txt\n"
     ]
    }
   ],
   "source": [
    "!ls /Users/eilaarich-landkof-stanford/Documents/Code/csiseminar/GSM4008632_Adult-Lung3-3_dge.txt"
   ]
  },
  {
   "cell_type": "code",
   "execution_count": 15,
   "metadata": {
    "id": "OvJQjBTblLQ-"
   },
   "outputs": [],
   "source": [
    "# loompy_exp_labels"
   ]
  },
  {
   "cell_type": "code",
   "execution_count": 16,
   "metadata": {
    "id": "7n1cc4HElLQ-",
    "outputId": "96b4a683-5f00-477e-ba97-ac300664d90a"
   },
   "outputs": [
    {
     "name": "stdout",
     "output_type": "stream",
     "text": [
      "gene_expression_matrix is  [[1 0]\n",
      " [0 2]]\n",
      "gene_names is  ['ENSG00000268895' 'ENSG00000175899']\n",
      "cell_names is  ['AAGCGGTGCGGATGATCA' 'AAGCGGGTATACAACGCC']\n",
      "tissue_names is  ['Lung' 'Lung']\n"
     ]
    }
   ],
   "source": [
    "# %run HW2_loom_utils.ipynb\n",
    "# %run HW2_Labels.ipynb\n",
    "# Test the loom file, load it to see its values.\n",
    "gene_expression_matrix, gene_names, cell_names, tissue_names = load_loom_file(loom_file_path)\n",
    "\n",
    "# Now you can work with the loaded data\n",
    "# For example, you can print the first few rows of the gene expression matrix:\n",
    "print(\"gene_expression_matrix is \",gene_expression_matrix)\n",
    "print(\"gene_names is \",gene_names)\n",
    "print(\"cell_names is \",cell_names)\n",
    "print(\"tissue_names is \",tissue_names)\n",
    "# Question: do i need to map the tissue name to integer values"
   ]
  },
  {
   "cell_type": "code",
   "execution_count": 17,
   "metadata": {
    "id": "bwMiGnDwlLQ-",
    "outputId": "3ba0a01e-3555-460a-c7ef-6fb414e2ff79"
   },
   "outputs": [
    {
     "data": {
      "text/plain": [
       "'/Users/eilaarich-landkof-stanford/Documents/Code/csiseminar/loom_files'"
      ]
     },
     "execution_count": 17,
     "metadata": {},
     "output_type": "execute_result"
    }
   ],
   "source": [
    "loom_data_directory"
   ]
  },
  {
   "cell_type": "code",
   "execution_count": 18,
   "metadata": {
    "id": "vU2YlM4NlLQ-",
    "outputId": "f54bdae6-d84b-4e10-a75d-082e3d7aa490"
   },
   "outputs": [
    {
     "data": {
      "text/plain": [
       "['GSM4008632_Adult-Lung3-3_dge']"
      ]
     },
     "execution_count": 18,
     "metadata": {},
     "output_type": "execute_result"
    }
   ],
   "source": [
    "os.listdir(loom_data_directory)"
   ]
  },
  {
   "cell_type": "code",
   "execution_count": 19,
   "metadata": {
    "id": "IFD3Sx3JlLQ-"
   },
   "outputs": [],
   "source": [
    "# # Load model directly\n",
    "# from transformers import AutoTokenizer, AutoModelForMaskedLM\n",
    "\n",
    "# tokenizer = AutoTokenizer.from_pretrained(\"ctheodoris/Geneformer\")\n",
    "# model = AutoModelForMaskedLM.from_pretrained(\"ctheodoris/Geneformer\")\n",
    "# model"
   ]
  },
  {
   "cell_type": "code",
   "execution_count": 20,
   "metadata": {},
   "outputs": [],
   "source": [
    "import shutil\n",
    "\n",
    "def safe_remove_directory(directory_path):\n",
    "    try:\n",
    "        shutil.rmtree(directory_path, ignore_errors=True)\n",
    "        print(f\"Directory '{directory_path}' and its contents have been removed.\")\n",
    "    except Exception as e:\n",
    "        print(f\"An error occurred while removing '{directory_path}': {e}\")\n",
    "\n",
    "# if __name__ == \"__main__\":\n",
    "#     # Replace 'path_to_directory' with the actual path of the directory you want to remove.\n",
    "#     directory_path = \"path_to_directory\"\n",
    "#     safe_remove_directory(directory_path)\n"
   ]
  },
  {
   "cell_type": "code",
   "execution_count": 21,
   "metadata": {
    "id": "59pgBACXlLQ-"
   },
   "outputs": [],
   "source": [
    "token_directory = os.path.join(cur_work_dir,\"token_directory\")\n",
    "os.makedirs(token_directory,exist_ok=True)"
   ]
  },
  {
   "cell_type": "code",
   "execution_count": 22,
   "metadata": {
    "id": "QeOzvca4lLQ-"
   },
   "outputs": [
    {
     "name": "stdout",
     "output_type": "stream",
     "text": [
      "Directory '/Users/eilaarich-landkof-stanford/Documents/Code/csiseminar/token_directory' and its contents have been removed.\n"
     ]
    }
   ],
   "source": [
    "# import shutil\n",
    "# shutil.rmtree(token_directory,ignore_errors=True)\n",
    "\n",
    "safe_remove_directory(token_directory)"
   ]
  },
  {
   "cell_type": "code",
   "execution_count": 23,
   "metadata": {
    "id": "p7XyqKhRlLQ_",
    "outputId": "d7f29061-565f-4941-fec6-996b2ec5363e"
   },
   "outputs": [
    {
     "data": {
      "text/plain": [
       "'/Users/eilaarich-landkof-stanford/Documents/Code/csiseminar/token_directory'"
      ]
     },
     "execution_count": 23,
     "metadata": {},
     "output_type": "execute_result"
    }
   ],
   "source": [
    "token_directory"
   ]
  },
  {
   "cell_type": "code",
   "execution_count": 24,
   "metadata": {
    "id": "mbg8rFrglLQ_",
    "outputId": "ac173a1d-9e41-44ec-8d37-0ff3e8e41f5f"
   },
   "outputs": [],
   "source": [
    "# os.listdir(token_directory) # this created the dataset."
   ]
  },
  {
   "cell_type": "code",
   "execution_count": 25,
   "metadata": {
    "id": "vbAl_fADlLQ_"
   },
   "outputs": [],
   "source": [
    "loom_file = os.path.join(loom_data_directory,'GSM4008632_Adult-Lung3-3_dge')"
   ]
  },
  {
   "cell_type": "code",
   "execution_count": 26,
   "metadata": {
    "colab": {
     "base_uri": "https://localhost:8080/",
     "referenced_widgets": [
      ""
     ]
    },
    "id": "ucJhtfowDxCf",
    "outputId": "26d5fbd0-f445-4a93-b1b2-e5c9c5a5e891"
   },
   "outputs": [
    {
     "data": {
      "application/vnd.jupyter.widget-view+json": {
       "model_id": "ca25c172f1814e978c5ecba021e9ce72",
       "version_major": 2,
       "version_minor": 0
      },
      "text/plain": [
       "Saving the dataset (0/1 shards): 0 examples [00:00, ? examples/s]"
      ]
     },
     "metadata": {},
     "output_type": "display_data"
    },
    {
     "data": {
      "text/plain": [
       "['ENSG00000000003',\n",
       " 'ENSG00000000005',\n",
       " 'ENSG00000000419',\n",
       " 'ENSG00000000457',\n",
       " 'ENSG00000000460']"
      ]
     },
     "execution_count": 26,
     "metadata": {},
     "output_type": "execute_result"
    }
   ],
   "source": [
    "# Tokenize the Loom file (are we tokenizing the expression or the label?)\n",
    "# Based on: https://huggingface.co/ctheodoris/Geneformer/blob/main/examples/tokenizing_scRNAseq_data.ipynb\n",
    "# layers_arr = umi_counts_arr\n",
    "#     row_attrs = {\"ensembl_id\": gene_names_arr}\n",
    "#     col_attrs = {\n",
    "#       'cell_id': cell_names_arr,\n",
    "#       'n_counts': umi_counts_arr,\n",
    "#       'tissue_type': tissue_type_arr\n",
    "#     }\n",
    "\n",
    "from geneformer import TranscriptomeTokenizer\n",
    "tk = TranscriptomeTokenizer({\"tissue_names\": \"tissue_names\"}, nproc=4)\n",
    "tokens = tk.tokenize_data(loom_data_directory, token_directory,\"GSM4008632_Adult-Lung3-3_dge-prefix\")\n",
    "tk.gene_keys[0:5]"
   ]
  },
  {
   "cell_type": "code",
   "execution_count": 27,
   "metadata": {},
   "outputs": [],
   "source": [
    "# tk.token"
   ]
  },
  {
   "cell_type": "code",
   "execution_count": 28,
   "metadata": {
    "id": "tsoUPeQGlLQ_",
    "outputId": "1ce8744d-9e77-437e-ec79-98c6648c985b"
   },
   "outputs": [
    {
     "data": {
      "text/plain": [
       "{'tissue_names': 'tissue_names'}"
      ]
     },
     "execution_count": 28,
     "metadata": {},
     "output_type": "execute_result"
    }
   ],
   "source": [
    "tk.custom_attr_name_dict"
   ]
  },
  {
   "cell_type": "code",
   "execution_count": 29,
   "metadata": {
    "id": "1LNYzqIIlLQ_",
    "outputId": "8e091b49-369b-453b-e420-a35bc23d6411"
   },
   "outputs": [],
   "source": [
    "# tk.gene_token_dict"
   ]
  },
  {
   "cell_type": "code",
   "execution_count": 30,
   "metadata": {
    "id": "7je_SXbllLQ_",
    "outputId": "da09f458-8aeb-44c3-f492-18a8069e1ff9"
   },
   "outputs": [
    {
     "data": {
      "text/plain": [
       "{'tissue_names': 'tissue_names'}"
      ]
     },
     "execution_count": 30,
     "metadata": {},
     "output_type": "execute_result"
    }
   ],
   "source": [
    "tk.custom_attr_name_dict"
   ]
  },
  {
   "cell_type": "code",
   "execution_count": 31,
   "metadata": {
    "id": "z06BDcaelLQ_",
    "outputId": "cd799797-412c-4b07-c5c9-5d2e84281a3c"
   },
   "outputs": [
    {
     "data": {
      "text/plain": [
       "['create_dataset',\n",
       " 'custom_attr_name_dict',\n",
       " 'gene_keys',\n",
       " 'gene_median_dict',\n",
       " 'gene_token_dict',\n",
       " 'genelist_dict',\n",
       " 'nproc',\n",
       " 'tokenize_data',\n",
       " 'tokenize_file',\n",
       " 'tokenize_files']"
      ]
     },
     "execution_count": 31,
     "metadata": {},
     "output_type": "execute_result"
    }
   ],
   "source": [
    "dir(tk)[-10:]"
   ]
  },
  {
   "cell_type": "code",
   "execution_count": 32,
   "metadata": {
    "id": "x7MnCsJ4lLQ_",
    "outputId": "2cafbd63-b088-423a-d044-c95c60b753b1"
   },
   "outputs": [
    {
     "data": {
      "text/plain": [
       "['GSM4008632_Adult-Lung3-3_dge-prefix.dataset']"
      ]
     },
     "execution_count": 32,
     "metadata": {},
     "output_type": "execute_result"
    }
   ],
   "source": [
    "os.listdir(token_directory) # this created the dataset."
   ]
  },
  {
   "cell_type": "code",
   "execution_count": 32,
   "metadata": {
    "id": "ml6OQ4TrlLQ_",
    "outputId": "450af590-83c2-4d40-8c6c-06463224dac3"
   },
   "outputs": [
    {
     "data": {
      "text/plain": [
       "{'tissue_names': 'tissue_names'}"
      ]
     },
     "execution_count": 32,
     "metadata": {},
     "output_type": "execute_result"
    }
   ],
   "source": [
    "tk.custom_attr_name_dict"
   ]
  },
  {
   "cell_type": "code",
   "execution_count": 34,
   "metadata": {
    "colab": {
     "referenced_widgets": [
      ""
     ]
    },
    "id": "OIfGIZ5slLQ_",
    "outputId": "bcac1432-8995-49de-ae31-167fa3db7cbb"
   },
   "outputs": [],
   "source": [
    "# import h5py\n",
    "\n",
    "# hdf5_file = \"my_dataset.hdf5\"\n",
    "# dataset_name = \"gene_expression\"\n",
    "# from geneformer import TranscriptomeTokenizer\n",
    "\n",
    "# tk = TranscriptomeTokenizer({\"tissue_names\": \"tissue_names\"})\n",
    "# tokens = tk.tokenize_data(loom_data_directory, token_directory,\"GSM4008632_Adult-Lung3-3_dge-prefix\")\n",
    "# print(\"tokens is \",tokens)\n",
    "\n",
    "# tokenized_cells = []\n",
    "# for cell_id, tokens in enumerate(tokens):\n",
    "#     tokenized_cells.append([tokens])\n",
    "\n",
    "# cell_metadata = {\n",
    "#     \"cell_id\": cell_id,\n",
    "#     \"tissue\": \"lung\",\n",
    "#     \"replicate\": 3,\n",
    "# }\n",
    "\n",
    "# tk.create_dataset(hdf5_file, dataset_name, tokenized_cells, cell_metadata)\n"
   ]
  },
  {
   "cell_type": "code",
   "execution_count": 36,
   "metadata": {
    "id": "3F_dsk9elLRA",
    "outputId": "59d60525-029e-4e22-915a-9ae4591ed27a"
   },
   "outputs": [
    {
     "data": {
      "text/plain": [
       "['ENSG00000000003', 'ENSG00000000005', 'ENSG00000000419', 'ENSG00000000457']"
      ]
     },
     "execution_count": 36,
     "metadata": {},
     "output_type": "execute_result"
    }
   ],
   "source": [
    "tk.gene_keys[0:4]"
   ]
  },
  {
   "cell_type": "code",
   "execution_count": 38,
   "metadata": {
    "id": "_P-Yn3DjlLRA"
   },
   "outputs": [],
   "source": [
    "# dataset = tk.create_dataset(\"GSM4008632_Adult-Lung3-3_dge-prefix.dataset\",{'tissue_names': 'tissue_names'})"
   ]
  },
  {
   "cell_type": "code",
   "execution_count": null,
   "metadata": {
    "id": "eogjZw2ElLRA"
   },
   "outputs": [],
   "source": [
    "# dir(tk)"
   ]
  },
  {
   "cell_type": "code",
   "execution_count": null,
   "metadata": {
    "id": "178CKrTxlLRA"
   },
   "outputs": [],
   "source": [
    "# dataset = tk.create_dataset()\n",
    "# # tokenized_cells\n",
    "# # cell_metadata\n",
    "# # from datasets import load_dataset\n",
    "\n",
    "# # # Replace 'your_dataset_name' with the name of the dataset you want to load\n",
    "# # dataset = load_dataset(path = token_directory, name = 'GSM4008632_Adult-Lung3-3_dge-prefix.dataset',num_proc=4)\n"
   ]
  },
  {
   "cell_type": "code",
   "execution_count": null,
   "metadata": {
    "id": "c9LWWSPzlLRA",
    "outputId": "1e2431ee-c9cb-4c06-8dcd-966c75923634"
   },
   "outputs": [
    {
     "ename": "NameError",
     "evalue": "name 'dataset' is not defined",
     "output_type": "error",
     "traceback": [
      "\u001b[0;31m---------------------------------------------------------------------------\u001b[0m",
      "\u001b[0;31mNameError\u001b[0m                                 Traceback (most recent call last)",
      "Input \u001b[0;32mIn [130]\u001b[0m, in \u001b[0;36m<cell line: 1>\u001b[0;34m()\u001b[0m\n\u001b[0;32m----> 1\u001b[0m dataset\n",
      "\u001b[0;31mNameError\u001b[0m: name 'dataset' is not defined"
     ]
    }
   ],
   "source": [
    "dataset"
   ]
  },
  {
   "cell_type": "code",
   "execution_count": null,
   "metadata": {
    "id": "Sbob-4oelLRA",
    "outputId": "e63d83d8-5ff8-4a34-8698-74b4e6c4bea2"
   },
   "outputs": [
    {
     "data": {
      "text/plain": [
       "['GSM4008632_Adult-Lung3-3_dge']"
      ]
     },
     "execution_count": 62,
     "metadata": {},
     "output_type": "execute_result"
    }
   ],
   "source": [
    "os.listdir(loom_data_directory)"
   ]
  },
  {
   "cell_type": "code",
   "execution_count": null,
   "metadata": {
    "id": "QUiRsnvilLRA",
    "outputId": "b3861987-7099-41ea-b1c0-e86c1e8d720f"
   },
   "outputs": [
    {
     "data": {
      "text/plain": [
       "0"
      ]
     },
     "execution_count": 177,
     "metadata": {},
     "output_type": "execute_result"
    }
   ],
   "source": [
    "# Access the number of examples in the dataset\n",
    "num_rows = dataset.num_rows\n",
    "num_rows"
   ]
  },
  {
   "cell_type": "code",
   "execution_count": null,
   "metadata": {
    "colab": {
     "referenced_widgets": [
      "4acab7930dbc420c9c371b89df90a0ba"
     ]
    },
    "id": "aq_k-afqlLRA",
    "outputId": "bbaa8a4c-adef-4e1b-c0fa-d7210c1b4000"
   },
   "outputs": [
    {
     "data": {
      "application/vnd.jupyter.widget-view+json": {
       "model_id": "4acab7930dbc420c9c371b89df90a0ba",
       "version_major": 2,
       "version_minor": 0
      },
      "text/plain": [
       "Downloading pytorch_model.bin:   0%|          | 0.00/41.2M [00:00<?, ?B/s]"
      ]
     },
     "metadata": {},
     "output_type": "display_data"
    }
   ],
   "source": [
    "# steps:\n",
    "# 1. Load the Pretrained Model: Load the pretrained \"geneformer\" model from the Hugging Face model hub using its identifier or path.\n",
    "# model = AutoModelForMaskedLM.from_pretrained(\"ctheodoris/Geneformer\")\n",
    "# 2. Tokenization: Tokenize your scRNA-seq data using the tokenizer provided by the \"geneformer\" model.\n",
    "# Done. issue. The object is empty\n",
    "# 3. Prepare Data: Convert the tokenized data into PyTorch tensors or TensorFlow tensors, depending on the library you are using.\n",
    "\n",
    "# 4.Define the Model Head: If the \"geneformer\" model is a generic language model, you may need to add a task-specific head (e.g., classification or regression layer) on top of the pretrained model for your specific task (e.g., cell type classification).\n",
    "\n",
    "# 5. Training Loop: Create a training loop that iterates over your data batches, performs forward and backward passes through the model, and updates the model's weights based on the loss.\n",
    "\n",
    "# 6. Evaluation: After training, evaluate the fine-tuned model on a separate validation or test dataset to assess its performance.\n",
    "\n",
    "# Save 7.the Fine-Tuned Model: Save the fine-tuned model and tokenizer so that you can use them later for inference."
   ]
  },
  {
   "cell_type": "code",
   "execution_count": null,
   "metadata": {
    "id": "aYhyGexZlLRA"
   },
   "outputs": [],
   "source": [
    "# two resources:\n",
    "# Fine tuning general: https://huggingface.co/docs/transformers/training\n",
    "# cell classification fine tuning with geneformer - https://colab.research.google.com/#scrollTo=a9885d9f-00ac-4c84-b6a3-b7b648a90f0f&fileId=https%3A//huggingface.co/ctheodoris/Geneformer/blob/main/examples/cell_classification.ipynb"
   ]
  },
  {
   "cell_type": "code",
   "execution_count": null,
   "metadata": {
    "id": "LpYPom_jlLRA"
   },
   "outputs": [],
   "source": [
    "# # tokenize the data\n",
    "# # https://huggingface.co/ctheodoris/Geneformer/blob/main/examples/tokenizing_scRNAseq_data.ipynb\n",
    "\n",
    "# from geneformer import TranscriptomeTokenizer\n",
    "# tk = TranscriptomeTokenizer({\"tissue_type\": \"tissue_type\"}, nproc=2)\n",
    "# tk.tokenize_data(\"loom_data_directory\", \"output_directory\", \"output_prefix\")\n",
    "\n",
    "# tokenized_datasets = dataset.map(tokenize_function, batched=True)\n",
    "# tokenized_datasets"
   ]
  },
  {
   "cell_type": "code",
   "execution_count": null,
   "metadata": {
    "id": "hz24cXSoAbpc"
   },
   "outputs": [],
   "source": [
    "def tokenize_function(examples):\n",
    "  return tokenizer(examples[\"text\"], padding=\"max_length\", truncation=True)"
   ]
  }
 ],
 "metadata": {
  "accelerator": "GPU",
  "colab": {
   "provenance": []
  },
  "kernelspec": {
   "display_name": "Python 3 (ipykernel)",
   "language": "python",
   "name": "python3"
  },
  "language_info": {
   "codemirror_mode": {
    "name": "ipython",
    "version": 3
   },
   "file_extension": ".py",
   "mimetype": "text/x-python",
   "name": "python",
   "nbconvert_exporter": "python",
   "pygments_lexer": "ipython3",
   "version": "3.11.4"
  }
 },
 "nbformat": 4,
 "nbformat_minor": 4
}
