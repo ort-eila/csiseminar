{
 "cells": [
  {
   "cell_type": "code",
   "execution_count": 6,
   "id": "cb32d211-8429-4fe1-b0a1-f12131e478ea",
   "metadata": {},
   "outputs": [],
   "source": [
    "# !pip install datasets transformers\n",
    "# !pip install pillow\n",
    "# !pip install datasets --upgrade (otherwise issues to load the bean dataset)\n",
    "# !pip install matplotlib"
   ]
  },
  {
   "cell_type": "code",
   "execution_count": null,
   "id": "19487d13-2f13-48f0-bbf3-970748deb300",
   "metadata": {},
   "outputs": [],
   "source": [
    "# Run once, unless you have any update for the data structure\n",
    "# create files with 47 channels at folder csiseminar/project/dataset/47_channels/\n",
    "# the output is relevant to check that the files are not only zeros (viewing them, it looks like \n",
    "# it is only grey\n",
    "# %run preprocess_tif_data.ipynb"
   ]
  },
  {
   "cell_type": "code",
   "execution_count": 5,
   "id": "529bb5ee-8ea5-4955-a341-adff3df49a9b",
   "metadata": {},
   "outputs": [
    {
     "name": "stderr",
     "output_type": "stream",
     "text": [
      "/Users/eilaarich-landkof-stanford/miniconda3/envs/seminarEnv/lib/python3.11/site-packages/tqdm/auto.py:21: TqdmWarning: IProgress not found. Please update jupyter and ipywidgets. See https://ipywidgets.readthedocs.io/en/stable/user_install.html\n",
      "  from .autonotebook import tqdm as notebook_tqdm\n",
      "None of PyTorch, TensorFlow >= 2.0, or Flax have been found. Models won't be available and only tokenizers, configuration and file/data utilities can be used.\n"
     ]
    }
   ],
   "source": [
    "from transformers.utils.dummy_vision_objects import ImageGPTFeatureExtractor\n",
    "import random\n",
    "from PIL import ImageDraw, ImageFont, Image"
   ]
  },
  {
   "cell_type": "code",
   "execution_count": 18,
   "id": "4b8402e5-9441-49dc-9bbc-b2bcc0d5f902",
   "metadata": {},
   "outputs": [],
   "source": [
    "import os\n",
    "path_to_non_progressors_images = \"/Users/eilaarich-landkof-stanford/Documents/Code/csiseminar/project/dataset/47_channels/labels/nonprogressor/\"\n",
    "path_to_progressors_images = \"/Users/eilaarich-landkof-stanford/Documents/Code/csiseminar/project/dataset/47_channels/labels/progressor/\"\n",
    "\n"
   ]
  },
  {
   "cell_type": "code",
   "execution_count": 48,
   "id": "400f877d-acfc-48bc-9061-3d8ed9ca7515",
   "metadata": {},
   "outputs": [
    {
     "name": "stdout",
     "output_type": "stream",
     "text": [
      "Image shape: (47, 1024, 1024)\n",
      "Image shape: (47, 1024, 1024)\n",
      "Image shape: (47, 1024, 1024)\n",
      "Image shape: (47, 1024, 1024)\n",
      "Image shape: (47, 1024, 1024)\n",
      "Image shape: (47, 1024, 1024)\n",
      "Image shape: (47, 1024, 1024)\n",
      "Image shape: (47, 1024, 1024)\n",
      "Image shape: (47, 1024, 1024)\n",
      "Image shape: (47, 1024, 1024)\n",
      "Image shape: (47, 1024, 1024)\n",
      "Image shape: (47, 1024, 1024)\n",
      "Image shape: (47, 1024, 1024)\n",
      "Image shape: (47, 1024, 1024)\n",
      "Image shape: (47, 1024, 1024)\n",
      "Image shape: (47, 1024, 1024)\n",
      "Image shape: (47, 1024, 1024)\n",
      "Image shape: (47, 1024, 1024)\n",
      "Image shape: (47, 1024, 1024)\n",
      "Image shape: (47, 1024, 1024)\n",
      "Image shape: (47, 1024, 1024)\n",
      "Image shape: (47, 1024, 1024)\n",
      "Image shape: (47, 1024, 1024)\n",
      "Image shape: (47, 1024, 1024)\n",
      "Image shape: (47, 1024, 1024)\n",
      "Image shape: (47, 1024, 1024)\n",
      "Image shape: (47, 1024, 1024)\n",
      "Image shape: (47, 1024, 1024)\n",
      "Image shape: (47, 1024, 1024)\n",
      "Image shape: (47, 1024, 1024)\n",
      "Image shape: (47, 1024, 1024)\n",
      "Image shape: (47, 1024, 1024)\n",
      "Image shape: (47, 1024, 1024)\n",
      "Image shape: (47, 1024, 1024)\n",
      "Image shape: (47, 1024, 1024)\n",
      "Image shape: (47, 1024, 1024)\n",
      "Image shape: (47, 1024, 1024)\n",
      "Image shape: (47, 1024, 1024)\n",
      "Image shape: (47, 1024, 1024)\n",
      "Image shape: (47, 1024, 1024)\n",
      "Image shape: (47, 1024, 1024)\n",
      "Image shape: (47, 1024, 1024)\n",
      "Image shape: (47, 1024, 1024)\n",
      "Image shape: (47, 1024, 1024)\n",
      "Image shape: (47, 1024, 1024)\n",
      "Image shape: (47, 1024, 1024)\n",
      "Image shape: (47, 1024, 1024)\n",
      "Image shape: (47, 1024, 1024)\n",
      "Image shape: (47, 1024, 1024)\n",
      "Image shape: (47, 1024, 1024)\n",
      "Image shape: (47, 1024, 1024)\n",
      "Image shape: (47, 1024, 1024)\n",
      "Image shape: (47, 1024, 1024)\n",
      "Image shape: (47, 1024, 1024)\n",
      "Image shape: (47, 1024, 1024)\n",
      "Image shape: (47, 1024, 1024)\n",
      "Image shape: (47, 1024, 1024)\n",
      "Image shape: (47, 1024, 1024)\n"
     ]
    }
   ],
   "source": [
    "import os\n",
    "%run prepare_dataset_from_image_files.ipynb\n",
    "non_progressors_images_list = os.listdir(path_to_non_progressors_images)\n",
    "progressors_images_list = os.listdir(path_to_progressors_images)\n",
    "non_progressors_images_list = [os.path.join(path_to_non_progressors_images,x) for x in non_progressors_images_list]\n",
    "progressors_images_list = [os.path.join(path_to_progressors_images,x) for x in progressors_images_list]\n",
    "\n",
    "\n",
    "non_progressors_images_dict = load_47_channel_tif_to_dataset_object(non_progressors_images_list,\"non_progressor\")\n",
    "progressors_images_dict = load_47_channel_tif_to_dataset_object(progressors_images_list,\"progressor\")"
   ]
  },
  {
   "cell_type": "code",
   "execution_count": 49,
   "id": "e054908d-860e-49af-8a8d-a2c2e1cf42a4",
   "metadata": {},
   "outputs": [],
   "source": [
    "# Create a Dataset object using Dataset.from_dict\n",
    "dataset_prog = Dataset.from_dict(progressors_images_dict)\n",
    "dataset_non_prog = Dataset.from_dict(non_progressors_images_dict)"
   ]
  },
  {
   "cell_type": "code",
   "execution_count": 50,
   "id": "f6d9ab86-25a5-4a58-9277-3d9ddc6e6087",
   "metadata": {},
   "outputs": [
    {
     "data": {
      "text/plain": [
       "datasets.arrow_dataset.Dataset"
      ]
     },
     "execution_count": 50,
     "metadata": {},
     "output_type": "execute_result"
    }
   ],
   "source": [
    "type(dataset_non_prog)"
   ]
  },
  {
   "cell_type": "code",
   "execution_count": 51,
   "id": "162529b7-e48b-403d-8884-de81b3da1e37",
   "metadata": {},
   "outputs": [
    {
     "data": {
      "text/plain": [
       "datasets.arrow_dataset.Dataset"
      ]
     },
     "execution_count": 51,
     "metadata": {},
     "output_type": "execute_result"
    }
   ],
   "source": [
    "from datasets import Dataset, concatenate_datasets\n",
    "\n",
    "# Concatenate the datasets\n",
    "ds = concatenate_datasets([dataset_prog, dataset_non_prog])\n",
    "type(ds)"
   ]
  },
  {
   "cell_type": "code",
   "execution_count": 55,
   "id": "c3afadd6-436a-483b-9b5d-3e27573ad422",
   "metadata": {},
   "outputs": [
    {
     "data": {
      "text/plain": [
       "datasets.arrow_dataset.Dataset"
      ]
     },
     "execution_count": 55,
     "metadata": {},
     "output_type": "execute_result"
    }
   ],
   "source": [
    "# split to train / validation and test\n",
    "type(ds)"
   ]
  },
  {
   "cell_type": "code",
   "execution_count": 65,
   "id": "481dd160-955e-406e-8c56-deaeacc0cd9d",
   "metadata": {},
   "outputs": [
    {
     "data": {
      "text/plain": [
       "58"
      ]
     },
     "execution_count": 65,
     "metadata": {},
     "output_type": "execute_result"
    }
   ],
   "source": [
    "len(ds)"
   ]
  },
  {
   "cell_type": "code",
   "execution_count": 78,
   "id": "5a5fdb40-7b96-4e01-915d-63366c6868ee",
   "metadata": {},
   "outputs": [
    {
     "name": "stdout",
     "output_type": "stream",
     "text": [
      "Train samples: 34\n",
      "Validation samples: 11\n",
      "Test samples: 13\n"
     ]
    }
   ],
   "source": [
    "%run prepare_dataset_from_image_files.ipynb\n",
    "\n",
    "train_percentage = 0.6\n",
    "validation_percentage = 0.2\n",
    "test_percentage = 0.2\n",
    "\n",
    "split_datasets = split_custom_dataset(ds, train_percentage, validation_percentage, test_percentage)\n",
    "\n",
    "# Access individual splits\n",
    "train_split = split_datasets[\"train\"]\n",
    "validation_split = split_datasets[\"validation\"]\n",
    "test_split = split_datasets[\"test\"]\n",
    "\n",
    "# Print the number of samples in each split\n",
    "print(\"Train samples:\", len(train_split))\n",
    "print(\"Validation samples:\", len(validation_split))\n",
    "print(\"Test samples:\", len(test_split))"
   ]
  },
  {
   "cell_type": "code",
   "execution_count": 79,
   "id": "ce7b04c6-9645-4654-8b1b-e72bb3ad2202",
   "metadata": {},
   "outputs": [
    {
     "data": {
      "text/plain": [
       "34"
      ]
     },
     "execution_count": 79,
     "metadata": {},
     "output_type": "execute_result"
    }
   ],
   "source": [
    "len(train_split['label'])"
   ]
  },
  {
   "cell_type": "code",
   "execution_count": 85,
   "id": "1a962015-63fc-4e5c-9bf9-63de911ec17f",
   "metadata": {},
   "outputs": [
    {
     "data": {
      "text/plain": [
       "Dataset({\n",
       "    features: ['image', 'label'],\n",
       "    num_rows: 34\n",
       "})"
      ]
     },
     "execution_count": 85,
     "metadata": {},
     "output_type": "execute_result"
    }
   ],
   "source": [
    "train_split"
   ]
  },
  {
   "cell_type": "code",
   "execution_count": 86,
   "id": "f38b2fe0-0e73-4051-afb0-fd00057c8907",
   "metadata": {},
   "outputs": [],
   "source": [
    "%run images_methods.ipynb"
   ]
  },
  {
   "cell_type": "code",
   "execution_count": 99,
   "id": "17277957-66a4-45c7-972a-e92d9c74d528",
   "metadata": {},
   "outputs": [],
   "source": [
    "# # TODO: work on that\n",
    "# from PIL import Image\n",
    "# import numpy as np\n",
    "# from datasets import load_dataset\n",
    "\n",
    "\n",
    "# # Access an image sample (replace 0 with the desired index)\n",
    "# sample_index = 0\n",
    "# image_data = train_split[sample_index][\"image\"]\n",
    "\n",
    "# # Convert image data (assumed to be a NumPy array) to a PIL image\n",
    "# pil_image = Image.fromarray(image_data)\n",
    "\n",
    "# # Display the PIL image using the default image viewer\n",
    "# pil_image.show()\n"
   ]
  },
  {
   "cell_type": "code",
   "execution_count": 100,
   "id": "45a158d4-6cc2-4acf-96ca-359799b8ded5",
   "metadata": {},
   "outputs": [
    {
     "name": "stderr",
     "output_type": "stream",
     "text": [
      "/Users/eilaarich-landkof-stanford/miniconda3/envs/seminarEnv/lib/python3.11/site-packages/transformers/models/vit/feature_extraction_vit.py:28: FutureWarning: The class ViTFeatureExtractor is deprecated and will be removed in version 5 of Transformers. Please use ViTImageProcessor instead.\n",
      "  warnings.warn(\n"
     ]
    }
   ],
   "source": [
    "# Loading the feature extractor \n",
    "from transformers import ViTFeatureExtractor\n",
    "\n",
    "model_name_or_path = 'google/vit-base-patch16-224-in21k'\n",
    "feature_extractor = ViTFeatureExtractor.from_pretrained(model_name_or_path)\n"
   ]
  },
  {
   "cell_type": "code",
   "execution_count": 101,
   "id": "80d5b2d4-8ad3-41fc-a113-76584b3ffec2",
   "metadata": {},
   "outputs": [
    {
     "data": {
      "text/plain": [
       "ViTFeatureExtractor {\n",
       "  \"do_normalize\": true,\n",
       "  \"do_rescale\": true,\n",
       "  \"do_resize\": true,\n",
       "  \"image_mean\": [\n",
       "    0.5,\n",
       "    0.5,\n",
       "    0.5\n",
       "  ],\n",
       "  \"image_processor_type\": \"ViTFeatureExtractor\",\n",
       "  \"image_std\": [\n",
       "    0.5,\n",
       "    0.5,\n",
       "    0.5\n",
       "  ],\n",
       "  \"resample\": 2,\n",
       "  \"rescale_factor\": 0.00392156862745098,\n",
       "  \"size\": {\n",
       "    \"height\": 224,\n",
       "    \"width\": 224\n",
       "  }\n",
       "}"
      ]
     },
     "execution_count": 101,
     "metadata": {},
     "output_type": "execute_result"
    }
   ],
   "source": [
    "feature_extractor"
   ]
  },
  {
   "cell_type": "code",
   "execution_count": null,
   "id": "ddcfe4c2-f276-480d-a636-613f0112896f",
   "metadata": {},
   "outputs": [],
   "source": [
    "train_split[0]"
   ]
  },
  {
   "cell_type": "code",
   "execution_count": null,
   "id": "b5680348-97c7-4ca2-b398-7e3e2a92604c",
   "metadata": {},
   "outputs": [],
   "source": [
    "%run prepare_dataset_From_image_files.ipynb\n",
    "sample_index = 0  # Replace with the desired sample index\n",
    "sample = get_single_sample(dataset_name, sample_index)\n",
    "\n",
    "# Print the keys and values of the sample\n",
    "for key, value in sample.items():\n",
    "    print(f\"{key}: {value}\")\n"
   ]
  },
  {
   "cell_type": "code",
   "execution_count": 102,
   "id": "e1768dde-7d1d-46c0-8198-2ad1ed1b106f",
   "metadata": {},
   "outputs": [
    {
     "ename": "NameError",
     "evalue": "name 'image' is not defined",
     "output_type": "error",
     "traceback": [
      "\u001b[0;31m---------------------------------------------------------------------------\u001b[0m",
      "\u001b[0;31mNameError\u001b[0m                                 Traceback (most recent call last)",
      "Cell \u001b[0;32mIn[102], line 1\u001b[0m\n\u001b[0;32m----> 1\u001b[0m feature_extractor(\u001b[43mimage\u001b[49m, return_tensors\u001b[38;5;241m=\u001b[39m\u001b[38;5;124m'\u001b[39m\u001b[38;5;124mpt\u001b[39m\u001b[38;5;124m'\u001b[39m)\n",
      "\u001b[0;31mNameError\u001b[0m: name 'image' is not defined"
     ]
    }
   ],
   "source": [
    "feature_extractor(train_split[, return_tensors='pt')"
   ]
  },
  {
   "cell_type": "code",
   "execution_count": 103,
   "id": "e55058b8-8e9a-4168-9499-8da75eccd144",
   "metadata": {},
   "outputs": [],
   "source": [
    "def process_example(example):\n",
    "    inputs = feature_extractor(example['image'], return_tensors='pt')\n",
    "    inputs['labels'] = example['labels']\n",
    "    return inputs"
   ]
  },
  {
   "cell_type": "code",
   "execution_count": null,
   "id": "3a6eda27-0fe5-4cde-b273-fcdbcb11110e",
   "metadata": {},
   "outputs": [],
   "source": []
  }
 ],
 "metadata": {
  "kernelspec": {
   "display_name": "Python 3 (ipykernel)",
   "language": "python",
   "name": "python3"
  },
  "language_info": {
   "codemirror_mode": {
    "name": "ipython",
    "version": 3
   },
   "file_extension": ".py",
   "mimetype": "text/x-python",
   "name": "python",
   "nbconvert_exporter": "python",
   "pygments_lexer": "ipython3",
   "version": "3.11.4"
  }
 },
 "nbformat": 4,
 "nbformat_minor": 5
}
