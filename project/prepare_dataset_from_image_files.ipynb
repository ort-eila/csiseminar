{
 "cells": [
  {
   "cell_type": "code",
   "execution_count": null,
   "id": "f221f15d-0e84-4cd2-ae8a-b5c339bfaf54",
   "metadata": {},
   "outputs": [],
   "source": [
    "# from datasets import Dataset, DatasetDict, ClassLabel\n",
    "# import numpy as np\n",
    "\n",
    "# # Define your data dictionary\n",
    "# data_dict = {\n",
    "#     \"image\": [np.random.random((128, 128, 3)), np.random.random((128, 128, 3)), np.random.random((128, 128, 3))],\n",
    "#     \"label\": [0, 1, 2]  # Assuming label indices correspond to class labels\n",
    "# }\n",
    "\n",
    "# # Define the ClassLabel mapping\n",
    "# class_label = ClassLabel(num_classes=3, names=[\"Cat\", \"Dog\", \"Bird\"])\n",
    "\n",
    "# Create a Dataset using DatasetDict\n",
    "# dataset = DatasetDict({\n",
    "#     \"train\": Dataset.from_dict(data_dict, features={\"image\": \"image\", \"label\": class_label})\n",
    "# })\n",
    "\n",
    "# # Access and print the dataset\n",
    "# print(dataset)\n"
   ]
  },
  {
   "cell_type": "code",
   "execution_count": 2,
   "id": "6af0a35f-7db8-4dbb-88e8-82ff2bb05c8a",
   "metadata": {},
   "outputs": [
    {
     "name": "stderr",
     "output_type": "stream",
     "text": [
      "/Users/eilaarich-landkof-stanford/miniconda3/envs/transformers/lib/python3.8/site-packages/tqdm/auto.py:21: TqdmWarning: IProgress not found. Please update jupyter and ipywidgets. See https://ipywidgets.readthedocs.io/en/stable/user_install.html\n",
      "  from .autonotebook import tqdm as notebook_tqdm\n"
     ]
    }
   ],
   "source": []
  },
  {
   "cell_type": "code",
   "execution_count": 4,
   "id": "35c331f4-456d-47cf-a614-c9ae1129123f",
   "metadata": {},
   "outputs": [],
   "source": [
    "# class_label.str2int(\"progressor\")"
   ]
  },
  {
   "cell_type": "code",
   "execution_count": 29,
   "id": "8ed780d8-8be8-4fb7-be78-f233f65e5bea",
   "metadata": {},
   "outputs": [],
   "source": [
    "import tifffile\n",
    "# Define the ClassLabel mapping\n",
    "from datasets import Dataset, DatasetDict, ClassLabel\n",
    "\n",
    "class_label = ClassLabel(num_classes=2, names=[\"nonprogressor\", \"progressor\"])\n",
    "\n",
    "# call this for each one of the labels\n",
    "def load_47_channel_tif_to_dataset_object(list_of_images_files, label):\n",
    "    data_dict = {\n",
    "        \"image\" :[],\n",
    "        \"labels\": []\n",
    "    }\n",
    "    # data_dict = {\n",
    "    # \"image\": [image_data_1, image_data_2, image_data_3],\n",
    "    # \"label\": labels\n",
    "    # }\n",
    "    for image_path in list_of_images_files:\n",
    "        # Read the image\n",
    "        image_data = tifffile.imread(image_path)\n",
    "        # Check the shape of the image data\n",
    "        print(\"Image shape:\", image_data.shape)  # Should be (47, 1024, 1024)\n",
    "        data_dict[\"image\"].append([image_data])\n",
    "        data_dict[\"labels\"].append([class_label.str2int(label)])\n",
    "    return(data_dict)\n",
    "    # print(data_dict)\n",
    "        "
   ]
  },
  {
   "cell_type": "code",
   "execution_count": null,
   "id": "dcd08b2f-f0b6-4fe4-822d-5e31ea5b7cb4",
   "metadata": {},
   "outputs": [],
   "source": []
  }
 ],
 "metadata": {
  "kernelspec": {
   "display_name": "Python 3",
   "language": "python",
   "name": "python3"
  },
  "language_info": {
   "codemirror_mode": {
    "name": "ipython",
    "version": 3
   },
   "file_extension": ".py",
   "mimetype": "text/x-python",
   "name": "python",
   "nbconvert_exporter": "python",
   "pygments_lexer": "ipython3",
   "version": "3.9.17"
  }
 },
 "nbformat": 4,
 "nbformat_minor": 5
}
