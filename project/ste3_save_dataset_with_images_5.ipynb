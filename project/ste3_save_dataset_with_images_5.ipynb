{
  "nbformat": 4,
  "nbformat_minor": 0,
  "metadata": {
    "colab": {
      "provenance": [],
      "authorship_tag": "ABX9TyMZEFPqPibrLvcnBeHKtKfd",
      "include_colab_link": true
    },
    "kernelspec": {
      "name": "python3",
      "display_name": "Python 3"
    },
    "language_info": {
      "name": "python"
    },
    "accelerator": "TPU"
  },
  "cells": [
    {
      "cell_type": "markdown",
      "metadata": {
        "id": "view-in-github",
        "colab_type": "text"
      },
      "source": [
        "<a href=\"https://colab.research.google.com/github/ort-eila/csiseminar/blob/main/project/ste3_save_dataset_with_images_5.ipynb\" target=\"_parent\"><img src=\"https://colab.research.google.com/assets/colab-badge.svg\" alt=\"Open In Colab\"/></a>"
      ]
    },
    {
      "cell_type": "code",
      "source": [
        "# !pip install datasets transformers\n",
        "# !pip install --upgrade datasets\n"
      ],
      "metadata": {
        "id": "OldUIqyzUm8d"
      },
      "execution_count": 3,
      "outputs": []
    },
    {
      "cell_type": "code",
      "execution_count": 4,
      "metadata": {
        "colab": {
          "base_uri": "https://localhost:8080/"
        },
        "id": "VA9wr4JSTHXK",
        "outputId": "50070a95-2c0e-4298-8d90-5b5567773e87"
      },
      "outputs": [
        {
          "output_type": "stream",
          "name": "stdout",
          "text": [
            "Mounted at /content/gdrive\n"
          ]
        }
      ],
      "source": [
        "from google.colab import drive\n",
        "drive.mount(\"/content/gdrive\")"
      ]
    },
    {
      "cell_type": "code",
      "source": [
        "import os\n",
        "rgb_images_path = \"/content/gdrive/MyDrive/Seminar/project/immune_310_project/dataset/JPG_VECT_TO_IMG_224_224/train_validation_test\"\n",
        "\n",
        "\n",
        "# debug_rgb_images_path = \"/content/gdrive/MyDrive/Seminar/project/immune_310_project/output_folder\"\n",
        "output_json_file = os.path.join(rgb_images_path,'metadata.json')   # Output metadata JSON file name\n",
        "output_json_file"
      ],
      "metadata": {
        "id": "yCBBOmNSTNOr",
        "colab": {
          "base_uri": "https://localhost:8080/",
          "height": 35
        },
        "outputId": "e390b805-1fa5-49ef-d618-8d8aad9773c8"
      },
      "execution_count": 5,
      "outputs": [
        {
          "output_type": "execute_result",
          "data": {
            "text/plain": [
              "'/content/gdrive/MyDrive/Seminar/project/immune_310_project/dataset/JPG_VECT_TO_IMG_224_224/train_validation_test/metadata.json'"
            ],
            "application/vnd.google.colaboratory.intrinsic+json": {
              "type": "string"
            }
          },
          "metadata": {},
          "execution_count": 5
        }
      ]
    },
    {
      "cell_type": "code",
      "source": [
        "import datasets\n",
        "\n",
        "print(\"datasets version:\", datasets.__version__)\n"
      ],
      "metadata": {
        "colab": {
          "base_uri": "https://localhost:8080/"
        },
        "id": "XdaEVkvJbAVG",
        "outputId": "8a02dc22-3c63-4d4e-b56f-a732a406f05a"
      },
      "execution_count": 6,
      "outputs": [
        {
          "output_type": "stream",
          "name": "stdout",
          "text": [
            "datasets version: 2.14.4\n"
          ]
        }
      ]
    },
    {
      "cell_type": "code",
      "source": [
        "import os\n",
        "os.listdir(rgb_images_path)"
      ],
      "metadata": {
        "colab": {
          "base_uri": "https://localhost:8080/"
        },
        "id": "4lH6qQ_vVZ6R",
        "outputId": "69c65f92-37cf-4f2b-eb75-25bfe17ba2b5"
      },
      "execution_count": 7,
      "outputs": [
        {
          "output_type": "execute_result",
          "data": {
            "text/plain": [
              "['train', 'validation', 'test']"
            ]
          },
          "metadata": {},
          "execution_count": 7
        }
      ]
    },
    {
      "cell_type": "code",
      "source": [
        "os.path.basename(rgb_images_path)"
      ],
      "metadata": {
        "colab": {
          "base_uri": "https://localhost:8080/",
          "height": 35
        },
        "id": "1fNzmZq1ZBe6",
        "outputId": "881792d2-23c9-403b-f895-6a3476e7a28f"
      },
      "execution_count": 8,
      "outputs": [
        {
          "output_type": "execute_result",
          "data": {
            "text/plain": [
              "'train_validation_test'"
            ],
            "application/vnd.google.colaboratory.intrinsic+json": {
              "type": "string"
            }
          },
          "metadata": {},
          "execution_count": 8
        }
      ]
    },
    {
      "cell_type": "code",
      "source": [
        "os.path.exists(output_json_file)"
      ],
      "metadata": {
        "colab": {
          "base_uri": "https://localhost:8080/"
        },
        "id": "HBfS8IhmbuNS",
        "outputId": "11dfdeed-85e7-4c6b-bb28-8d47e6a586e0"
      },
      "execution_count": 9,
      "outputs": [
        {
          "output_type": "execute_result",
          "data": {
            "text/plain": [
              "False"
            ]
          },
          "metadata": {},
          "execution_count": 9
        }
      ]
    },
    {
      "cell_type": "code",
      "source": [
        "# os.listdir(root_folder)"
      ],
      "metadata": {
        "id": "42uSMxbVffLA"
      },
      "execution_count": 10,
      "outputs": []
    },
    {
      "cell_type": "code",
      "source": [
        "import os\n",
        "import json\n",
        "\n",
        "# Define the root folder\n",
        "root_folder = rgb_images_path  # Replace with your root folder containing subfolders\n",
        "output_json_file = os.path.join(root_folder,'metadata.json')   # Output metadata JSON file name\n",
        "if (os.path.exists(output_json_file) == False):\n",
        "  metadata = []\n",
        "  folders_to_iterate = os.listdir(root_folder)\n",
        "  folders_to_iterate = [x for x in folders_to_iterate if 'train' in x or 'validation' in x or 'test' in x]\n",
        "  print (\"folders_to_iterate is \",folders_to_iterate)\n",
        "  # Iterate through subfolders (train, validation, test)\n",
        "  for split_folder in folders_to_iterate:\n",
        "    print(\"split_folder is \",split_folder)\n",
        "    split_folder_path = os.path.join(root_folder, split_folder)\n",
        "\n",
        "    if os.path.isdir(split_folder_path):\n",
        "      for labels in os.listdir(split_folder_path):\n",
        "        label_folder = os.path.join(split_folder_path, labels)\n",
        "        print(\"label_folder is \",label_folder)\n",
        "\n",
        "        if os.path.isdir(label_folder):\n",
        "          for image_file in os.listdir(label_folder):\n",
        "            if image_file.endswith('.jpg'):\n",
        "              image_path = os.path.join(label_folder, image_file)\n",
        "              # labels is required for the training\n",
        "              metadata.append({\"image_path\": image_path, \"labels\": labels, \"split\": split_folder})\n",
        "\n",
        "  # Save metadata as JSON file\n",
        "  with open(output_json_file, 'w') as json_file:\n",
        "      json.dump(metadata, json_file, indent=4)\n",
        "\n",
        "  print(\"Metadata JSON file created:\", output_json_file)\n",
        "else:\n",
        "  print(\"Nothing to do. Metadata JSON file was created:\", output_json_file)\n"
      ],
      "metadata": {
        "colab": {
          "base_uri": "https://localhost:8080/"
        },
        "id": "JBA9vsIjXP16",
        "outputId": "b83bc2ff-9694-48b4-c7d1-18f7b468ff08"
      },
      "execution_count": 11,
      "outputs": [
        {
          "output_type": "stream",
          "name": "stdout",
          "text": [
            "folders_to_iterate is  ['train', 'validation', 'test']\n",
            "split_folder is  train\n",
            "label_folder is  /content/gdrive/MyDrive/Seminar/project/immune_310_project/dataset/JPG_VECT_TO_IMG_224_224/train_validation_test/train/progressor\n",
            "label_folder is  /content/gdrive/MyDrive/Seminar/project/immune_310_project/dataset/JPG_VECT_TO_IMG_224_224/train_validation_test/train/nonprogressor\n",
            "split_folder is  validation\n",
            "label_folder is  /content/gdrive/MyDrive/Seminar/project/immune_310_project/dataset/JPG_VECT_TO_IMG_224_224/train_validation_test/validation/progressor\n",
            "label_folder is  /content/gdrive/MyDrive/Seminar/project/immune_310_project/dataset/JPG_VECT_TO_IMG_224_224/train_validation_test/validation/nonprogressor\n",
            "split_folder is  test\n",
            "label_folder is  /content/gdrive/MyDrive/Seminar/project/immune_310_project/dataset/JPG_VECT_TO_IMG_224_224/train_validation_test/test/progressor\n",
            "label_folder is  /content/gdrive/MyDrive/Seminar/project/immune_310_project/dataset/JPG_VECT_TO_IMG_224_224/train_validation_test/test/nonprogressor\n",
            "Metadata JSON file created: /content/gdrive/MyDrive/Seminar/project/immune_310_project/dataset/JPG_VECT_TO_IMG_224_224/train_validation_test/metadata.json\n"
          ]
        }
      ]
    },
    {
      "cell_type": "code",
      "source": [
        "output_json_file"
      ],
      "metadata": {
        "colab": {
          "base_uri": "https://localhost:8080/",
          "height": 35
        },
        "id": "136y8YShdzqg",
        "outputId": "53b4d1e2-e885-4029-cc25-bc1aadb15668"
      },
      "execution_count": 12,
      "outputs": [
        {
          "output_type": "execute_result",
          "data": {
            "text/plain": [
              "'/content/gdrive/MyDrive/Seminar/project/immune_310_project/dataset/JPG_VECT_TO_IMG_224_224/train_validation_test/metadata.json'"
            ],
            "application/vnd.google.colaboratory.intrinsic+json": {
              "type": "string"
            }
          },
          "metadata": {},
          "execution_count": 12
        }
      ]
    },
    {
      "cell_type": "code",
      "source": [
        "# Function to load the image using PIL and add it to the dataset\n",
        "def load_pil_image(example):\n",
        "    image_path = example[\"image_path\"]\n",
        "    pil_image = Image.open(image_path)\n",
        "    example[\"pil_image\"] = pil_image\n",
        "    return example"
      ],
      "metadata": {
        "id": "OyvbLqEae4Y7"
      },
      "execution_count": 13,
      "outputs": []
    },
    {
      "cell_type": "code",
      "source": [
        "from datasets import Dataset\n",
        "from PIL import Image\n",
        "import json\n",
        "\n",
        "# Load the metadata from metadata.json\n",
        "with open(output_json_file, \"r\") as metadata_file:\n",
        "    metadata = json.load(metadata_file)\n",
        "\n",
        "# Organize the dataset entries by split\n",
        "datasets_by_split = {\"train\": [], \"test\": [], \"validation\": []}\n",
        "\n",
        "for entry in metadata:\n",
        "    image_path = entry[\"image_path\"]\n",
        "    labels = entry[\"labels\"]\n",
        "    split = entry[\"split\"]\n",
        "\n",
        "    datasets_by_split[split].append({\"image_path\": image_path, \"labels\": labels})\n",
        "\n",
        "# Convert the organized datasets into Dataset objects\n",
        "dataset_objects = {}\n",
        "\n",
        "for split, entries in datasets_by_split.items():\n",
        "    dataset_objects[split] = Dataset.from_dict({\"image_path\": [entry[\"image_path\"] for entry in entries],\n",
        "                                                \"labels\": [entry[\"labels\"] for entry in entries]})\n",
        "\n",
        "# Apply the load_pil_image method to all images in all datasets\n",
        "for split in dataset_objects.keys():\n",
        "    dataset_objects[split] = dataset_objects[split].map(load_pil_image)\n",
        "\n",
        "# Create a single dataset with subdatasets\n",
        "combined_dataset = dataset_objects\n",
        "\n",
        "# Access the train, validation, and test splits\n",
        "train_dataset = combined_dataset[\"train\"]\n",
        "validation_dataset = combined_dataset[\"validation\"]\n",
        "test_dataset = combined_dataset[\"test\"]\n",
        "\n",
        "print(\"Datasets loaded and split, and images loaded as PIL images.\")\n"
      ],
      "metadata": {
        "colab": {
          "base_uri": "https://localhost:8080/",
          "height": 246
        },
        "id": "kpOxDs1fmixe",
        "outputId": "ef663112-2c7c-4a1d-b406-a07c534164fb"
      },
      "execution_count": 14,
      "outputs": [
        {
          "output_type": "error",
          "ename": "KeyError",
          "evalue": "ignored",
          "traceback": [
            "\u001b[0;31m---------------------------------------------------------------------------\u001b[0m",
            "\u001b[0;31mKeyError\u001b[0m                                  Traceback (most recent call last)",
            "\u001b[0;32m<ipython-input-14-7bf185c9fc61>\u001b[0m in \u001b[0;36m<cell line: 12>\u001b[0;34m()\u001b[0m\n\u001b[1;32m     12\u001b[0m \u001b[0;32mfor\u001b[0m \u001b[0mentry\u001b[0m \u001b[0;32min\u001b[0m \u001b[0mmetadata\u001b[0m\u001b[0;34m:\u001b[0m\u001b[0;34m\u001b[0m\u001b[0;34m\u001b[0m\u001b[0m\n\u001b[1;32m     13\u001b[0m     \u001b[0mimage_path\u001b[0m \u001b[0;34m=\u001b[0m \u001b[0mentry\u001b[0m\u001b[0;34m[\u001b[0m\u001b[0;34m\"image_path\"\u001b[0m\u001b[0;34m]\u001b[0m\u001b[0;34m\u001b[0m\u001b[0;34m\u001b[0m\u001b[0m\n\u001b[0;32m---> 14\u001b[0;31m     \u001b[0mlabels\u001b[0m \u001b[0;34m=\u001b[0m \u001b[0mentry\u001b[0m\u001b[0;34m[\u001b[0m\u001b[0;34m\"label\"\u001b[0m\u001b[0;34m]\u001b[0m\u001b[0;34m\u001b[0m\u001b[0;34m\u001b[0m\u001b[0m\n\u001b[0m\u001b[1;32m     15\u001b[0m     \u001b[0msplit\u001b[0m \u001b[0;34m=\u001b[0m \u001b[0mentry\u001b[0m\u001b[0;34m[\u001b[0m\u001b[0;34m\"split\"\u001b[0m\u001b[0;34m]\u001b[0m\u001b[0;34m\u001b[0m\u001b[0;34m\u001b[0m\u001b[0m\n\u001b[1;32m     16\u001b[0m \u001b[0;34m\u001b[0m\u001b[0m\n",
            "\u001b[0;31mKeyError\u001b[0m: 'label'"
          ]
        }
      ]
    },
    {
      "cell_type": "code",
      "source": [
        "ds = combined_dataset"
      ],
      "metadata": {
        "id": "Dyhkf9ZQmrZJ"
      },
      "execution_count": null,
      "outputs": []
    },
    {
      "cell_type": "code",
      "source": [
        "ds[\"train\"]"
      ],
      "metadata": {
        "id": "m81W5Fp6jhkw"
      },
      "execution_count": null,
      "outputs": []
    },
    {
      "cell_type": "code",
      "source": [
        "ds[\"validation\"]"
      ],
      "metadata": {
        "id": "MPffk00WmAyu"
      },
      "execution_count": null,
      "outputs": []
    },
    {
      "cell_type": "code",
      "source": [
        "ds[\"test\"]"
      ],
      "metadata": {
        "id": "dhfpQ1QElNTG"
      },
      "execution_count": null,
      "outputs": []
    },
    {
      "cell_type": "code",
      "source": [
        "ds"
      ],
      "metadata": {
        "id": "Zynj3iVQc3Cx"
      },
      "execution_count": null,
      "outputs": []
    },
    {
      "cell_type": "code",
      "source": [
        "# Apply the function to each example in the dataset\n",
        "# ds = ds.map(load_pil_image)\n",
        "train_dataset"
      ],
      "metadata": {
        "id": "oKq9z_Qfe7KA"
      },
      "execution_count": null,
      "outputs": []
    },
    {
      "cell_type": "code",
      "source": [
        "type(ds)"
      ],
      "metadata": {
        "id": "ky5WvJ6-r5nV"
      },
      "execution_count": null,
      "outputs": []
    },
    {
      "cell_type": "code",
      "source": [
        "for val in [\"train\",\"validation\",\"test\"]:\n",
        "\n",
        "  ds_with_pil_images_fld = os.path.join(rgb_images_path,'ds_with_pil_images',val)   # Output metadata JSON file name\n",
        "  print(\"ds_with_pil_images_fld is {}\".format(ds_with_pil_images_fld))\n",
        "  os.makedirs(ds_with_pil_images_fld,exist_ok=True)\n",
        "  ds[val].save_to_disk(ds_with_pil_images_fld)\n",
        "  print(\"Datasets saved to disk with PIL images. \",val)\n",
        "# will be used by step 4"
      ],
      "metadata": {
        "id": "3c-FPgoVcE9P"
      },
      "execution_count": null,
      "outputs": []
    },
    {
      "cell_type": "code",
      "source": [
        ""
      ],
      "metadata": {
        "id": "-zgzP3d55aU7"
      },
      "execution_count": null,
      "outputs": []
    }
  ]
}