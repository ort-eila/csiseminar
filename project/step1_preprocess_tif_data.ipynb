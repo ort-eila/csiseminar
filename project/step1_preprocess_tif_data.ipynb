{
  "cells": [
    {
      "cell_type": "markdown",
      "metadata": {
        "id": "view-in-github",
        "colab_type": "text"
      },
      "source": [
        "<a href=\"https://colab.research.google.com/github/ort-eila/csiseminar/blob/main/project/step1_preprocess_tif_data.ipynb\" target=\"_parent\"><img src=\"https://colab.research.google.com/assets/colab-badge.svg\" alt=\"Open In Colab\"/></a>"
      ]
    },
    {
      "cell_type": "code",
      "source": [
        "from google.colab import drive\n",
        "drive.mount(\"/content/gdrive\")"
      ],
      "metadata": {
        "colab": {
          "base_uri": "https://localhost:8080/"
        },
        "id": "Dt7ufZU_tpgK",
        "outputId": "4a5e21a8-5752-469d-ff83-19709c1bc51c"
      },
      "id": "Dt7ufZU_tpgK",
      "execution_count": 1,
      "outputs": [
        {
          "output_type": "stream",
          "name": "stdout",
          "text": [
            "Drive already mounted at /content/gdrive; to attempt to forcibly remount, call drive.mount(\"/content/gdrive\", force_remount=True).\n"
          ]
        }
      ]
    },
    {
      "cell_type": "code",
      "source": [
        "csv_labels_file = \"/content/gdrive/MyDrive/Seminar/project_candanace/patient_status.csv\"\n",
        "images_path = \"/content/gdrive/MyDrive/Seminar/project_candanace/dcis_cohort/\"\n",
        "dataset_images_path = \"/content/gdrive/MyDrive/Seminar/immune_310_project/\"\n",
        "root_dir = \"/content/gdrive/MyDrive/Seminar/project/immune_310_project\""
      ],
      "metadata": {
        "id": "GkyHABjXt1Sb"
      },
      "id": "GkyHABjXt1Sb",
      "execution_count": 2,
      "outputs": []
    },
    {
      "cell_type": "code",
      "execution_count": 3,
      "id": "d8d2c4ba-6a03-4621-89e1-2a91f4bf1042",
      "metadata": {
        "colab": {
          "base_uri": "https://localhost:8080/"
        },
        "id": "d8d2c4ba-6a03-4621-89e1-2a91f4bf1042",
        "outputId": "87ee51ac-1857-491b-ff59-efd6f97743d1"
      },
      "outputs": [
        {
          "output_type": "stream",
          "name": "stdout",
          "text": [
            "csv_labels_file is /content/gdrive/MyDrive/Seminar/project_candanace/patient_status.csv\n",
            "images_path is /content/gdrive/MyDrive/Seminar/project_candanace/dcis_cohort/\n"
          ]
        }
      ],
      "source": [
        "import os\n",
        "print(\"csv_labels_file is {}\".format(csv_labels_file))\n",
        "print(\"images_path is {}\".format(images_path))"
      ]
    },
    {
      "cell_type": "code",
      "execution_count": 4,
      "id": "f2be4f13-b8f6-4702-83ae-caf963c0a8ac",
      "metadata": {
        "colab": {
          "base_uri": "https://localhost:8080/"
        },
        "id": "f2be4f13-b8f6-4702-83ae-caf963c0a8ac",
        "outputId": "b82ddac2-0ea7-48e2-b1f2-fd4c8ff4c073"
      },
      "outputs": [
        {
          "output_type": "stream",
          "name": "stdout",
          "text": [
            "   PointNumber         Status\n",
            "0         2203  nonprogressor\n",
            "1         2204  nonprogressor\n",
            "2         2206  nonprogressor\n",
            "3         2302  nonprogressor\n",
            "4         2303  nonprogressor\n"
          ]
        }
      ],
      "source": [
        "import pandas as pd\n",
        "\n",
        "# Read the CSV file using pandas\n",
        "df = pd.read_csv(csv_labels_file,index_col=False)\n",
        "\n",
        "# Print the DataFrame (optional)\n",
        "print(df.head())"
      ]
    },
    {
      "cell_type": "code",
      "execution_count": 5,
      "id": "930f2903-5de3-4ca1-a634-67d8edf4ba95",
      "metadata": {
        "colab": {
          "base_uri": "https://localhost:8080/",
          "height": 35
        },
        "id": "930f2903-5de3-4ca1-a634-67d8edf4ba95",
        "outputId": "d62cc574-3dfd-4107-9e5d-bb3853c513cc"
      },
      "outputs": [
        {
          "output_type": "execute_result",
          "data": {
            "text/plain": [
              "'nonprogressor'"
            ],
            "application/vnd.google.colaboratory.intrinsic+json": {
              "type": "string"
            }
          },
          "metadata": {},
          "execution_count": 5
        }
      ],
      "source": [
        "df[df['PointNumber'] == 2203]['Status'].values[0]"
      ]
    },
    {
      "cell_type": "code",
      "execution_count": 6,
      "id": "e6c75884-3922-423a-8591-45e3255b07c8",
      "metadata": {
        "id": "e6c75884-3922-423a-8591-45e3255b07c8"
      },
      "outputs": [],
      "source": [
        "# collapse tif files to one file\n",
        "def collapse_tif_files(path_to_files,point_number):\n",
        "    collpase_file_path = \"\"\n",
        "    return collpase_file_path"
      ]
    },
    {
      "cell_type": "code",
      "source": [
        "images_path"
      ],
      "metadata": {
        "colab": {
          "base_uri": "https://localhost:8080/",
          "height": 35
        },
        "id": "LUSm03Sdx3So",
        "outputId": "1a865e4b-9fd4-461b-b097-3b0b6eb16b8d"
      },
      "id": "LUSm03Sdx3So",
      "execution_count": 7,
      "outputs": [
        {
          "output_type": "execute_result",
          "data": {
            "text/plain": [
              "'/content/gdrive/MyDrive/Seminar/project_candanace/dcis_cohort/'"
            ],
            "application/vnd.google.colaboratory.intrinsic+json": {
              "type": "string"
            }
          },
          "metadata": {},
          "execution_count": 7
        }
      ]
    },
    {
      "cell_type": "code",
      "execution_count": 8,
      "id": "80a343b6-6540-4fc3-af4c-a66a2e353d23",
      "metadata": {
        "colab": {
          "base_uri": "https://localhost:8080/"
        },
        "id": "80a343b6-6540-4fc3-af4c-a66a2e353d23",
        "outputId": "25e3a1ba-239b-41ad-9927-744343ea2d45"
      },
      "outputs": [
        {
          "output_type": "execute_result",
          "data": {
            "text/plain": [
              "['Point4403', 'Point6103', 'Point4404', 'Point2301', 'Point2306']"
            ]
          },
          "metadata": {},
          "execution_count": 8
        }
      ],
      "source": [
        "# organize the images based on labels\n",
        "list_of_patients_points = os.listdir(images_path)\n",
        "list_of_patients_points = [x for x in list_of_patients_points if \".DS\" not in x and \".ipynb\" not in x]\n",
        "list_of_patients_points[0:5]"
      ]
    },
    {
      "cell_type": "code",
      "execution_count": 9,
      "id": "6d6c682e-c8d9-4bbf-82d7-eff01d826c03",
      "metadata": {
        "id": "6d6c682e-c8d9-4bbf-82d7-eff01d826c03"
      },
      "outputs": [],
      "source": [
        "# df[df['PointNumber'] == 4115]['Status'].values[0]"
      ]
    },
    {
      "cell_type": "code",
      "execution_count": 10,
      "id": "5cab2214-8629-4d26-9642-3d80962d5e81",
      "metadata": {
        "id": "5cab2214-8629-4d26-9642-3d80962d5e81"
      },
      "outputs": [],
      "source": [
        "# dictionary of all the patients with image & label\n",
        "point_dict = {}\n",
        "for pp in list_of_patients_points:\n",
        "    label = \"\"\n",
        "    point = int(pp.split(\"_\")[0].replace(\"Point\", \"\"))\n",
        "    # print(\"point is {}\".format(point))\n",
        "    # print(type(point))\n",
        "    fld = os.path.join(images_path,pp)\n",
        "    # Check if the specific PointNumber is available in the DataFrame\n",
        "    is_available = point in df['PointNumber'].values\n",
        "    if is_available is False:\n",
        "        # print(\"point {} does not exist\".format(point))\n",
        "        continue\n",
        "    else:\n",
        "        label = df[df['PointNumber'] == point]['Status'].values[0]\n",
        "    point_dict[str(point)] = {\"fld\":fld,\"label\":label}"
      ]
    },
    {
      "cell_type": "code",
      "execution_count": 11,
      "id": "690e9292-7e68-4457-96f0-ffdc5a4254ee",
      "metadata": {
        "colab": {
          "base_uri": "https://localhost:8080/"
        },
        "id": "690e9292-7e68-4457-96f0-ffdc5a4254ee",
        "outputId": "9bcf4a5e-967f-4cc3-b1dc-fbf92a509b7c"
      },
      "outputs": [
        {
          "output_type": "execute_result",
          "data": {
            "text/plain": [
              "True"
            ]
          },
          "metadata": {},
          "execution_count": 11
        }
      ],
      "source": [
        "len(point_dict) == 58"
      ]
    },
    {
      "cell_type": "code",
      "source": [
        "dataset_images_path"
      ],
      "metadata": {
        "colab": {
          "base_uri": "https://localhost:8080/",
          "height": 35
        },
        "id": "bh7MM_iJzCxG",
        "outputId": "53479922-3b20-463a-e557-0890a1f377fa"
      },
      "id": "bh7MM_iJzCxG",
      "execution_count": 12,
      "outputs": [
        {
          "output_type": "execute_result",
          "data": {
            "text/plain": [
              "'/content/gdrive/MyDrive/Seminar/immune_310_project/'"
            ],
            "application/vnd.google.colaboratory.intrinsic+json": {
              "type": "string"
            }
          },
          "metadata": {},
          "execution_count": 12
        }
      ]
    },
    {
      "cell_type": "code",
      "execution_count": 13,
      "id": "89f47103-ad9e-4513-9adc-65707e9fd0b1",
      "metadata": {
        "colab": {
          "base_uri": "https://localhost:8080/"
        },
        "id": "89f47103-ad9e-4513-9adc-65707e9fd0b1",
        "outputId": "ed1f3cfc-4e1f-4577-cb65-983382786448"
      },
      "outputs": [
        {
          "output_type": "stream",
          "name": "stdout",
          "text": [
            "dataset_images_path is /content/gdrive/MyDrive/Seminar/immune_310_project/\n"
          ]
        }
      ],
      "source": [
        "# create folder for the images data npy in order\n",
        "# dataset_images_path = os.path.join(root_dir,\"Data/dataset_images\")\n",
        "print(\"dataset_images_path is {}\".format(dataset_images_path))\n",
        "os.makedirs(dataset_images_path,exist_ok=True)"
      ]
    },
    {
      "cell_type": "code",
      "execution_count": 14,
      "id": "b4a0d74d-2772-41bf-aaa8-a9e9257baff3",
      "metadata": {
        "id": "b4a0d74d-2772-41bf-aaa8-a9e9257baff3"
      },
      "outputs": [],
      "source": [
        "# images_channels_order"
      ]
    },
    {
      "cell_type": "code",
      "execution_count": 15,
      "id": "f500bcbd-22d3-4765-a054-9d66a544d559",
      "metadata": {
        "colab": {
          "base_uri": "https://localhost:8080/"
        },
        "id": "f500bcbd-22d3-4765-a054-9d66a544d559",
        "outputId": "6c2139eb-c306-407d-b83d-118472350165"
      },
      "outputs": [
        {
          "output_type": "stream",
          "name": "stdout",
          "text": [
            "2378\n",
            "41\n"
          ]
        },
        {
          "output_type": "execute_result",
          "data": {
            "text/plain": [
              "['CD14.tif', 'HIF1a.tif', 'ECADKRT.tif', 'P63.tif']"
            ]
          },
          "metadata": {},
          "execution_count": 15
        }
      ],
      "source": [
        "# get unique list of all the possible tif images\n",
        "# get all the channels available for all patients and then run unique (set) the list\n",
        "images_channels_order = []\n",
        "remove_channels = [\"P.tif\",\"140empty.tif\",\"Background.tif\",\"Na.tif\",\"Ca40.tif\",\"C.tif\",\"Ta.tif\",\"Au.tif\",\"ECADKRTCD45.tif\",\"ECADKRTCD45GLUT1.tif\",\"ECADKRTCD45GLUT1CD44.tif\"]\n",
        "for point, value in point_dict.items():\n",
        "    # print(\"point is {} value is {}\".format(point,value))\n",
        "    raw_data_path = os.path.join(value['fld'],\"TIFs\")\n",
        "    # print(\"raw_data_path is {}\".format(raw_data_path))\n",
        "    patient_tif_raw_images_list = os.listdir(raw_data_path) # list of all the channels of the patient\n",
        "    # print(\"patient_tif_raw_images_list is {}\".format(patient_tif_raw_images_list))\n",
        "    # print(\"(len(original_tif_raw_images) before filter are {}\".format(len(original_tif_raw_images)))\n",
        "    patients_tif_channels = [item for item in patient_tif_raw_images_list if item not in remove_channels]\n",
        "    # print(\"patient's_tif_channels are {}\".format(patients_tif_channels))\n",
        "    tif_raw_images = [x.split(\".tif\")[0] for x in patients_tif_channels]\n",
        "    # print(\"after split tif_raw_images are {}\".format(tif_raw_images))\n",
        "    images_channels_order.extend(tif_raw_images)\n",
        "# get unique values\n",
        "print(len(images_channels_order))\n",
        "images_channels_order = list(set(images_channels_order))\n",
        "print(len(images_channels_order))\n",
        "\n",
        "\n",
        "images_channels_order = [x+\".tif\" for x in images_channels_order if \".DS_Store\" not in x]\n",
        "# and \"SMA\" not in x and \"PanKRT\" not in x]\n",
        "images_channels_order[0:4]"
      ]
    },
    {
      "cell_type": "code",
      "execution_count": 16,
      "id": "d92da97c-430e-4acc-a6d8-f2c0d84c7d17",
      "metadata": {
        "id": "d92da97c-430e-4acc-a6d8-f2c0d84c7d17"
      },
      "outputs": [],
      "source": [
        "import os\n",
        "import numpy as np\n",
        "from PIL import Image\n",
        "\n",
        "def save_channels_as_npy(tif_path, tif_order, output_npy_path, width=1024, height=1024):\n",
        "    channels = len(tif_order)\n",
        "    channel_data = []\n",
        "\n",
        "    # Loop through each channel and stack the data\n",
        "    for i, tif_file in enumerate(tif_order):\n",
        "        tif_file_path = os.path.join(tif_path, tif_file)\n",
        "        if not os.path.isfile(tif_file_path):\n",
        "            # Channel not found, fill with zeros\n",
        "            channel_data.append(np.zeros((height, width), dtype=np.uint8))\n",
        "        else:\n",
        "            image_data = Image.open(tif_file_path)\n",
        "\n",
        "            # Check if the image is already of the desired size (1024x1024)\n",
        "            if image_data.size != (width, height):\n",
        "                raise ValueError(f\"Image {tif_file} is not of size {width}x{height}\")\n",
        "\n",
        "            # Convert the image to grayscale and stack it\n",
        "            channel_data.append(np.array(image_data))\n",
        "\n",
        "    # Stack the channel data into a single NumPy array\n",
        "    channel_data = np.stack(channel_data, axis=0)\n",
        "\n",
        "    # Save the channel data as an NPZ file\n",
        "    np.savez(output_npy_path, channel_data=channel_data)\n"
      ]
    },
    {
      "cell_type": "markdown",
      "source": [
        "# New Section"
      ],
      "metadata": {
        "id": "OeAdUKZ_vf9H"
      },
      "id": "OeAdUKZ_vf9H"
    },
    {
      "cell_type": "code",
      "execution_count": 17,
      "id": "10be4442-048b-431b-80cb-51527e0b6541",
      "metadata": {
        "colab": {
          "base_uri": "https://localhost:8080/"
        },
        "id": "10be4442-048b-431b-80cb-51527e0b6541",
        "outputId": "8671b1e5-23bc-41f8-f117-af06bffe057c"
      },
      "outputs": [
        {
          "output_type": "stream",
          "name": "stdout",
          "text": [
            "Point: 6103, Value: {'fld': '/content/gdrive/MyDrive/Seminar/project_candanace/dcis_cohort/Point6103', 'label': 'progressor'}\n",
            "raw_data_path is /content/gdrive/MyDrive/Seminar/project_candanace/dcis_cohort/Point6103/TIFs\n",
            "label_fld is /content/gdrive/MyDrive/Seminar/project/immune_310_project/dataset/NPY_41_channels/labels/progressor\n",
            "output_path is /content/gdrive/MyDrive/Seminar/project/immune_310_project/dataset/NPY_41_channels/labels/progressor/6103.npz\n",
            "Point: 2306, Value: {'fld': '/content/gdrive/MyDrive/Seminar/project_candanace/dcis_cohort/Point2306', 'label': 'progressor'}\n",
            "raw_data_path is /content/gdrive/MyDrive/Seminar/project_candanace/dcis_cohort/Point2306/TIFs\n",
            "label_fld is /content/gdrive/MyDrive/Seminar/project/immune_310_project/dataset/NPY_41_channels/labels/progressor\n",
            "output_path is /content/gdrive/MyDrive/Seminar/project/immune_310_project/dataset/NPY_41_channels/labels/progressor/2306.npz\n",
            "Point: 2309, Value: {'fld': '/content/gdrive/MyDrive/Seminar/project_candanace/dcis_cohort/Point2309', 'label': 'nonprogressor'}\n",
            "raw_data_path is /content/gdrive/MyDrive/Seminar/project_candanace/dcis_cohort/Point2309/TIFs\n",
            "label_fld is /content/gdrive/MyDrive/Seminar/project/immune_310_project/dataset/NPY_41_channels/labels/nonprogressor\n",
            "output_path is /content/gdrive/MyDrive/Seminar/project/immune_310_project/dataset/NPY_41_channels/labels/nonprogressor/2309.npz\n",
            "Point: 2331, Value: {'fld': '/content/gdrive/MyDrive/Seminar/project_candanace/dcis_cohort/Point2331', 'label': 'nonprogressor'}\n",
            "raw_data_path is /content/gdrive/MyDrive/Seminar/project_candanace/dcis_cohort/Point2331/TIFs\n",
            "label_fld is /content/gdrive/MyDrive/Seminar/project/immune_310_project/dataset/NPY_41_channels/labels/nonprogressor\n",
            "output_path is /content/gdrive/MyDrive/Seminar/project/immune_310_project/dataset/NPY_41_channels/labels/nonprogressor/2331.npz\n",
            "Point: 5310, Value: {'fld': '/content/gdrive/MyDrive/Seminar/project_candanace/dcis_cohort/Point5310', 'label': 'progressor'}\n",
            "raw_data_path is /content/gdrive/MyDrive/Seminar/project_candanace/dcis_cohort/Point5310/TIFs\n",
            "label_fld is /content/gdrive/MyDrive/Seminar/project/immune_310_project/dataset/NPY_41_channels/labels/progressor\n",
            "output_path is /content/gdrive/MyDrive/Seminar/project/immune_310_project/dataset/NPY_41_channels/labels/progressor/5310.npz\n",
            "Point: 6102, Value: {'fld': '/content/gdrive/MyDrive/Seminar/project_candanace/dcis_cohort/Point6102', 'label': 'progressor'}\n",
            "raw_data_path is /content/gdrive/MyDrive/Seminar/project_candanace/dcis_cohort/Point6102/TIFs\n",
            "label_fld is /content/gdrive/MyDrive/Seminar/project/immune_310_project/dataset/NPY_41_channels/labels/progressor\n",
            "output_path is /content/gdrive/MyDrive/Seminar/project/immune_310_project/dataset/NPY_41_channels/labels/progressor/6102.npz\n",
            "Point: 3104, Value: {'fld': '/content/gdrive/MyDrive/Seminar/project_candanace/dcis_cohort/Point3104', 'label': 'nonprogressor'}\n",
            "raw_data_path is /content/gdrive/MyDrive/Seminar/project_candanace/dcis_cohort/Point3104/TIFs\n",
            "label_fld is /content/gdrive/MyDrive/Seminar/project/immune_310_project/dataset/NPY_41_channels/labels/nonprogressor\n",
            "output_path is /content/gdrive/MyDrive/Seminar/project/immune_310_project/dataset/NPY_41_channels/labels/nonprogressor/3104.npz\n",
            "Point: 3102, Value: {'fld': '/content/gdrive/MyDrive/Seminar/project_candanace/dcis_cohort/Point3102', 'label': 'nonprogressor'}\n",
            "raw_data_path is /content/gdrive/MyDrive/Seminar/project_candanace/dcis_cohort/Point3102/TIFs\n",
            "label_fld is /content/gdrive/MyDrive/Seminar/project/immune_310_project/dataset/NPY_41_channels/labels/nonprogressor\n",
            "output_path is /content/gdrive/MyDrive/Seminar/project/immune_310_project/dataset/NPY_41_channels/labels/nonprogressor/3102.npz\n",
            "Point: 3105, Value: {'fld': '/content/gdrive/MyDrive/Seminar/project_candanace/dcis_cohort/Point3105', 'label': 'progressor'}\n",
            "raw_data_path is /content/gdrive/MyDrive/Seminar/project_candanace/dcis_cohort/Point3105/TIFs\n",
            "label_fld is /content/gdrive/MyDrive/Seminar/project/immune_310_project/dataset/NPY_41_channels/labels/progressor\n",
            "output_path is /content/gdrive/MyDrive/Seminar/project/immune_310_project/dataset/NPY_41_channels/labels/progressor/3105.npz\n",
            "Point: 6203, Value: {'fld': '/content/gdrive/MyDrive/Seminar/project_candanace/dcis_cohort/Point6203', 'label': 'progressor'}\n",
            "raw_data_path is /content/gdrive/MyDrive/Seminar/project_candanace/dcis_cohort/Point6203/TIFs\n",
            "label_fld is /content/gdrive/MyDrive/Seminar/project/immune_310_project/dataset/NPY_41_channels/labels/progressor\n",
            "output_path is /content/gdrive/MyDrive/Seminar/project/immune_310_project/dataset/NPY_41_channels/labels/progressor/6203.npz\n",
            "Point: 6204, Value: {'fld': '/content/gdrive/MyDrive/Seminar/project_candanace/dcis_cohort/Point6204', 'label': 'progressor'}\n",
            "raw_data_path is /content/gdrive/MyDrive/Seminar/project_candanace/dcis_cohort/Point6204/TIFs\n",
            "label_fld is /content/gdrive/MyDrive/Seminar/project/immune_310_project/dataset/NPY_41_channels/labels/progressor\n",
            "output_path is /content/gdrive/MyDrive/Seminar/project/immune_310_project/dataset/NPY_41_channels/labels/progressor/6204.npz\n",
            "Point: 3120, Value: {'fld': '/content/gdrive/MyDrive/Seminar/project_candanace/dcis_cohort/Point3120', 'label': 'nonprogressor'}\n",
            "raw_data_path is /content/gdrive/MyDrive/Seminar/project_candanace/dcis_cohort/Point3120/TIFs\n",
            "label_fld is /content/gdrive/MyDrive/Seminar/project/immune_310_project/dataset/NPY_41_channels/labels/nonprogressor\n",
            "output_path is /content/gdrive/MyDrive/Seminar/project/immune_310_project/dataset/NPY_41_channels/labels/nonprogressor/3120.npz\n",
            "Point: 3129, Value: {'fld': '/content/gdrive/MyDrive/Seminar/project_candanace/dcis_cohort/Point3129', 'label': 'nonprogressor'}\n",
            "raw_data_path is /content/gdrive/MyDrive/Seminar/project_candanace/dcis_cohort/Point3129/TIFs\n",
            "label_fld is /content/gdrive/MyDrive/Seminar/project/immune_310_project/dataset/NPY_41_channels/labels/nonprogressor\n",
            "output_path is /content/gdrive/MyDrive/Seminar/project/immune_310_project/dataset/NPY_41_channels/labels/nonprogressor/3129.npz\n",
            "Point: 3111, Value: {'fld': '/content/gdrive/MyDrive/Seminar/project_candanace/dcis_cohort/Point3111', 'label': 'nonprogressor'}\n",
            "raw_data_path is /content/gdrive/MyDrive/Seminar/project_candanace/dcis_cohort/Point3111/TIFs\n",
            "label_fld is /content/gdrive/MyDrive/Seminar/project/immune_310_project/dataset/NPY_41_channels/labels/nonprogressor\n",
            "output_path is /content/gdrive/MyDrive/Seminar/project/immune_310_project/dataset/NPY_41_channels/labels/nonprogressor/3111.npz\n",
            "Point: 3110, Value: {'fld': '/content/gdrive/MyDrive/Seminar/project_candanace/dcis_cohort/Point3110', 'label': 'nonprogressor'}\n",
            "raw_data_path is /content/gdrive/MyDrive/Seminar/project_candanace/dcis_cohort/Point3110/TIFs\n",
            "label_fld is /content/gdrive/MyDrive/Seminar/project/immune_310_project/dataset/NPY_41_channels/labels/nonprogressor\n",
            "output_path is /content/gdrive/MyDrive/Seminar/project/immune_310_project/dataset/NPY_41_channels/labels/nonprogressor/3110.npz\n",
            "Point: 2204, Value: {'fld': '/content/gdrive/MyDrive/Seminar/project_candanace/dcis_cohort/Point2204', 'label': 'nonprogressor'}\n",
            "raw_data_path is /content/gdrive/MyDrive/Seminar/project_candanace/dcis_cohort/Point2204/TIFs\n",
            "label_fld is /content/gdrive/MyDrive/Seminar/project/immune_310_project/dataset/NPY_41_channels/labels/nonprogressor\n",
            "output_path is /content/gdrive/MyDrive/Seminar/project/immune_310_project/dataset/NPY_41_channels/labels/nonprogressor/2204.npz\n",
            "Point: 3128, Value: {'fld': '/content/gdrive/MyDrive/Seminar/project_candanace/dcis_cohort/Point3128', 'label': 'nonprogressor'}\n",
            "raw_data_path is /content/gdrive/MyDrive/Seminar/project_candanace/dcis_cohort/Point3128/TIFs\n",
            "label_fld is /content/gdrive/MyDrive/Seminar/project/immune_310_project/dataset/NPY_41_channels/labels/nonprogressor\n",
            "output_path is /content/gdrive/MyDrive/Seminar/project/immune_310_project/dataset/NPY_41_channels/labels/nonprogressor/3128.npz\n",
            "Point: 3117, Value: {'fld': '/content/gdrive/MyDrive/Seminar/project_candanace/dcis_cohort/Point3117', 'label': 'nonprogressor'}\n",
            "raw_data_path is /content/gdrive/MyDrive/Seminar/project_candanace/dcis_cohort/Point3117/TIFs\n",
            "label_fld is /content/gdrive/MyDrive/Seminar/project/immune_310_project/dataset/NPY_41_channels/labels/nonprogressor\n",
            "output_path is /content/gdrive/MyDrive/Seminar/project/immune_310_project/dataset/NPY_41_channels/labels/nonprogressor/3117.npz\n",
            "Point: 2203, Value: {'fld': '/content/gdrive/MyDrive/Seminar/project_candanace/dcis_cohort/Point2203', 'label': 'nonprogressor'}\n",
            "raw_data_path is /content/gdrive/MyDrive/Seminar/project_candanace/dcis_cohort/Point2203/TIFs\n",
            "label_fld is /content/gdrive/MyDrive/Seminar/project/immune_310_project/dataset/NPY_41_channels/labels/nonprogressor\n",
            "output_path is /content/gdrive/MyDrive/Seminar/project/immune_310_project/dataset/NPY_41_channels/labels/nonprogressor/2203.npz\n",
            "Point: 3121, Value: {'fld': '/content/gdrive/MyDrive/Seminar/project_candanace/dcis_cohort/Point3121', 'label': 'nonprogressor'}\n",
            "raw_data_path is /content/gdrive/MyDrive/Seminar/project_candanace/dcis_cohort/Point3121/TIFs\n",
            "label_fld is /content/gdrive/MyDrive/Seminar/project/immune_310_project/dataset/NPY_41_channels/labels/nonprogressor\n",
            "output_path is /content/gdrive/MyDrive/Seminar/project/immune_310_project/dataset/NPY_41_channels/labels/nonprogressor/3121.npz\n",
            "Point: 3119, Value: {'fld': '/content/gdrive/MyDrive/Seminar/project_candanace/dcis_cohort/Point3119', 'label': 'nonprogressor'}\n",
            "raw_data_path is /content/gdrive/MyDrive/Seminar/project_candanace/dcis_cohort/Point3119/TIFs\n",
            "label_fld is /content/gdrive/MyDrive/Seminar/project/immune_310_project/dataset/NPY_41_channels/labels/nonprogressor\n",
            "output_path is /content/gdrive/MyDrive/Seminar/project/immune_310_project/dataset/NPY_41_channels/labels/nonprogressor/3119.npz\n",
            "Point: 6202, Value: {'fld': '/content/gdrive/MyDrive/Seminar/project_candanace/dcis_cohort/Point6202', 'label': 'progressor'}\n",
            "raw_data_path is /content/gdrive/MyDrive/Seminar/project_candanace/dcis_cohort/Point6202/TIFs\n",
            "label_fld is /content/gdrive/MyDrive/Seminar/project/immune_310_project/dataset/NPY_41_channels/labels/progressor\n",
            "output_path is /content/gdrive/MyDrive/Seminar/project/immune_310_project/dataset/NPY_41_channels/labels/progressor/6202.npz\n",
            "Point: 2322, Value: {'fld': '/content/gdrive/MyDrive/Seminar/project_candanace/dcis_cohort/Point2322', 'label': 'progressor'}\n",
            "raw_data_path is /content/gdrive/MyDrive/Seminar/project_candanace/dcis_cohort/Point2322/TIFs\n",
            "label_fld is /content/gdrive/MyDrive/Seminar/project/immune_310_project/dataset/NPY_41_channels/labels/progressor\n",
            "output_path is /content/gdrive/MyDrive/Seminar/project/immune_310_project/dataset/NPY_41_channels/labels/progressor/2322.npz\n",
            "Point: 2325, Value: {'fld': '/content/gdrive/MyDrive/Seminar/project_candanace/dcis_cohort/Point2325', 'label': 'nonprogressor'}\n",
            "raw_data_path is /content/gdrive/MyDrive/Seminar/project_candanace/dcis_cohort/Point2325/TIFs\n",
            "label_fld is /content/gdrive/MyDrive/Seminar/project/immune_310_project/dataset/NPY_41_channels/labels/nonprogressor\n",
            "output_path is /content/gdrive/MyDrive/Seminar/project/immune_310_project/dataset/NPY_41_channels/labels/nonprogressor/2325.npz\n",
            "Point: 2313, Value: {'fld': '/content/gdrive/MyDrive/Seminar/project_candanace/dcis_cohort/Point2313', 'label': 'nonprogressor'}\n",
            "raw_data_path is /content/gdrive/MyDrive/Seminar/project_candanace/dcis_cohort/Point2313/TIFs\n",
            "label_fld is /content/gdrive/MyDrive/Seminar/project/immune_310_project/dataset/NPY_41_channels/labels/nonprogressor\n",
            "output_path is /content/gdrive/MyDrive/Seminar/project/immune_310_project/dataset/NPY_41_channels/labels/nonprogressor/2313.npz\n",
            "Point: 5304, Value: {'fld': '/content/gdrive/MyDrive/Seminar/project_candanace/dcis_cohort/Point5304', 'label': 'nonprogressor'}\n",
            "raw_data_path is /content/gdrive/MyDrive/Seminar/project_candanace/dcis_cohort/Point5304/TIFs\n",
            "label_fld is /content/gdrive/MyDrive/Seminar/project/immune_310_project/dataset/NPY_41_channels/labels/nonprogressor\n",
            "output_path is /content/gdrive/MyDrive/Seminar/project/immune_310_project/dataset/NPY_41_channels/labels/nonprogressor/5304.npz\n",
            "Point: 5303, Value: {'fld': '/content/gdrive/MyDrive/Seminar/project_candanace/dcis_cohort/Point5303', 'label': 'progressor'}\n",
            "raw_data_path is /content/gdrive/MyDrive/Seminar/project_candanace/dcis_cohort/Point5303/TIFs\n",
            "label_fld is /content/gdrive/MyDrive/Seminar/project/immune_310_project/dataset/NPY_41_channels/labels/progressor\n",
            "output_path is /content/gdrive/MyDrive/Seminar/project/immune_310_project/dataset/NPY_41_channels/labels/progressor/5303.npz\n",
            "Point: 4411, Value: {'fld': '/content/gdrive/MyDrive/Seminar/project_candanace/dcis_cohort/Point4411', 'label': 'nonprogressor'}\n",
            "raw_data_path is /content/gdrive/MyDrive/Seminar/project_candanace/dcis_cohort/Point4411/TIFs\n",
            "label_fld is /content/gdrive/MyDrive/Seminar/project/immune_310_project/dataset/NPY_41_channels/labels/nonprogressor\n",
            "output_path is /content/gdrive/MyDrive/Seminar/project/immune_310_project/dataset/NPY_41_channels/labels/nonprogressor/4411.npz\n",
            "Point: 5302, Value: {'fld': '/content/gdrive/MyDrive/Seminar/project_candanace/dcis_cohort/Point5302', 'label': 'nonprogressor'}\n",
            "raw_data_path is /content/gdrive/MyDrive/Seminar/project_candanace/dcis_cohort/Point5302/TIFs\n",
            "label_fld is /content/gdrive/MyDrive/Seminar/project/immune_310_project/dataset/NPY_41_channels/labels/nonprogressor\n",
            "output_path is /content/gdrive/MyDrive/Seminar/project/immune_310_project/dataset/NPY_41_channels/labels/nonprogressor/5302.npz\n",
            "Point: 5305, Value: {'fld': '/content/gdrive/MyDrive/Seminar/project_candanace/dcis_cohort/Point5305', 'label': 'nonprogressor'}\n",
            "raw_data_path is /content/gdrive/MyDrive/Seminar/project_candanace/dcis_cohort/Point5305/TIFs\n",
            "label_fld is /content/gdrive/MyDrive/Seminar/project/immune_310_project/dataset/NPY_41_channels/labels/nonprogressor\n",
            "output_path is /content/gdrive/MyDrive/Seminar/project/immune_310_project/dataset/NPY_41_channels/labels/nonprogressor/5305.npz\n",
            "Point: 2312, Value: {'fld': '/content/gdrive/MyDrive/Seminar/project_candanace/dcis_cohort/Point2312', 'label': 'progressor'}\n",
            "raw_data_path is /content/gdrive/MyDrive/Seminar/project_candanace/dcis_cohort/Point2312/TIFs\n",
            "label_fld is /content/gdrive/MyDrive/Seminar/project/immune_310_project/dataset/NPY_41_channels/labels/progressor\n",
            "output_path is /content/gdrive/MyDrive/Seminar/project/immune_310_project/dataset/NPY_41_channels/labels/progressor/2312.npz\n",
            "Point: 4410, Value: {'fld': '/content/gdrive/MyDrive/Seminar/project_candanace/dcis_cohort/Point4410', 'label': 'nonprogressor'}\n",
            "raw_data_path is /content/gdrive/MyDrive/Seminar/project_candanace/dcis_cohort/Point4410/TIFs\n",
            "label_fld is /content/gdrive/MyDrive/Seminar/project/immune_310_project/dataset/NPY_41_channels/labels/nonprogressor\n",
            "output_path is /content/gdrive/MyDrive/Seminar/project/immune_310_project/dataset/NPY_41_channels/labels/nonprogressor/4410.npz\n",
            "Point: 2302, Value: {'fld': '/content/gdrive/MyDrive/Seminar/project_candanace/dcis_cohort/Point2302', 'label': 'nonprogressor'}\n",
            "raw_data_path is /content/gdrive/MyDrive/Seminar/project_candanace/dcis_cohort/Point2302/TIFs\n",
            "label_fld is /content/gdrive/MyDrive/Seminar/project/immune_310_project/dataset/NPY_41_channels/labels/nonprogressor\n",
            "output_path is /content/gdrive/MyDrive/Seminar/project/immune_310_project/dataset/NPY_41_channels/labels/nonprogressor/2302.npz\n",
            "Point: 2303, Value: {'fld': '/content/gdrive/MyDrive/Seminar/project_candanace/dcis_cohort/Point2303', 'label': 'nonprogressor'}\n",
            "raw_data_path is /content/gdrive/MyDrive/Seminar/project_candanace/dcis_cohort/Point2303/TIFs\n",
            "label_fld is /content/gdrive/MyDrive/Seminar/project/immune_310_project/dataset/NPY_41_channels/labels/nonprogressor\n",
            "output_path is /content/gdrive/MyDrive/Seminar/project/immune_310_project/dataset/NPY_41_channels/labels/nonprogressor/2303.npz\n",
            "Point: 2304, Value: {'fld': '/content/gdrive/MyDrive/Seminar/project_candanace/dcis_cohort/Point2304', 'label': 'nonprogressor'}\n",
            "raw_data_path is /content/gdrive/MyDrive/Seminar/project_candanace/dcis_cohort/Point2304/TIFs\n",
            "label_fld is /content/gdrive/MyDrive/Seminar/project/immune_310_project/dataset/NPY_41_channels/labels/nonprogressor\n",
            "output_path is /content/gdrive/MyDrive/Seminar/project/immune_310_project/dataset/NPY_41_channels/labels/nonprogressor/2304.npz\n",
            "Point: 3107, Value: {'fld': '/content/gdrive/MyDrive/Seminar/project_candanace/dcis_cohort/Point3107', 'label': 'nonprogressor'}\n",
            "raw_data_path is /content/gdrive/MyDrive/Seminar/project_candanace/dcis_cohort/Point3107/TIFs\n",
            "label_fld is /content/gdrive/MyDrive/Seminar/project/immune_310_project/dataset/NPY_41_channels/labels/nonprogressor\n",
            "output_path is /content/gdrive/MyDrive/Seminar/project/immune_310_project/dataset/NPY_41_channels/labels/nonprogressor/3107.npz\n",
            "Point: 3108, Value: {'fld': '/content/gdrive/MyDrive/Seminar/project_candanace/dcis_cohort/Point3108', 'label': 'nonprogressor'}\n",
            "raw_data_path is /content/gdrive/MyDrive/Seminar/project_candanace/dcis_cohort/Point3108/TIFs\n",
            "label_fld is /content/gdrive/MyDrive/Seminar/project/immune_310_project/dataset/NPY_41_channels/labels/nonprogressor\n",
            "output_path is /content/gdrive/MyDrive/Seminar/project/immune_310_project/dataset/NPY_41_channels/labels/nonprogressor/3108.npz\n",
            "Point: 5202, Value: {'fld': '/content/gdrive/MyDrive/Seminar/project_candanace/dcis_cohort/Point5202', 'label': 'nonprogressor'}\n",
            "raw_data_path is /content/gdrive/MyDrive/Seminar/project_candanace/dcis_cohort/Point5202/TIFs\n",
            "label_fld is /content/gdrive/MyDrive/Seminar/project/immune_310_project/dataset/NPY_41_channels/labels/nonprogressor\n",
            "output_path is /content/gdrive/MyDrive/Seminar/project/immune_310_project/dataset/NPY_41_channels/labels/nonprogressor/5202.npz\n",
            "Point: 3123, Value: {'fld': '/content/gdrive/MyDrive/Seminar/project_candanace/dcis_cohort/Point3123', 'label': 'progressor'}\n",
            "raw_data_path is /content/gdrive/MyDrive/Seminar/project_candanace/dcis_cohort/Point3123/TIFs\n",
            "label_fld is /content/gdrive/MyDrive/Seminar/project/immune_310_project/dataset/NPY_41_channels/labels/progressor\n",
            "output_path is /content/gdrive/MyDrive/Seminar/project/immune_310_project/dataset/NPY_41_channels/labels/progressor/3123.npz\n",
            "Point: 2206, Value: {'fld': '/content/gdrive/MyDrive/Seminar/project_candanace/dcis_cohort/Point2206', 'label': 'nonprogressor'}\n",
            "raw_data_path is /content/gdrive/MyDrive/Seminar/project_candanace/dcis_cohort/Point2206/TIFs\n",
            "label_fld is /content/gdrive/MyDrive/Seminar/project/immune_310_project/dataset/NPY_41_channels/labels/nonprogressor\n",
            "output_path is /content/gdrive/MyDrive/Seminar/project/immune_310_project/dataset/NPY_41_channels/labels/nonprogressor/2206.npz\n",
            "Point: 3112, Value: {'fld': '/content/gdrive/MyDrive/Seminar/project_candanace/dcis_cohort/Point3112', 'label': 'nonprogressor'}\n",
            "raw_data_path is /content/gdrive/MyDrive/Seminar/project_candanace/dcis_cohort/Point3112/TIFs\n",
            "label_fld is /content/gdrive/MyDrive/Seminar/project/immune_310_project/dataset/NPY_41_channels/labels/nonprogressor\n",
            "output_path is /content/gdrive/MyDrive/Seminar/project/immune_310_project/dataset/NPY_41_channels/labels/nonprogressor/3112.npz\n",
            "Point: 3115, Value: {'fld': '/content/gdrive/MyDrive/Seminar/project_candanace/dcis_cohort/Point3115', 'label': 'nonprogressor'}\n",
            "raw_data_path is /content/gdrive/MyDrive/Seminar/project_candanace/dcis_cohort/Point3115/TIFs\n",
            "label_fld is /content/gdrive/MyDrive/Seminar/project/immune_310_project/dataset/NPY_41_channels/labels/nonprogressor\n",
            "output_path is /content/gdrive/MyDrive/Seminar/project/immune_310_project/dataset/NPY_41_channels/labels/nonprogressor/3115.npz\n",
            "Point: 3114, Value: {'fld': '/content/gdrive/MyDrive/Seminar/project_candanace/dcis_cohort/Point3114', 'label': 'nonprogressor'}\n",
            "raw_data_path is /content/gdrive/MyDrive/Seminar/project_candanace/dcis_cohort/Point3114/TIFs\n",
            "label_fld is /content/gdrive/MyDrive/Seminar/project/immune_310_project/dataset/NPY_41_channels/labels/nonprogressor\n",
            "output_path is /content/gdrive/MyDrive/Seminar/project/immune_310_project/dataset/NPY_41_channels/labels/nonprogressor/3114.npz\n",
            "Point: 3125, Value: {'fld': '/content/gdrive/MyDrive/Seminar/project_candanace/dcis_cohort/Point3125', 'label': 'nonprogressor'}\n",
            "raw_data_path is /content/gdrive/MyDrive/Seminar/project_candanace/dcis_cohort/Point3125/TIFs\n",
            "label_fld is /content/gdrive/MyDrive/Seminar/project/immune_310_project/dataset/NPY_41_channels/labels/nonprogressor\n",
            "output_path is /content/gdrive/MyDrive/Seminar/project/immune_310_project/dataset/NPY_41_channels/labels/nonprogressor/3125.npz\n",
            "Point: 6201, Value: {'fld': '/content/gdrive/MyDrive/Seminar/project_candanace/dcis_cohort/Point6201', 'label': 'progressor'}\n",
            "raw_data_path is /content/gdrive/MyDrive/Seminar/project_candanace/dcis_cohort/Point6201/TIFs\n",
            "label_fld is /content/gdrive/MyDrive/Seminar/project/immune_310_project/dataset/NPY_41_channels/labels/progressor\n",
            "output_path is /content/gdrive/MyDrive/Seminar/project/immune_310_project/dataset/NPY_41_channels/labels/progressor/6201.npz\n",
            "Point: 6206, Value: {'fld': '/content/gdrive/MyDrive/Seminar/project_candanace/dcis_cohort/Point6206', 'label': 'nonprogressor'}\n",
            "raw_data_path is /content/gdrive/MyDrive/Seminar/project_candanace/dcis_cohort/Point6206/TIFs\n",
            "label_fld is /content/gdrive/MyDrive/Seminar/project/immune_310_project/dataset/NPY_41_channels/labels/nonprogressor\n",
            "output_path is /content/gdrive/MyDrive/Seminar/project/immune_310_project/dataset/NPY_41_channels/labels/nonprogressor/6206.npz\n",
            "Point: 2319, Value: {'fld': '/content/gdrive/MyDrive/Seminar/project_candanace/dcis_cohort/Point2319', 'label': 'nonprogressor'}\n",
            "raw_data_path is /content/gdrive/MyDrive/Seminar/project_candanace/dcis_cohort/Point2319/TIFs\n",
            "label_fld is /content/gdrive/MyDrive/Seminar/project/immune_310_project/dataset/NPY_41_channels/labels/nonprogressor\n",
            "output_path is /content/gdrive/MyDrive/Seminar/project/immune_310_project/dataset/NPY_41_channels/labels/nonprogressor/2319.npz\n",
            "Point: 2326, Value: {'fld': '/content/gdrive/MyDrive/Seminar/project_candanace/dcis_cohort/Point2326', 'label': 'nonprogressor'}\n",
            "raw_data_path is /content/gdrive/MyDrive/Seminar/project_candanace/dcis_cohort/Point2326/TIFs\n",
            "label_fld is /content/gdrive/MyDrive/Seminar/project/immune_310_project/dataset/NPY_41_channels/labels/nonprogressor\n",
            "output_path is /content/gdrive/MyDrive/Seminar/project/immune_310_project/dataset/NPY_41_channels/labels/nonprogressor/2326.npz\n",
            "Point: 5309, Value: {'fld': '/content/gdrive/MyDrive/Seminar/project_candanace/dcis_cohort/Point5309', 'label': 'nonprogressor'}\n",
            "raw_data_path is /content/gdrive/MyDrive/Seminar/project_candanace/dcis_cohort/Point5309/TIFs\n",
            "label_fld is /content/gdrive/MyDrive/Seminar/project/immune_310_project/dataset/NPY_41_channels/labels/nonprogressor\n",
            "output_path is /content/gdrive/MyDrive/Seminar/project/immune_310_project/dataset/NPY_41_channels/labels/nonprogressor/5309.npz\n",
            "Point: 2321, Value: {'fld': '/content/gdrive/MyDrive/Seminar/project_candanace/dcis_cohort/Point2321', 'label': 'nonprogressor'}\n",
            "raw_data_path is /content/gdrive/MyDrive/Seminar/project_candanace/dcis_cohort/Point2321/TIFs\n",
            "label_fld is /content/gdrive/MyDrive/Seminar/project/immune_310_project/dataset/NPY_41_channels/labels/nonprogressor\n",
            "output_path is /content/gdrive/MyDrive/Seminar/project/immune_310_project/dataset/NPY_41_channels/labels/nonprogressor/2321.npz\n",
            "Point: 2328, Value: {'fld': '/content/gdrive/MyDrive/Seminar/project_candanace/dcis_cohort/Point2328', 'label': 'nonprogressor'}\n",
            "raw_data_path is /content/gdrive/MyDrive/Seminar/project_candanace/dcis_cohort/Point2328/TIFs\n",
            "label_fld is /content/gdrive/MyDrive/Seminar/project/immune_310_project/dataset/NPY_41_channels/labels/nonprogressor\n",
            "output_path is /content/gdrive/MyDrive/Seminar/project/immune_310_project/dataset/NPY_41_channels/labels/nonprogressor/2328.npz\n",
            "Point: 2310, Value: {'fld': '/content/gdrive/MyDrive/Seminar/project_candanace/dcis_cohort/Point2310', 'label': 'progressor'}\n",
            "raw_data_path is /content/gdrive/MyDrive/Seminar/project_candanace/dcis_cohort/Point2310/TIFs\n",
            "label_fld is /content/gdrive/MyDrive/Seminar/project/immune_310_project/dataset/NPY_41_channels/labels/progressor\n",
            "output_path is /content/gdrive/MyDrive/Seminar/project/immune_310_project/dataset/NPY_41_channels/labels/progressor/2310.npz\n",
            "Point: 2311, Value: {'fld': '/content/gdrive/MyDrive/Seminar/project_candanace/dcis_cohort/Point2311', 'label': 'nonprogressor'}\n",
            "raw_data_path is /content/gdrive/MyDrive/Seminar/project_candanace/dcis_cohort/Point2311/TIFs\n",
            "label_fld is /content/gdrive/MyDrive/Seminar/project/immune_310_project/dataset/NPY_41_channels/labels/nonprogressor\n",
            "output_path is /content/gdrive/MyDrive/Seminar/project/immune_310_project/dataset/NPY_41_channels/labels/nonprogressor/2311.npz\n",
            "Point: 5306, Value: {'fld': '/content/gdrive/MyDrive/Seminar/project_candanace/dcis_cohort/Point5306', 'label': 'nonprogressor'}\n",
            "raw_data_path is /content/gdrive/MyDrive/Seminar/project_candanace/dcis_cohort/Point5306/TIFs\n",
            "label_fld is /content/gdrive/MyDrive/Seminar/project/immune_310_project/dataset/NPY_41_channels/labels/nonprogressor\n",
            "output_path is /content/gdrive/MyDrive/Seminar/project/immune_310_project/dataset/NPY_41_channels/labels/nonprogressor/5306.npz\n",
            "Point: 5308, Value: {'fld': '/content/gdrive/MyDrive/Seminar/project_candanace/dcis_cohort/Point5308', 'label': 'nonprogressor'}\n",
            "raw_data_path is /content/gdrive/MyDrive/Seminar/project_candanace/dcis_cohort/Point5308/TIFs\n",
            "label_fld is /content/gdrive/MyDrive/Seminar/project/immune_310_project/dataset/NPY_41_channels/labels/nonprogressor\n",
            "output_path is /content/gdrive/MyDrive/Seminar/project/immune_310_project/dataset/NPY_41_channels/labels/nonprogressor/5308.npz\n",
            "Point: 2320, Value: {'fld': '/content/gdrive/MyDrive/Seminar/project_candanace/dcis_cohort/Point2320', 'label': 'nonprogressor'}\n",
            "raw_data_path is /content/gdrive/MyDrive/Seminar/project_candanace/dcis_cohort/Point2320/TIFs\n",
            "label_fld is /content/gdrive/MyDrive/Seminar/project/immune_310_project/dataset/NPY_41_channels/labels/nonprogressor\n",
            "output_path is /content/gdrive/MyDrive/Seminar/project/immune_310_project/dataset/NPY_41_channels/labels/nonprogressor/2320.npz\n",
            "Point: 2318, Value: {'fld': '/content/gdrive/MyDrive/Seminar/project_candanace/dcis_cohort/Point2318', 'label': 'nonprogressor'}\n",
            "raw_data_path is /content/gdrive/MyDrive/Seminar/project_candanace/dcis_cohort/Point2318/TIFs\n",
            "label_fld is /content/gdrive/MyDrive/Seminar/project/immune_310_project/dataset/NPY_41_channels/labels/nonprogressor\n",
            "output_path is /content/gdrive/MyDrive/Seminar/project/immune_310_project/dataset/NPY_41_channels/labels/nonprogressor/2318.npz\n",
            "Point: 2327, Value: {'fld': '/content/gdrive/MyDrive/Seminar/project_candanace/dcis_cohort/Point2327', 'label': 'nonprogressor'}\n",
            "raw_data_path is /content/gdrive/MyDrive/Seminar/project_candanace/dcis_cohort/Point2327/TIFs\n",
            "label_fld is /content/gdrive/MyDrive/Seminar/project/immune_310_project/dataset/NPY_41_channels/labels/nonprogressor\n",
            "output_path is /content/gdrive/MyDrive/Seminar/project/immune_310_project/dataset/NPY_41_channels/labels/nonprogressor/2327.npz\n"
          ]
        }
      ],
      "source": [
        "# Iterate over key-value pairs in the dictionary\n",
        "dataset_path=os.path.join(root_dir,\"dataset\",\"NPY_{}_channels\".format(len(images_channels_order)),\"labels\")\n",
        "# counter = 0 # for debug\n",
        "# pil_image_stack=None\n",
        "for point, value in point_dict.items():\n",
        "    print(f\"Point: {point}, Value: {value}\")\n",
        "    raw_data_path = os.path.join(value['fld'],\"TIFs\")\n",
        "    print(\"raw_data_path is {}\".format(raw_data_path))\n",
        "    label_fld = os.path.join(dataset_path,value['label'])\n",
        "    print(\"label_fld is {}\".format(label_fld))\n",
        "    os.makedirs(label_fld,exist_ok=True)\n",
        "    output_path=os.path.join(label_fld,point+\".npz\")\n",
        "    print(\"output_path is {}\".format(output_path))\n",
        "    save_channels_as_npy(raw_data_path, images_channels_order, output_path)\n",
        ""
      ]
    },
    {
      "cell_type": "code",
      "execution_count": 17,
      "id": "3fd17311-4f19-41da-9896-9a6c0a3e922a",
      "metadata": {
        "id": "3fd17311-4f19-41da-9896-9a6c0a3e922a"
      },
      "outputs": [],
      "source": []
    }
  ],
  "metadata": {
    "kernelspec": {
      "display_name": "Python 3",
      "name": "python3"
    },
    "language_info": {
      "codemirror_mode": {
        "name": "ipython",
        "version": 3
      },
      "file_extension": ".py",
      "mimetype": "text/x-python",
      "name": "python",
      "nbconvert_exporter": "python",
      "pygments_lexer": "ipython3",
      "version": "3.8.17"
    },
    "colab": {
      "provenance": [],
      "gpuType": "T4",
      "include_colab_link": true
    },
    "accelerator": "GPU"
  },
  "nbformat": 4,
  "nbformat_minor": 5
}