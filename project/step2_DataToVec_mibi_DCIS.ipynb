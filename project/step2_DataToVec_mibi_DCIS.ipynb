{
  "cells": [
    {
      "cell_type": "markdown",
      "metadata": {
        "id": "view-in-github",
        "colab_type": "text"
      },
      "source": [
        "<a href=\"https://colab.research.google.com/github/ort-eila/csiseminar/blob/main/project/step2_DataToVec_mibi_DCIS.ipynb\" target=\"_parent\"><img src=\"https://colab.research.google.com/assets/colab-badge.svg\" alt=\"Open In Colab\"/></a>"
      ]
    },
    {
      "cell_type": "code",
      "execution_count": 1,
      "id": "grplo3KX8J_x",
      "metadata": {
        "colab": {
          "base_uri": "https://localhost:8080/"
        },
        "id": "grplo3KX8J_x",
        "outputId": "7046847b-101c-43c1-c61d-9eaa721aa1e1"
      },
      "outputs": [
        {
          "output_type": "stream",
          "name": "stdout",
          "text": [
            "Drive already mounted at /content/gdrive; to attempt to forcibly remount, call drive.mount(\"/content/gdrive\", force_remount=True).\n"
          ]
        }
      ],
      "source": [
        "from google.colab import drive\n",
        "drive.mount(\"/content/gdrive\")\n",
        "# csiseminar/project/step2_DataToVec_mibi_DCIS.ipynb"
      ]
    },
    {
      "cell_type": "code",
      "execution_count": 2,
      "id": "O_fxE6Lq8OCm",
      "metadata": {
        "colab": {
          "base_uri": "https://localhost:8080/",
          "height": 35
        },
        "id": "O_fxE6Lq8OCm",
        "outputId": "bfb5e966-0566-42e1-924b-79558542c539"
      },
      "outputs": [
        {
          "output_type": "execute_result",
          "data": {
            "text/plain": [
              "'/content/gdrive/MyDrive/Seminar/project/immune_310_project/dataset/NPY_41_channels/labels'"
            ],
            "application/vnd.google.colaboratory.intrinsic+json": {
              "type": "string"
            }
          },
          "metadata": {},
          "execution_count": 2
        }
      ],
      "source": [
        "import os\n",
        "root_dir = \"/content/gdrive/MyDrive/Seminar/project/immune_310_project\"\n",
        "dataset_path=os.path.join(root_dir,\"dataset\",\"NPY_41_channels\",\"labels\")\n",
        "dataset_path"
      ]
    },
    {
      "cell_type": "code",
      "execution_count": 3,
      "id": "ShyAfwoc9K5J",
      "metadata": {
        "colab": {
          "base_uri": "https://localhost:8080/"
        },
        "id": "ShyAfwoc9K5J",
        "outputId": "cb5345db-21bd-4edc-a5ab-786420cc0105"
      },
      "outputs": [
        {
          "output_type": "stream",
          "name": "stdout",
          "text": [
            "progressors_npy_dir is /content/gdrive/MyDrive/Seminar/project/immune_310_project/dataset/NPY_41_channels/labels/progressor\n",
            "non_progressors_npy_dir is /content/gdrive/MyDrive/Seminar/project/immune_310_project/dataset/NPY_41_channels/labels/nonprogressor\n"
          ]
        }
      ],
      "source": [
        "progressors_npy_dir = os.path.join(dataset_path,\"progressor\")\n",
        "print(\"progressors_npy_dir is {}\".format(progressors_npy_dir))\n",
        "non_progressors_npy_dir = os.path.join(dataset_path,\"nonprogressor\")\n",
        "print(\"non_progressors_npy_dir is {}\".format(non_progressors_npy_dir))\n"
      ]
    },
    {
      "cell_type": "code",
      "execution_count": 4,
      "id": "b628a431-95f8-4231-bb41-67a87df3e32d",
      "metadata": {
        "colab": {
          "base_uri": "https://localhost:8080/"
        },
        "id": "b628a431-95f8-4231-bb41-67a87df3e32d",
        "outputId": "961b63cd-6df1-43d0-f8ca-66b8779486f4"
      },
      "outputs": [
        {
          "output_type": "stream",
          "name": "stdout",
          "text": [
            "['/content/gdrive/MyDrive/Seminar/project/immune_310_project/dataset/NPY_41_channels/labels/progressor/6103.npz', '/content/gdrive/MyDrive/Seminar/project/immune_310_project/dataset/NPY_41_channels/labels/progressor/2306.npz', '/content/gdrive/MyDrive/Seminar/project/immune_310_project/dataset/NPY_41_channels/labels/progressor/5310.npz', '/content/gdrive/MyDrive/Seminar/project/immune_310_project/dataset/NPY_41_channels/labels/progressor/6102.npz', '/content/gdrive/MyDrive/Seminar/project/immune_310_project/dataset/NPY_41_channels/labels/progressor/3105.npz']\n",
            "['/content/gdrive/MyDrive/Seminar/project/immune_310_project/dataset/NPY_41_channels/labels/nonprogressor/5306.npz', '/content/gdrive/MyDrive/Seminar/project/immune_310_project/dataset/NPY_41_channels/labels/nonprogressor/5308.npz', '/content/gdrive/MyDrive/Seminar/project/immune_310_project/dataset/NPY_41_channels/labels/nonprogressor/2320.npz', '/content/gdrive/MyDrive/Seminar/project/immune_310_project/dataset/NPY_41_channels/labels/nonprogressor/2318.npz', '/content/gdrive/MyDrive/Seminar/project/immune_310_project/dataset/NPY_41_channels/labels/nonprogressor/2327.npz']\n"
          ]
        }
      ],
      "source": [
        "progressors_npy_files = os.listdir(progressors_npy_dir)\n",
        "non_progressors_npy_files = os.listdir(non_progressors_npy_dir)\n",
        "npy_n_channels_all = [os.path.join(progressors_npy_dir,x) for x in progressors_npy_files]\n",
        "npy_n_channels_all = npy_n_channels_all + [os.path.join(non_progressors_npy_dir,x) for x in non_progressors_npy_files]\n",
        "print(npy_n_channels_all[0:5])\n",
        "print(npy_n_channels_all[-5:])\n"
      ]
    },
    {
      "cell_type": "code",
      "execution_count": 5,
      "id": "4faece17-d782-4001-ac57-2f37ab08c823",
      "metadata": {
        "id": "4faece17-d782-4001-ac57-2f37ab08c823"
      },
      "outputs": [],
      "source": [
        "# Step 2. create 224x224 images for the model and save them in a seperate foldet\n",
        "# with a folder name = dataset name"
      ]
    },
    {
      "cell_type": "code",
      "execution_count": 6,
      "id": "68df4dfb-577e-49fa-ba5d-fdad552af17d",
      "metadata": {
        "id": "68df4dfb-577e-49fa-ba5d-fdad552af17d"
      },
      "outputs": [],
      "source": [
        "# def create_vectors_from_channels(channel_data, output_path):\n",
        "#   return"
      ]
    },
    {
      "cell_type": "code",
      "execution_count": 7,
      "id": "8ApNZHLW9spz",
      "metadata": {
        "id": "8ApNZHLW9spz"
      },
      "outputs": [],
      "source": [
        "import numpy as np\n",
        "from PIL import Image\n",
        "import re\n",
        "import os\n",
        "\n",
        "def create_rgb_image_from_channels(channel_data, output_shape, output_path, filename_prefix):\n",
        "    height, width = channel_data[0].shape\n",
        "\n",
        "    grayscale_vector = []\n",
        "    #   print(\"channel_index is {}\".format(channel_index))\n",
        "    for col in range(0, width):\n",
        "      # print(\"!!!!col is {}. len(grayscale_vector) is {}\".format(col,len(grayscale_vector)))\n",
        "      for row in range(0, height):\n",
        "        # print(\"row is {}\".format(row))\n",
        "        for channel_index in range(0, len(channel_data)-1):\n",
        "          # print(\"channel_index is {}\".format(channel_index))\n",
        "          val = channel_data[channel_index][row, col]\n",
        "          # print(\"channel_index is {}\".format(channel_index))\n",
        "          # print(\"row is {}\".format(row))\n",
        "          # print(\"col is {}\".format(col))\n",
        "          # print(\"val is {}\".format(val))\n",
        "          # print(\"adding val value {}\".format(val))\n",
        "          grayscale_vector.append(val)\n",
        "      # Calculate the sum of the vector elements\n",
        "      # print(\"number of elements in vector is {}\".format(len(grayscale_vector)))\n",
        "      vector_sum = sum(grayscale_vector)\n",
        "      if vector_sum == 0:\n",
        "        # print(\"The vector is all zeros.\")\n",
        "        continue\n",
        "      # else:\n",
        "      #   print(\"The vector is not all zeros.\")\n",
        "\n",
        "      # print(\"matrix\")\n",
        "      # Calculate the required number of elements for the desired image size\n",
        "      required_elements = output_shape[0]*output_shape[1] * 3\n",
        "      # print(\"required_elements are {}\".format(required_elements))\n",
        "      rgb_image_matrix = None\n",
        "      # Check if vector needs padding\n",
        "      if len(grayscale_vector) < required_elements:\n",
        "          # Calculate the number of elements to pad\n",
        "          padding_elements = required_elements - len(grayscale_vector)\n",
        "          # print(\"len(padding_elements) is {}\".format(padding_elements))\n",
        "          # Pad the vector with zeros\n",
        "          padded_vector = np.concatenate((grayscale_vector, np.zeros(padding_elements)))\n",
        "          # print(\"len(padded_vector) is {}\".format(len(padded_vector)))\n",
        "          # Reshape the padded vector into a 224x224 array\n",
        "          rgb_image_matrix = padded_vector.reshape(output_shape[0], output_shape[1],3)\n",
        "          # print(\"len(rgb_image_matrix) is {}\".format(len(rgb_image_matrix)))\n",
        "      else:\n",
        "          # Reshape the vector into a 224x224 array\n",
        "          print(\"else. grayscale_vector size is {}. required_elements is {}\".format(len(grayscale_vector),required_elements))\n",
        "          rgb_image_matrix = np.array(grayscale_vector[0:required_elements]).reshape(output_shape[0], output_shape[1],3)\n",
        "\n",
        "      # Convert to PIL Image\n",
        "      # print(\"before pil_image\")\n",
        "      # Convert to PIL Image\n",
        "      pil_image = Image.fromarray(rgb_image_matrix.astype(np.uint8))\n",
        "\n",
        "      # Save the image as a JPEG file\n",
        "      # print(\"before file_name\")\n",
        "      file_name = f'{filename_prefix}_vector_image_row_{row}_col{col}.jpg'\n",
        "      # output_path = 'output_image.jpg'  # Change this to your desired output path with .jpg extension\n",
        "      full_file_name = f'{output_path}/{file_name}'\n",
        "      # print(\"before save\")\n",
        "      pil_image.save(full_file_name) #, format='JPEG')\n",
        "      grayscale_vector = []\n"
      ]
    },
    {
      "cell_type": "code",
      "source": [
        "# npy_n_channels_all\n",
        "# required_elements - len(grayscale_vector)"
      ],
      "metadata": {
        "id": "gKhhmBwoocCJ"
      },
      "id": "gKhhmBwoocCJ",
      "execution_count": 8,
      "outputs": []
    },
    {
      "cell_type": "code",
      "execution_count": 9,
      "id": "ffb37f66-eb02-4466-a6e2-b2a413f4796b",
      "metadata": {
        "colab": {
          "base_uri": "https://localhost:8080/"
        },
        "id": "ffb37f66-eb02-4466-a6e2-b2a413f4796b",
        "outputId": "3847e59a-eba6-472d-db96-2103a15819d4"
      },
      "outputs": [
        {
          "output_type": "stream",
          "name": "stdout",
          "text": [
            "npz_file_path is /content/gdrive/MyDrive/Seminar/project/immune_310_project/dataset/NPY_41_channels/labels/progressor/6103.npz\n",
            "npz_file_fld is /content/gdrive/MyDrive/Seminar/project/immune_310_project/dataset/NPY_41_channels/labels/progressor\n",
            "output_path is /content/gdrive/MyDrive/Seminar/project/immune_310_project/dataset/JPG_VECT_TO_IMG_224_224/labels/progressor\n",
            "Keys in the NPZ file: ['channel_data']\n",
            "npz_file_path is /content/gdrive/MyDrive/Seminar/project/immune_310_project/dataset/NPY_41_channels/labels/progressor/2306.npz\n",
            "npz_file_fld is /content/gdrive/MyDrive/Seminar/project/immune_310_project/dataset/NPY_41_channels/labels/progressor\n",
            "output_path is /content/gdrive/MyDrive/Seminar/project/immune_310_project/dataset/JPG_VECT_TO_IMG_224_224/labels/progressor\n",
            "Keys in the NPZ file: ['channel_data']\n",
            "npz_file_path is /content/gdrive/MyDrive/Seminar/project/immune_310_project/dataset/NPY_41_channels/labels/progressor/5310.npz\n",
            "npz_file_fld is /content/gdrive/MyDrive/Seminar/project/immune_310_project/dataset/NPY_41_channels/labels/progressor\n",
            "output_path is /content/gdrive/MyDrive/Seminar/project/immune_310_project/dataset/JPG_VECT_TO_IMG_224_224/labels/progressor\n",
            "Keys in the NPZ file: ['channel_data']\n",
            "npz_file_path is /content/gdrive/MyDrive/Seminar/project/immune_310_project/dataset/NPY_41_channels/labels/progressor/6102.npz\n",
            "npz_file_fld is /content/gdrive/MyDrive/Seminar/project/immune_310_project/dataset/NPY_41_channels/labels/progressor\n",
            "output_path is /content/gdrive/MyDrive/Seminar/project/immune_310_project/dataset/JPG_VECT_TO_IMG_224_224/labels/progressor\n",
            "Keys in the NPZ file: ['channel_data']\n",
            "npz_file_path is /content/gdrive/MyDrive/Seminar/project/immune_310_project/dataset/NPY_41_channels/labels/progressor/3105.npz\n",
            "npz_file_fld is /content/gdrive/MyDrive/Seminar/project/immune_310_project/dataset/NPY_41_channels/labels/progressor\n",
            "output_path is /content/gdrive/MyDrive/Seminar/project/immune_310_project/dataset/JPG_VECT_TO_IMG_224_224/labels/progressor\n",
            "Keys in the NPZ file: ['channel_data']\n",
            "npz_file_path is /content/gdrive/MyDrive/Seminar/project/immune_310_project/dataset/NPY_41_channels/labels/progressor/6203.npz\n",
            "npz_file_fld is /content/gdrive/MyDrive/Seminar/project/immune_310_project/dataset/NPY_41_channels/labels/progressor\n",
            "output_path is /content/gdrive/MyDrive/Seminar/project/immune_310_project/dataset/JPG_VECT_TO_IMG_224_224/labels/progressor\n",
            "Keys in the NPZ file: ['channel_data']\n",
            "npz_file_path is /content/gdrive/MyDrive/Seminar/project/immune_310_project/dataset/NPY_41_channels/labels/progressor/6204.npz\n",
            "npz_file_fld is /content/gdrive/MyDrive/Seminar/project/immune_310_project/dataset/NPY_41_channels/labels/progressor\n",
            "output_path is /content/gdrive/MyDrive/Seminar/project/immune_310_project/dataset/JPG_VECT_TO_IMG_224_224/labels/progressor\n",
            "Keys in the NPZ file: ['channel_data']\n",
            "npz_file_path is /content/gdrive/MyDrive/Seminar/project/immune_310_project/dataset/NPY_41_channels/labels/progressor/6202.npz\n",
            "npz_file_fld is /content/gdrive/MyDrive/Seminar/project/immune_310_project/dataset/NPY_41_channels/labels/progressor\n",
            "output_path is /content/gdrive/MyDrive/Seminar/project/immune_310_project/dataset/JPG_VECT_TO_IMG_224_224/labels/progressor\n",
            "Keys in the NPZ file: ['channel_data']\n",
            "npz_file_path is /content/gdrive/MyDrive/Seminar/project/immune_310_project/dataset/NPY_41_channels/labels/progressor/2322.npz\n",
            "npz_file_fld is /content/gdrive/MyDrive/Seminar/project/immune_310_project/dataset/NPY_41_channels/labels/progressor\n",
            "output_path is /content/gdrive/MyDrive/Seminar/project/immune_310_project/dataset/JPG_VECT_TO_IMG_224_224/labels/progressor\n",
            "Keys in the NPZ file: ['channel_data']\n",
            "npz_file_path is /content/gdrive/MyDrive/Seminar/project/immune_310_project/dataset/NPY_41_channels/labels/progressor/5303.npz\n",
            "npz_file_fld is /content/gdrive/MyDrive/Seminar/project/immune_310_project/dataset/NPY_41_channels/labels/progressor\n",
            "output_path is /content/gdrive/MyDrive/Seminar/project/immune_310_project/dataset/JPG_VECT_TO_IMG_224_224/labels/progressor\n",
            "Keys in the NPZ file: ['channel_data']\n",
            "npz_file_path is /content/gdrive/MyDrive/Seminar/project/immune_310_project/dataset/NPY_41_channels/labels/progressor/2312.npz\n",
            "npz_file_fld is /content/gdrive/MyDrive/Seminar/project/immune_310_project/dataset/NPY_41_channels/labels/progressor\n",
            "output_path is /content/gdrive/MyDrive/Seminar/project/immune_310_project/dataset/JPG_VECT_TO_IMG_224_224/labels/progressor\n",
            "Keys in the NPZ file: ['channel_data']\n",
            "npz_file_path is /content/gdrive/MyDrive/Seminar/project/immune_310_project/dataset/NPY_41_channels/labels/progressor/3123.npz\n",
            "npz_file_fld is /content/gdrive/MyDrive/Seminar/project/immune_310_project/dataset/NPY_41_channels/labels/progressor\n",
            "output_path is /content/gdrive/MyDrive/Seminar/project/immune_310_project/dataset/JPG_VECT_TO_IMG_224_224/labels/progressor\n",
            "Keys in the NPZ file: ['channel_data']\n",
            "else. grayscale_vector size is 450560. required_elements is 150528\n",
            "npz_file_path is /content/gdrive/MyDrive/Seminar/project/immune_310_project/dataset/NPY_41_channels/labels/progressor/6201.npz\n",
            "npz_file_fld is /content/gdrive/MyDrive/Seminar/project/immune_310_project/dataset/NPY_41_channels/labels/progressor\n",
            "output_path is /content/gdrive/MyDrive/Seminar/project/immune_310_project/dataset/JPG_VECT_TO_IMG_224_224/labels/progressor\n",
            "Keys in the NPZ file: ['channel_data']\n",
            "npz_file_path is /content/gdrive/MyDrive/Seminar/project/immune_310_project/dataset/NPY_41_channels/labels/progressor/2310.npz\n",
            "npz_file_fld is /content/gdrive/MyDrive/Seminar/project/immune_310_project/dataset/NPY_41_channels/labels/progressor\n",
            "output_path is /content/gdrive/MyDrive/Seminar/project/immune_310_project/dataset/JPG_VECT_TO_IMG_224_224/labels/progressor\n",
            "Keys in the NPZ file: ['channel_data']\n",
            "npz_file_path is /content/gdrive/MyDrive/Seminar/project/immune_310_project/dataset/NPY_41_channels/labels/nonprogressor/2309.npz\n",
            "npz_file_fld is /content/gdrive/MyDrive/Seminar/project/immune_310_project/dataset/NPY_41_channels/labels/nonprogressor\n",
            "output_path is /content/gdrive/MyDrive/Seminar/project/immune_310_project/dataset/JPG_VECT_TO_IMG_224_224/labels/nonprogressor\n",
            "Keys in the NPZ file: ['channel_data']\n",
            "npz_file_path is /content/gdrive/MyDrive/Seminar/project/immune_310_project/dataset/NPY_41_channels/labels/nonprogressor/2331.npz\n",
            "npz_file_fld is /content/gdrive/MyDrive/Seminar/project/immune_310_project/dataset/NPY_41_channels/labels/nonprogressor\n",
            "output_path is /content/gdrive/MyDrive/Seminar/project/immune_310_project/dataset/JPG_VECT_TO_IMG_224_224/labels/nonprogressor\n",
            "Keys in the NPZ file: ['channel_data']\n",
            "npz_file_path is /content/gdrive/MyDrive/Seminar/project/immune_310_project/dataset/NPY_41_channels/labels/nonprogressor/3104.npz\n",
            "npz_file_fld is /content/gdrive/MyDrive/Seminar/project/immune_310_project/dataset/NPY_41_channels/labels/nonprogressor\n",
            "output_path is /content/gdrive/MyDrive/Seminar/project/immune_310_project/dataset/JPG_VECT_TO_IMG_224_224/labels/nonprogressor\n",
            "Keys in the NPZ file: ['channel_data']\n",
            "npz_file_path is /content/gdrive/MyDrive/Seminar/project/immune_310_project/dataset/NPY_41_channels/labels/nonprogressor/3102.npz\n",
            "npz_file_fld is /content/gdrive/MyDrive/Seminar/project/immune_310_project/dataset/NPY_41_channels/labels/nonprogressor\n",
            "output_path is /content/gdrive/MyDrive/Seminar/project/immune_310_project/dataset/JPG_VECT_TO_IMG_224_224/labels/nonprogressor\n",
            "Keys in the NPZ file: ['channel_data']\n",
            "npz_file_path is /content/gdrive/MyDrive/Seminar/project/immune_310_project/dataset/NPY_41_channels/labels/nonprogressor/3120.npz\n",
            "npz_file_fld is /content/gdrive/MyDrive/Seminar/project/immune_310_project/dataset/NPY_41_channels/labels/nonprogressor\n",
            "output_path is /content/gdrive/MyDrive/Seminar/project/immune_310_project/dataset/JPG_VECT_TO_IMG_224_224/labels/nonprogressor\n",
            "Keys in the NPZ file: ['channel_data']\n",
            "npz_file_path is /content/gdrive/MyDrive/Seminar/project/immune_310_project/dataset/NPY_41_channels/labels/nonprogressor/3129.npz\n",
            "npz_file_fld is /content/gdrive/MyDrive/Seminar/project/immune_310_project/dataset/NPY_41_channels/labels/nonprogressor\n",
            "output_path is /content/gdrive/MyDrive/Seminar/project/immune_310_project/dataset/JPG_VECT_TO_IMG_224_224/labels/nonprogressor\n",
            "Keys in the NPZ file: ['channel_data']\n",
            "npz_file_path is /content/gdrive/MyDrive/Seminar/project/immune_310_project/dataset/NPY_41_channels/labels/nonprogressor/3111.npz\n",
            "npz_file_fld is /content/gdrive/MyDrive/Seminar/project/immune_310_project/dataset/NPY_41_channels/labels/nonprogressor\n",
            "output_path is /content/gdrive/MyDrive/Seminar/project/immune_310_project/dataset/JPG_VECT_TO_IMG_224_224/labels/nonprogressor\n",
            "Keys in the NPZ file: ['channel_data']\n",
            "npz_file_path is /content/gdrive/MyDrive/Seminar/project/immune_310_project/dataset/NPY_41_channels/labels/nonprogressor/3110.npz\n",
            "npz_file_fld is /content/gdrive/MyDrive/Seminar/project/immune_310_project/dataset/NPY_41_channels/labels/nonprogressor\n",
            "output_path is /content/gdrive/MyDrive/Seminar/project/immune_310_project/dataset/JPG_VECT_TO_IMG_224_224/labels/nonprogressor\n",
            "Keys in the NPZ file: ['channel_data']\n",
            "npz_file_path is /content/gdrive/MyDrive/Seminar/project/immune_310_project/dataset/NPY_41_channels/labels/nonprogressor/2204.npz\n",
            "npz_file_fld is /content/gdrive/MyDrive/Seminar/project/immune_310_project/dataset/NPY_41_channels/labels/nonprogressor\n",
            "output_path is /content/gdrive/MyDrive/Seminar/project/immune_310_project/dataset/JPG_VECT_TO_IMG_224_224/labels/nonprogressor\n",
            "Keys in the NPZ file: ['channel_data']\n",
            "npz_file_path is /content/gdrive/MyDrive/Seminar/project/immune_310_project/dataset/NPY_41_channels/labels/nonprogressor/3128.npz\n",
            "npz_file_fld is /content/gdrive/MyDrive/Seminar/project/immune_310_project/dataset/NPY_41_channels/labels/nonprogressor\n",
            "output_path is /content/gdrive/MyDrive/Seminar/project/immune_310_project/dataset/JPG_VECT_TO_IMG_224_224/labels/nonprogressor\n",
            "Keys in the NPZ file: ['channel_data']\n",
            "npz_file_path is /content/gdrive/MyDrive/Seminar/project/immune_310_project/dataset/NPY_41_channels/labels/nonprogressor/3117.npz\n",
            "npz_file_fld is /content/gdrive/MyDrive/Seminar/project/immune_310_project/dataset/NPY_41_channels/labels/nonprogressor\n",
            "output_path is /content/gdrive/MyDrive/Seminar/project/immune_310_project/dataset/JPG_VECT_TO_IMG_224_224/labels/nonprogressor\n",
            "Keys in the NPZ file: ['channel_data']\n",
            "npz_file_path is /content/gdrive/MyDrive/Seminar/project/immune_310_project/dataset/NPY_41_channels/labels/nonprogressor/2203.npz\n",
            "npz_file_fld is /content/gdrive/MyDrive/Seminar/project/immune_310_project/dataset/NPY_41_channels/labels/nonprogressor\n",
            "output_path is /content/gdrive/MyDrive/Seminar/project/immune_310_project/dataset/JPG_VECT_TO_IMG_224_224/labels/nonprogressor\n",
            "Keys in the NPZ file: ['channel_data']\n",
            "npz_file_path is /content/gdrive/MyDrive/Seminar/project/immune_310_project/dataset/NPY_41_channels/labels/nonprogressor/3121.npz\n",
            "npz_file_fld is /content/gdrive/MyDrive/Seminar/project/immune_310_project/dataset/NPY_41_channels/labels/nonprogressor\n",
            "output_path is /content/gdrive/MyDrive/Seminar/project/immune_310_project/dataset/JPG_VECT_TO_IMG_224_224/labels/nonprogressor\n",
            "Keys in the NPZ file: ['channel_data']\n",
            "npz_file_path is /content/gdrive/MyDrive/Seminar/project/immune_310_project/dataset/NPY_41_channels/labels/nonprogressor/3119.npz\n",
            "npz_file_fld is /content/gdrive/MyDrive/Seminar/project/immune_310_project/dataset/NPY_41_channels/labels/nonprogressor\n",
            "output_path is /content/gdrive/MyDrive/Seminar/project/immune_310_project/dataset/JPG_VECT_TO_IMG_224_224/labels/nonprogressor\n",
            "Keys in the NPZ file: ['channel_data']\n",
            "npz_file_path is /content/gdrive/MyDrive/Seminar/project/immune_310_project/dataset/NPY_41_channels/labels/nonprogressor/2325.npz\n",
            "npz_file_fld is /content/gdrive/MyDrive/Seminar/project/immune_310_project/dataset/NPY_41_channels/labels/nonprogressor\n",
            "output_path is /content/gdrive/MyDrive/Seminar/project/immune_310_project/dataset/JPG_VECT_TO_IMG_224_224/labels/nonprogressor\n",
            "Keys in the NPZ file: ['channel_data']\n",
            "npz_file_path is /content/gdrive/MyDrive/Seminar/project/immune_310_project/dataset/NPY_41_channels/labels/nonprogressor/2313.npz\n",
            "npz_file_fld is /content/gdrive/MyDrive/Seminar/project/immune_310_project/dataset/NPY_41_channels/labels/nonprogressor\n",
            "output_path is /content/gdrive/MyDrive/Seminar/project/immune_310_project/dataset/JPG_VECT_TO_IMG_224_224/labels/nonprogressor\n",
            "Keys in the NPZ file: ['channel_data']\n",
            "npz_file_path is /content/gdrive/MyDrive/Seminar/project/immune_310_project/dataset/NPY_41_channels/labels/nonprogressor/5304.npz\n",
            "npz_file_fld is /content/gdrive/MyDrive/Seminar/project/immune_310_project/dataset/NPY_41_channels/labels/nonprogressor\n",
            "output_path is /content/gdrive/MyDrive/Seminar/project/immune_310_project/dataset/JPG_VECT_TO_IMG_224_224/labels/nonprogressor\n",
            "Keys in the NPZ file: ['channel_data']\n",
            "npz_file_path is /content/gdrive/MyDrive/Seminar/project/immune_310_project/dataset/NPY_41_channels/labels/nonprogressor/4411.npz\n",
            "npz_file_fld is /content/gdrive/MyDrive/Seminar/project/immune_310_project/dataset/NPY_41_channels/labels/nonprogressor\n",
            "output_path is /content/gdrive/MyDrive/Seminar/project/immune_310_project/dataset/JPG_VECT_TO_IMG_224_224/labels/nonprogressor\n",
            "Keys in the NPZ file: ['channel_data']\n",
            "npz_file_path is /content/gdrive/MyDrive/Seminar/project/immune_310_project/dataset/NPY_41_channels/labels/nonprogressor/5302.npz\n",
            "npz_file_fld is /content/gdrive/MyDrive/Seminar/project/immune_310_project/dataset/NPY_41_channels/labels/nonprogressor\n",
            "output_path is /content/gdrive/MyDrive/Seminar/project/immune_310_project/dataset/JPG_VECT_TO_IMG_224_224/labels/nonprogressor\n",
            "Keys in the NPZ file: ['channel_data']\n",
            "npz_file_path is /content/gdrive/MyDrive/Seminar/project/immune_310_project/dataset/NPY_41_channels/labels/nonprogressor/5305.npz\n",
            "npz_file_fld is /content/gdrive/MyDrive/Seminar/project/immune_310_project/dataset/NPY_41_channels/labels/nonprogressor\n",
            "output_path is /content/gdrive/MyDrive/Seminar/project/immune_310_project/dataset/JPG_VECT_TO_IMG_224_224/labels/nonprogressor\n",
            "Keys in the NPZ file: ['channel_data']\n",
            "npz_file_path is /content/gdrive/MyDrive/Seminar/project/immune_310_project/dataset/NPY_41_channels/labels/nonprogressor/4410.npz\n",
            "npz_file_fld is /content/gdrive/MyDrive/Seminar/project/immune_310_project/dataset/NPY_41_channels/labels/nonprogressor\n",
            "output_path is /content/gdrive/MyDrive/Seminar/project/immune_310_project/dataset/JPG_VECT_TO_IMG_224_224/labels/nonprogressor\n",
            "Keys in the NPZ file: ['channel_data']\n",
            "npz_file_path is /content/gdrive/MyDrive/Seminar/project/immune_310_project/dataset/NPY_41_channels/labels/nonprogressor/2302.npz\n",
            "npz_file_fld is /content/gdrive/MyDrive/Seminar/project/immune_310_project/dataset/NPY_41_channels/labels/nonprogressor\n",
            "output_path is /content/gdrive/MyDrive/Seminar/project/immune_310_project/dataset/JPG_VECT_TO_IMG_224_224/labels/nonprogressor\n",
            "Keys in the NPZ file: ['channel_data']\n",
            "npz_file_path is /content/gdrive/MyDrive/Seminar/project/immune_310_project/dataset/NPY_41_channels/labels/nonprogressor/2303.npz\n",
            "npz_file_fld is /content/gdrive/MyDrive/Seminar/project/immune_310_project/dataset/NPY_41_channels/labels/nonprogressor\n",
            "output_path is /content/gdrive/MyDrive/Seminar/project/immune_310_project/dataset/JPG_VECT_TO_IMG_224_224/labels/nonprogressor\n",
            "Keys in the NPZ file: ['channel_data']\n",
            "npz_file_path is /content/gdrive/MyDrive/Seminar/project/immune_310_project/dataset/NPY_41_channels/labels/nonprogressor/2304.npz\n",
            "npz_file_fld is /content/gdrive/MyDrive/Seminar/project/immune_310_project/dataset/NPY_41_channels/labels/nonprogressor\n",
            "output_path is /content/gdrive/MyDrive/Seminar/project/immune_310_project/dataset/JPG_VECT_TO_IMG_224_224/labels/nonprogressor\n",
            "Keys in the NPZ file: ['channel_data']\n",
            "npz_file_path is /content/gdrive/MyDrive/Seminar/project/immune_310_project/dataset/NPY_41_channels/labels/nonprogressor/3107.npz\n",
            "npz_file_fld is /content/gdrive/MyDrive/Seminar/project/immune_310_project/dataset/NPY_41_channels/labels/nonprogressor\n",
            "output_path is /content/gdrive/MyDrive/Seminar/project/immune_310_project/dataset/JPG_VECT_TO_IMG_224_224/labels/nonprogressor\n",
            "Keys in the NPZ file: ['channel_data']\n",
            "npz_file_path is /content/gdrive/MyDrive/Seminar/project/immune_310_project/dataset/NPY_41_channels/labels/nonprogressor/3108.npz\n",
            "npz_file_fld is /content/gdrive/MyDrive/Seminar/project/immune_310_project/dataset/NPY_41_channels/labels/nonprogressor\n",
            "output_path is /content/gdrive/MyDrive/Seminar/project/immune_310_project/dataset/JPG_VECT_TO_IMG_224_224/labels/nonprogressor\n",
            "Keys in the NPZ file: ['channel_data']\n",
            "npz_file_path is /content/gdrive/MyDrive/Seminar/project/immune_310_project/dataset/NPY_41_channels/labels/nonprogressor/5202.npz\n",
            "npz_file_fld is /content/gdrive/MyDrive/Seminar/project/immune_310_project/dataset/NPY_41_channels/labels/nonprogressor\n",
            "output_path is /content/gdrive/MyDrive/Seminar/project/immune_310_project/dataset/JPG_VECT_TO_IMG_224_224/labels/nonprogressor\n",
            "Keys in the NPZ file: ['channel_data']\n",
            "npz_file_path is /content/gdrive/MyDrive/Seminar/project/immune_310_project/dataset/NPY_41_channels/labels/nonprogressor/2206.npz\n",
            "npz_file_fld is /content/gdrive/MyDrive/Seminar/project/immune_310_project/dataset/NPY_41_channels/labels/nonprogressor\n",
            "output_path is /content/gdrive/MyDrive/Seminar/project/immune_310_project/dataset/JPG_VECT_TO_IMG_224_224/labels/nonprogressor\n",
            "Keys in the NPZ file: ['channel_data']\n",
            "npz_file_path is /content/gdrive/MyDrive/Seminar/project/immune_310_project/dataset/NPY_41_channels/labels/nonprogressor/3112.npz\n",
            "npz_file_fld is /content/gdrive/MyDrive/Seminar/project/immune_310_project/dataset/NPY_41_channels/labels/nonprogressor\n",
            "output_path is /content/gdrive/MyDrive/Seminar/project/immune_310_project/dataset/JPG_VECT_TO_IMG_224_224/labels/nonprogressor\n",
            "Keys in the NPZ file: ['channel_data']\n",
            "npz_file_path is /content/gdrive/MyDrive/Seminar/project/immune_310_project/dataset/NPY_41_channels/labels/nonprogressor/3115.npz\n",
            "npz_file_fld is /content/gdrive/MyDrive/Seminar/project/immune_310_project/dataset/NPY_41_channels/labels/nonprogressor\n",
            "output_path is /content/gdrive/MyDrive/Seminar/project/immune_310_project/dataset/JPG_VECT_TO_IMG_224_224/labels/nonprogressor\n",
            "Keys in the NPZ file: ['channel_data']\n",
            "npz_file_path is /content/gdrive/MyDrive/Seminar/project/immune_310_project/dataset/NPY_41_channels/labels/nonprogressor/3114.npz\n",
            "npz_file_fld is /content/gdrive/MyDrive/Seminar/project/immune_310_project/dataset/NPY_41_channels/labels/nonprogressor\n",
            "output_path is /content/gdrive/MyDrive/Seminar/project/immune_310_project/dataset/JPG_VECT_TO_IMG_224_224/labels/nonprogressor\n",
            "Keys in the NPZ file: ['channel_data']\n",
            "npz_file_path is /content/gdrive/MyDrive/Seminar/project/immune_310_project/dataset/NPY_41_channels/labels/nonprogressor/3125.npz\n",
            "npz_file_fld is /content/gdrive/MyDrive/Seminar/project/immune_310_project/dataset/NPY_41_channels/labels/nonprogressor\n",
            "output_path is /content/gdrive/MyDrive/Seminar/project/immune_310_project/dataset/JPG_VECT_TO_IMG_224_224/labels/nonprogressor\n",
            "Keys in the NPZ file: ['channel_data']\n",
            "npz_file_path is /content/gdrive/MyDrive/Seminar/project/immune_310_project/dataset/NPY_41_channels/labels/nonprogressor/6206.npz\n",
            "npz_file_fld is /content/gdrive/MyDrive/Seminar/project/immune_310_project/dataset/NPY_41_channels/labels/nonprogressor\n",
            "output_path is /content/gdrive/MyDrive/Seminar/project/immune_310_project/dataset/JPG_VECT_TO_IMG_224_224/labels/nonprogressor\n",
            "Keys in the NPZ file: ['channel_data']\n",
            "npz_file_path is /content/gdrive/MyDrive/Seminar/project/immune_310_project/dataset/NPY_41_channels/labels/nonprogressor/2319.npz\n",
            "npz_file_fld is /content/gdrive/MyDrive/Seminar/project/immune_310_project/dataset/NPY_41_channels/labels/nonprogressor\n",
            "output_path is /content/gdrive/MyDrive/Seminar/project/immune_310_project/dataset/JPG_VECT_TO_IMG_224_224/labels/nonprogressor\n",
            "Keys in the NPZ file: ['channel_data']\n",
            "npz_file_path is /content/gdrive/MyDrive/Seminar/project/immune_310_project/dataset/NPY_41_channels/labels/nonprogressor/2326.npz\n",
            "npz_file_fld is /content/gdrive/MyDrive/Seminar/project/immune_310_project/dataset/NPY_41_channels/labels/nonprogressor\n",
            "output_path is /content/gdrive/MyDrive/Seminar/project/immune_310_project/dataset/JPG_VECT_TO_IMG_224_224/labels/nonprogressor\n",
            "Keys in the NPZ file: ['channel_data']\n",
            "npz_file_path is /content/gdrive/MyDrive/Seminar/project/immune_310_project/dataset/NPY_41_channels/labels/nonprogressor/5309.npz\n",
            "npz_file_fld is /content/gdrive/MyDrive/Seminar/project/immune_310_project/dataset/NPY_41_channels/labels/nonprogressor\n",
            "output_path is /content/gdrive/MyDrive/Seminar/project/immune_310_project/dataset/JPG_VECT_TO_IMG_224_224/labels/nonprogressor\n",
            "Keys in the NPZ file: ['channel_data']\n",
            "npz_file_path is /content/gdrive/MyDrive/Seminar/project/immune_310_project/dataset/NPY_41_channels/labels/nonprogressor/2321.npz\n",
            "npz_file_fld is /content/gdrive/MyDrive/Seminar/project/immune_310_project/dataset/NPY_41_channels/labels/nonprogressor\n",
            "output_path is /content/gdrive/MyDrive/Seminar/project/immune_310_project/dataset/JPG_VECT_TO_IMG_224_224/labels/nonprogressor\n",
            "Keys in the NPZ file: ['channel_data']\n",
            "npz_file_path is /content/gdrive/MyDrive/Seminar/project/immune_310_project/dataset/NPY_41_channels/labels/nonprogressor/2328.npz\n",
            "npz_file_fld is /content/gdrive/MyDrive/Seminar/project/immune_310_project/dataset/NPY_41_channels/labels/nonprogressor\n",
            "output_path is /content/gdrive/MyDrive/Seminar/project/immune_310_project/dataset/JPG_VECT_TO_IMG_224_224/labels/nonprogressor\n",
            "Keys in the NPZ file: ['channel_data']\n",
            "npz_file_path is /content/gdrive/MyDrive/Seminar/project/immune_310_project/dataset/NPY_41_channels/labels/nonprogressor/2311.npz\n",
            "npz_file_fld is /content/gdrive/MyDrive/Seminar/project/immune_310_project/dataset/NPY_41_channels/labels/nonprogressor\n",
            "output_path is /content/gdrive/MyDrive/Seminar/project/immune_310_project/dataset/JPG_VECT_TO_IMG_224_224/labels/nonprogressor\n",
            "Keys in the NPZ file: ['channel_data']\n",
            "npz_file_path is /content/gdrive/MyDrive/Seminar/project/immune_310_project/dataset/NPY_41_channels/labels/nonprogressor/5306.npz\n",
            "npz_file_fld is /content/gdrive/MyDrive/Seminar/project/immune_310_project/dataset/NPY_41_channels/labels/nonprogressor\n",
            "output_path is /content/gdrive/MyDrive/Seminar/project/immune_310_project/dataset/JPG_VECT_TO_IMG_224_224/labels/nonprogressor\n",
            "Keys in the NPZ file: ['channel_data']\n",
            "npz_file_path is /content/gdrive/MyDrive/Seminar/project/immune_310_project/dataset/NPY_41_channels/labels/nonprogressor/5308.npz\n",
            "npz_file_fld is /content/gdrive/MyDrive/Seminar/project/immune_310_project/dataset/NPY_41_channels/labels/nonprogressor\n",
            "output_path is /content/gdrive/MyDrive/Seminar/project/immune_310_project/dataset/JPG_VECT_TO_IMG_224_224/labels/nonprogressor\n",
            "Keys in the NPZ file: ['channel_data']\n",
            "npz_file_path is /content/gdrive/MyDrive/Seminar/project/immune_310_project/dataset/NPY_41_channels/labels/nonprogressor/2320.npz\n",
            "npz_file_fld is /content/gdrive/MyDrive/Seminar/project/immune_310_project/dataset/NPY_41_channels/labels/nonprogressor\n",
            "output_path is /content/gdrive/MyDrive/Seminar/project/immune_310_project/dataset/JPG_VECT_TO_IMG_224_224/labels/nonprogressor\n",
            "Keys in the NPZ file: ['channel_data']\n",
            "npz_file_path is /content/gdrive/MyDrive/Seminar/project/immune_310_project/dataset/NPY_41_channels/labels/nonprogressor/2318.npz\n",
            "npz_file_fld is /content/gdrive/MyDrive/Seminar/project/immune_310_project/dataset/NPY_41_channels/labels/nonprogressor\n",
            "output_path is /content/gdrive/MyDrive/Seminar/project/immune_310_project/dataset/JPG_VECT_TO_IMG_224_224/labels/nonprogressor\n",
            "Keys in the NPZ file: ['channel_data']\n",
            "npz_file_path is /content/gdrive/MyDrive/Seminar/project/immune_310_project/dataset/NPY_41_channels/labels/nonprogressor/2327.npz\n",
            "npz_file_fld is /content/gdrive/MyDrive/Seminar/project/immune_310_project/dataset/NPY_41_channels/labels/nonprogressor\n",
            "output_path is /content/gdrive/MyDrive/Seminar/project/immune_310_project/dataset/JPG_VECT_TO_IMG_224_224/labels/nonprogressor\n",
            "Keys in the NPZ file: ['channel_data']\n"
          ]
        }
      ],
      "source": [
        "\n",
        "# # execution example\n",
        "# # Combine channel data\n",
        "# channel_data = [channel1, channel2, channel3, channel4, channel5, channel6, channel7, channel8, channel9, channel10]\n",
        "# # Define output path and filename prefix\n",
        "# output_path = os.path.join(root_dir,'output_folder')\n",
        "# print(\"output_path is {}\".format(output_path))\n",
        "\n",
        "# os.makedirs(output_path,exist_ok=True)\n",
        "# filename_prefix = 'output_prefix'\n",
        "# print(\"filename_prefix is {}\".format(filename_prefix))\n",
        "# output_shape = (224, 224)\n",
        "\n",
        "import re\n",
        "for npz_file_path in npy_n_channels_all:\n",
        "    # Replace the pattern using regular expressions\n",
        "    print(\"npz_file_path is {}\".format(npz_file_path))\n",
        "    output_shape = (224, 224)\n",
        "    # num_channels = 42\n",
        "    npz_file_fld = os.path.dirname(npz_file_path)\n",
        "    print(\"npz_file_fld is {}\".format(npz_file_fld))\n",
        "    # output_path = npz_file_fld.replace(\"NPY_41_channels\",\"JPG_RGB_224_224\")\n",
        "    output_path = re.sub(r'NPY_.*_channels', 'JPG_VECT_TO_IMG_{}_{}'.format(output_shape[0], output_shape[1]), npz_file_fld)\n",
        "    print(\"output_path is {}\".format(output_path))\n",
        "    os.makedirs(output_path, exist_ok=True)\n",
        "    patient = os.path.basename(npz_file_path).split(\".npz\")[0]\n",
        "    # Load the NPZ file\n",
        "    # Load the NPZ file\n",
        "    import numpy as np\n",
        "\n",
        "    # Load the NPZ file\n",
        "    loaded_data = np.load(npz_file_path)\n",
        "\n",
        "    # Check the keys present in the loaded NPZ file\n",
        "    print(\"Keys in the NPZ file:\", loaded_data.files)\n",
        "\n",
        "    # Now you have the extracted channel_data as a list of numpy arrays\n",
        "    channel_data = loaded_data['channel_data']\n",
        "    num_channels = len(channel_data)\n",
        "    # Call the function to create and save RGB images\n",
        "    create_rgb_image_from_channels(channel_data, output_shape, output_path, patient)\n"
      ]
    },
    {
      "cell_type": "code",
      "source": [
        "# len(channel_data)"
      ],
      "metadata": {
        "colab": {
          "base_uri": "https://localhost:8080/"
        },
        "id": "P6NcIPKZK3UX",
        "outputId": "69fbd589-04e5-4ea4-c6b0-22130fe56a82"
      },
      "id": "P6NcIPKZK3UX",
      "execution_count": 10,
      "outputs": [
        {
          "output_type": "execute_result",
          "data": {
            "text/plain": [
              "41"
            ]
          },
          "metadata": {},
          "execution_count": 10
        }
      ]
    },
    {
      "cell_type": "code",
      "source": [
        "# output_shape = (224, 224)\n",
        "# output_shape[0]*output_shape[1]"
      ],
      "metadata": {
        "colab": {
          "base_uri": "https://localhost:8080/"
        },
        "id": "yetT8owpo2HQ",
        "outputId": "01288433-0552-415e-ab64-8e004d5bf643"
      },
      "id": "yetT8owpo2HQ",
      "execution_count": 11,
      "outputs": [
        {
          "output_type": "execute_result",
          "data": {
            "text/plain": [
              "50176"
            ]
          },
          "metadata": {},
          "execution_count": 11
        }
      ]
    },
    {
      "cell_type": "code",
      "execution_count": 12,
      "id": "drTQ9DUOLKhc",
      "metadata": {
        "id": "drTQ9DUOLKhc",
        "colab": {
          "base_uri": "https://localhost:8080/"
        },
        "outputId": "f30109b0-a5d6-4ef6-cc94-4a7dbcc5c4be"
      },
      "outputs": [
        {
          "output_type": "stream",
          "name": "stdout",
          "text": [
            "Pixel Vector for the First Pixel: [102 220 225]\n"
          ]
        }
      ],
      "source": [
        "import numpy as np\n",
        "\n",
        "# Generate random data\n",
        "np.random.seed(42)  # For reproducibility\n",
        "height, width, num_channels = 1024, 1024, 3\n",
        "random_data = np.random.randint(0, 256, size=(height, width, num_channels), dtype=np.uint8)\n",
        "\n",
        "# Save the random data to an NPZ file\n",
        "np.savez_compressed('random_data.npz', array=random_data)\n",
        "\n",
        "# Load the NPZ file\n",
        "data = np.load('random_data.npz')\n",
        "array = data['array']\n",
        "\n",
        "# Reshape the array to a 2D shape (number of pixels, number of channels)\n",
        "reshaped_array = array.reshape(height * width, num_channels)\n",
        "\n",
        "# Now you have a 2D array where each row corresponds to a pixel's vector\n",
        "# For example, let's print the pixel vector of the first pixel\n",
        "first_pixel_vector = reshaped_array[0]\n",
        "print(\"Pixel Vector for the First Pixel:\", first_pixel_vector)\n",
        "\n",
        "# You can also iterate over all pixel vectors\n",
        "for pixel_vector in reshaped_array:\n",
        "    # Do something with the pixel_vector\n",
        "    pass\n"
      ]
    },
    {
      "cell_type": "code",
      "execution_count": 13,
      "id": "GRQbAMRQgpMa",
      "metadata": {
        "id": "GRQbAMRQgpMa"
      },
      "outputs": [],
      "source": [
        "# output_path = \"/content/gdrive/MyDrive/Seminar/project/immune_310_project/dataset/JPG_RGB_224_224/labels/progressor\""
      ]
    },
    {
      "cell_type": "code",
      "execution_count": 14,
      "id": "GbS5QWGQggqA",
      "metadata": {
        "id": "GbS5QWGQggqA"
      },
      "outputs": [],
      "source": [
        "\n",
        "# import os\n",
        "# os.path.dirname(output_path)"
      ]
    },
    {
      "cell_type": "code",
      "execution_count": 15,
      "id": "DJsOx1v0g5VL",
      "metadata": {
        "id": "DJsOx1v0g5VL"
      },
      "outputs": [],
      "source": [
        "# root_folder = os.path.dirname(output_path)\n",
        "# root_folder"
      ]
    },
    {
      "cell_type": "code",
      "execution_count": 16,
      "id": "U9mXzRZPg8UT",
      "metadata": {
        "colab": {
          "base_uri": "https://localhost:8080/",
          "height": 35
        },
        "id": "U9mXzRZPg8UT",
        "outputId": "5405fc70-6103-43fe-dd41-e5d484ff3b4b"
      },
      "outputs": [
        {
          "output_type": "execute_result",
          "data": {
            "text/plain": [
              "'/content/gdrive/MyDrive/Seminar/project/immune_310_project/dataset/JPG_VECT_TO_IMG_224_224/labels'"
            ],
            "application/vnd.google.colaboratory.intrinsic+json": {
              "type": "string"
            }
          },
          "metadata": {},
          "execution_count": 16
        }
      ],
      "source": [
        "# os.path.join(os.path.dirname(root_folder),\"train_validation_test\")\n",
        "root_folder = os.path.dirname(output_path)\n",
        "root_folder"
      ]
    },
    {
      "cell_type": "code",
      "execution_count": null,
      "id": "EFYv5Yo3gXst",
      "metadata": {
        "colab": {
          "base_uri": "https://localhost:8080/"
        },
        "id": "EFYv5Yo3gXst",
        "outputId": "cfe4655f-f83d-4353-93fb-70b72bf91181"
      },
      "outputs": [
        {
          "output_type": "stream",
          "name": "stdout",
          "text": [
            "root_folder is /content/gdrive/MyDrive/Seminar/project/immune_310_project/dataset/JPG_VECT_TO_IMG_224_224/labels\n",
            "output_folder is /content/gdrive/MyDrive/Seminar/project/immune_310_project/dataset/JPG_VECT_TO_IMG_224_224/train_validation_test\n"
          ]
        }
      ],
      "source": [
        "# create the train / validation and test folder for the created images:\n",
        "\n",
        "import os\n",
        "import shutil\n",
        "import random\n",
        "\n",
        "# Define the root folder containing the labels and images\n",
        "root_folder = os.path.dirname(output_path)\n",
        "print(\"root_folder is {}\".format(root_folder))\n",
        "output_folder = os.path.join(os.path.dirname(root_folder),\"train_validation_test\") # Define the output folder where train, validation, and test sets will be created\n",
        "print(\"output_folder is {}\".format(output_folder))\n",
        "\n",
        "# Define label names\n",
        "label_names = os.listdir(root_folder)\n",
        "\n",
        "# Define train, validation, and test ratios\n",
        "train_ratio = 0.7\n",
        "validation_ratio = 0.15\n",
        "test_ratio = 0.15\n",
        "\n",
        "# Create train, validation, and test folders\n",
        "for split in ['train', 'validation', 'test']:\n",
        "    split_folder = os.path.join(output_folder, split)\n",
        "    os.makedirs(split_folder, exist_ok=True)\n",
        "    for label in label_names:\n",
        "        os.makedirs(os.path.join(split_folder, label), exist_ok=True)\n",
        "\n",
        "# Iterate through each label\n",
        "for label in label_names:\n",
        "    label_folder = os.path.join(root_folder, label)\n",
        "    image_files = [f for f in os.listdir(label_folder) if f.endswith('.jpg')]\n",
        "\n",
        "    random.shuffle(image_files)\n",
        "\n",
        "    num_samples = len(image_files)\n",
        "    num_train = int(num_samples * train_ratio)\n",
        "    num_validation = int(num_samples * validation_ratio)\n",
        "\n",
        "    train_images = image_files[:num_train]\n",
        "    validation_images = image_files[num_train:num_train + num_validation]\n",
        "    test_images = image_files[num_train + num_validation:]\n",
        "\n",
        "    for image in train_images:\n",
        "        src = os.path.join(label_folder, image)\n",
        "        dest = os.path.join(output_folder, 'train', label, image)\n",
        "        shutil.copy(src, dest)\n",
        "\n",
        "    for image in validation_images:\n",
        "        src = os.path.join(label_folder, image)\n",
        "        dest = os.path.join(output_folder, 'validation', label, image)\n",
        "        shutil.copy(src, dest)\n",
        "\n",
        "    for image in test_images:\n",
        "        src = os.path.join(label_folder, image)\n",
        "        dest = os.path.join(output_folder, 'test', label, image)\n",
        "        shutil.copy(src, dest)\n",
        "\n",
        "print(\"Data splitting and copying complete.\")\n",
        "\n"
      ]
    },
    {
      "cell_type": "code",
      "execution_count": null,
      "id": "foUrUf4WEyFF",
      "metadata": {
        "id": "foUrUf4WEyFF"
      },
      "outputs": [],
      "source": []
    }
  ],
  "metadata": {
    "accelerator": "GPU",
    "colab": {
      "gpuType": "T4",
      "provenance": [],
      "include_colab_link": true
    },
    "kernelspec": {
      "display_name": "Python 3 (ipykernel)",
      "language": "python",
      "name": "python3"
    },
    "language_info": {
      "codemirror_mode": {
        "name": "ipython",
        "version": 3
      },
      "file_extension": ".py",
      "mimetype": "text/x-python",
      "name": "python",
      "nbconvert_exporter": "python",
      "pygments_lexer": "ipython3",
      "version": "3.8.17"
    }
  },
  "nbformat": 4,
  "nbformat_minor": 5
}