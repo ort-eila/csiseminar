{
 "cells": [
  {
   "cell_type": "markdown",
   "id": "bf6acb58",
   "metadata": {
    "colab_type": "text",
    "id": "view-in-github"
   },
   "source": [
    "<a href=\"https://colab.research.google.com/github/ort-eila/csiseminar/blob/main/project/step2_mibi_DCIS.ipynb\" target=\"_parent\"><img src=\"https://colab.research.google.com/assets/colab-badge.svg\" alt=\"Open In Colab\"/></a>"
   ]
  },
  {
   "cell_type": "code",
   "execution_count": 1,
   "id": "grplo3KX8J_x",
   "metadata": {
    "colab": {
     "base_uri": "https://localhost:8080/"
    },
    "id": "grplo3KX8J_x",
    "outputId": "213ae8ea-194d-4e37-e278-5f678db135ae"
   },
   "outputs": [
    {
     "ename": "ModuleNotFoundError",
     "evalue": "No module named 'google'",
     "output_type": "error",
     "traceback": [
      "\u001b[0;31m---------------------------------------------------------------------------\u001b[0m",
      "\u001b[0;31mModuleNotFoundError\u001b[0m                       Traceback (most recent call last)",
      "Cell \u001b[0;32mIn[1], line 1\u001b[0m\n\u001b[0;32m----> 1\u001b[0m \u001b[38;5;28;01mfrom\u001b[39;00m \u001b[38;5;21;01mgoogle\u001b[39;00m\u001b[38;5;21;01m.\u001b[39;00m\u001b[38;5;21;01mcolab\u001b[39;00m \u001b[38;5;28;01mimport\u001b[39;00m drive\n\u001b[1;32m      2\u001b[0m drive\u001b[38;5;241m.\u001b[39mmount(\u001b[38;5;124m\"\u001b[39m\u001b[38;5;124m/content/gdrive\u001b[39m\u001b[38;5;124m\"\u001b[39m)\n",
      "\u001b[0;31mModuleNotFoundError\u001b[0m: No module named 'google'"
     ]
    }
   ],
   "source": [
    "from google.colab import drive\n",
    "drive.mount(\"/content/gdrive\")\n",
    "# csiseminar/project/step2_DataToVec_mibi_DCIS.ipynb"
   ]
  },
  {
   "cell_type": "code",
   "execution_count": 18,
   "id": "O_fxE6Lq8OCm",
   "metadata": {
    "colab": {
     "base_uri": "https://localhost:8080/",
     "height": 35
    },
    "id": "O_fxE6Lq8OCm",
    "outputId": "2ae9bb6a-33d1-48a7-b650-4c1bc917cf32"
   },
   "outputs": [
    {
     "data": {
      "application/vnd.google.colaboratory.intrinsic+json": {
       "type": "string"
      },
      "text/plain": [
       "'/content/gdrive/MyDrive/Seminar/project/immune_310_project/dataset/NPY_41_channels/labels'"
      ]
     },
     "execution_count": 18,
     "metadata": {},
     "output_type": "execute_result"
    }
   ],
   "source": [
    "import os\n",
    "root_dir = \"/content/gdrive/MyDrive/Seminar/project/immune_310_project\"\n",
    "dataset_path=os.path.join(root_dir,\"dataset\",\"NPY_41_channels\",\"labels\")\n",
    "dataset_path"
   ]
  },
  {
   "cell_type": "code",
   "execution_count": 19,
   "id": "ShyAfwoc9K5J",
   "metadata": {
    "colab": {
     "base_uri": "https://localhost:8080/"
    },
    "id": "ShyAfwoc9K5J",
    "outputId": "b07ecac2-75dd-4114-d27c-cdc327094d5a"
   },
   "outputs": [
    {
     "name": "stdout",
     "output_type": "stream",
     "text": [
      "progressors_npy_dir is /content/gdrive/MyDrive/Seminar/project/immune_310_project/dataset/NPY_41_channels/labels/progressor\n",
      "non_progressors_npy_dir is /content/gdrive/MyDrive/Seminar/project/immune_310_project/dataset/NPY_41_channels/labels/nonprogressor\n"
     ]
    }
   ],
   "source": [
    "progressors_npy_dir = os.path.join(dataset_path,\"progressor\")\n",
    "print(\"progressors_npy_dir is {}\".format(progressors_npy_dir))\n",
    "non_progressors_npy_dir = os.path.join(dataset_path,\"nonprogressor\")\n",
    "print(\"non_progressors_npy_dir is {}\".format(non_progressors_npy_dir))\n"
   ]
  },
  {
   "cell_type": "code",
   "execution_count": 20,
   "id": "b628a431-95f8-4231-bb41-67a87df3e32d",
   "metadata": {
    "colab": {
     "base_uri": "https://localhost:8080/"
    },
    "id": "b628a431-95f8-4231-bb41-67a87df3e32d",
    "outputId": "0f2d039e-5a5c-47f0-90a3-4d802e04166c"
   },
   "outputs": [
    {
     "name": "stdout",
     "output_type": "stream",
     "text": [
      "['/content/gdrive/MyDrive/Seminar/project/immune_310_project/dataset/NPY_41_channels/labels/progressor/6103.npz', '/content/gdrive/MyDrive/Seminar/project/immune_310_project/dataset/NPY_41_channels/labels/progressor/2306.npz', '/content/gdrive/MyDrive/Seminar/project/immune_310_project/dataset/NPY_41_channels/labels/progressor/5310.npz', '/content/gdrive/MyDrive/Seminar/project/immune_310_project/dataset/NPY_41_channels/labels/progressor/6102.npz', '/content/gdrive/MyDrive/Seminar/project/immune_310_project/dataset/NPY_41_channels/labels/progressor/3105.npz']\n",
      "['/content/gdrive/MyDrive/Seminar/project/immune_310_project/dataset/NPY_41_channels/labels/nonprogressor/5306.npz', '/content/gdrive/MyDrive/Seminar/project/immune_310_project/dataset/NPY_41_channels/labels/nonprogressor/5308.npz', '/content/gdrive/MyDrive/Seminar/project/immune_310_project/dataset/NPY_41_channels/labels/nonprogressor/2320.npz', '/content/gdrive/MyDrive/Seminar/project/immune_310_project/dataset/NPY_41_channels/labels/nonprogressor/2318.npz', '/content/gdrive/MyDrive/Seminar/project/immune_310_project/dataset/NPY_41_channels/labels/nonprogressor/2327.npz']\n"
     ]
    }
   ],
   "source": [
    "progressors_npy_files = os.listdir(progressors_npy_dir)\n",
    "non_progressors_npy_files = os.listdir(non_progressors_npy_dir)\n",
    "npy_n_channels_all = [os.path.join(progressors_npy_dir,x) for x in progressors_npy_files]\n",
    "npy_n_channels_all = npy_n_channels_all + [os.path.join(non_progressors_npy_dir,x) for x in non_progressors_npy_files]\n",
    "print(npy_n_channels_all[0:5])\n",
    "print(npy_n_channels_all[-5:])\n"
   ]
  },
  {
   "cell_type": "code",
   "execution_count": 21,
   "id": "4faece17-d782-4001-ac57-2f37ab08c823",
   "metadata": {
    "id": "4faece17-d782-4001-ac57-2f37ab08c823"
   },
   "outputs": [],
   "source": [
    "# Step 2. create 224x224 images for the model and save them in a seperate foldet\n",
    "# with a folder name = dataset name"
   ]
  },
  {
   "cell_type": "code",
   "execution_count": null,
   "id": "68df4dfb-577e-49fa-ba5d-fdad552af17d",
   "metadata": {},
   "outputs": [],
   "source": [
    "def create_vectors_from_channels(channel_data, output_path):\n",
    "    "
   ]
  },
  {
   "cell_type": "code",
   "execution_count": 22,
   "id": "8ApNZHLW9spz",
   "metadata": {
    "id": "8ApNZHLW9spz"
   },
   "outputs": [],
   "source": [
    "# import numpy as np\n",
    "# from PIL import Image\n",
    "# import re\n",
    "# import os\n",
    "\n",
    "# def create_rgb_images_from_channels(channel_data, output_shape, output_path, filename_prefix):\n",
    "#     height, width = channel_data[0].shape\n",
    "#     channels_per_rgb = 3\n",
    "\n",
    "\n",
    "#     rgb_values = []\n",
    "#     # for channel_index in range(0, len(channel_data)-1, channels_per_rgb):\n",
    "#     #   print(\"channel_index is {}\".format(channel_index))\n",
    "#     for col in range(0, width):\n",
    "#       for row in range(0, height):\n",
    "#         for channel_index in range(0, len(channel_data)-1, channels_per_rgb):\n",
    "#           # print(\"channel_index is {}\".format(channel_index))\n",
    "#           # print(\"row is {}\".format(row))\n",
    "#           # print(\"col is {}\".format(col))\n",
    "#           R,G,B = 0,0,0 # prepare the padding\n",
    "#           R = channel_data[channel_index][row, col]\n",
    "#           if (channel_index+1 <= (len(channel_data)-1)):\n",
    "#             G = channel_data[channel_index+1][row, col]\n",
    "#           if (channel_index+2 <= (len(channel_data)-1)):\n",
    "#             B = channel_data[channel_index+2][row, col]\n",
    "#           rgb_val = (R,G,B)\n",
    "#           if rgb_val == (0,0,0):\n",
    "#             # print(\"rgb_val is {}. Continue\".format(rgb_val))\n",
    "#             continue\n",
    "#           # else:\n",
    "#           #   print(\"rgb_val {} will be added\".format(rgb_val))\n",
    "#           # print()\n",
    "#           print(\"adding RGB value {}\".format(rgb_val))\n",
    "#           rgb_values.append(rgb_val)\n",
    "\n",
    "#     # print(\"rgb_values is {}\".format(rgb_values))\n",
    "#     rgb_values_counter = 0\n",
    "#     # Create the rgb_image using the accumulated rgb_values\n",
    "#     num_of_images = len(rgb_values) // (output_shape[0]*output_shape[1]) + 1\n",
    "#     # create at list one image\n",
    "#     for img in range(num_of_images):\n",
    "#       rgb_image = np.zeros((output_shape[0], output_shape[1], 3), dtype=np.uint8)\n",
    "#       for img_i in range(output_shape[0]):\n",
    "#         for img_j in range(output_shape[1]):\n",
    "#           rgb_val = (0,0,0)\n",
    "#           if rgb_values_counter < (len(rgb_values) - 1):\n",
    "#             rgb_val = rgb_values[rgb_values_counter]\n",
    "#             rgb_values_counter+=1\n",
    "#             rgb_image[img_i,img_j,] = rgb_val\n",
    "#             # print(\"rgb_image[img_i,img_j] is {}\".format(rgb_image[img_i,img_j]))\n",
    "#       pil_image = Image.fromarray(rgb_image)\n",
    "#       file_name = f'{filename_prefix}_rgb_image_{img}_counter_{rgb_values_counter}_row_{row}_col{col}.jpg'\n",
    "#       full_file_name = f'{output_path}/{file_name}'\n",
    "#       print(\"Save file name {}\".format(full_file_name))\n",
    "#       pil_image.save(full_file_name)"
   ]
  },
  {
   "cell_type": "code",
   "execution_count": 23,
   "id": "ffb37f66-eb02-4466-a6e2-b2a413f4796b",
   "metadata": {
    "colab": {
     "base_uri": "https://localhost:8080/"
    },
    "id": "ffb37f66-eb02-4466-a6e2-b2a413f4796b",
    "outputId": "f6e1be5e-425b-43cf-a740-77c9d325330f"
   },
   "outputs": [
    {
     "name": "stdout",
     "output_type": "stream",
     "text": [
      "npz_file_path is /content/gdrive/MyDrive/Seminar/project/immune_310_project/dataset/NPY_41_channels/labels/progressor/6103.npz\n",
      "npz_file_fld is /content/gdrive/MyDrive/Seminar/project/immune_310_project/dataset/NPY_41_channels/labels/progressor\n",
      "output_path is /content/gdrive/MyDrive/Seminar/project/immune_310_project/dataset/JPG_RGB_224_224_NO_ZEROS/labels/progressor\n",
      "Keys in the NPZ file: ['channel_data']\n"
     ]
    }
   ],
   "source": [
    "# # execution example\n",
    "# # Combine channel data\n",
    "# channel_data = [channel1, channel2, channel3, channel4, channel5, channel6, channel7, channel8, channel9, channel10]\n",
    "# # Define output path and filename prefix\n",
    "# output_path = os.path.join(root_dir,'output_folder')\n",
    "# print(\"output_path is {}\".format(output_path))\n",
    "\n",
    "# os.makedirs(output_path,exist_ok=True)\n",
    "# filename_prefix = 'output_prefix'\n",
    "# print(\"filename_prefix is {}\".format(filename_prefix))\n",
    "# output_shape = (224, 224)\n",
    "\n",
    "\n",
    "for npz_file_path in npy_n_channels_all:\n",
    "    # default params: rgb_height=224, rgb_width=224\n",
    "    # Replace the pattern using regular expressions\n",
    "    print(\"npz_file_path is {}\".format(npz_file_path))\n",
    "    output_shape = (224, 224)\n",
    "    num_channels = 42\n",
    "    npz_file_fld = os.path.dirname(npz_file_path)\n",
    "    print(\"npz_file_fld is {}\".format(npz_file_fld))\n",
    "    # output_path = npz_file_fld.replace(\"NPY_41_channels\",\"JPG_RGB_224_224\")\n",
    "    output_path = re.sub(r'NPY_.*_channels', 'JPG_DATA_TO_VECT_{}_{}'.format(output_shape[0], output_shape[1]), npz_file_fld)\n",
    "    print(\"output_path is {}\".format(output_path))\n",
    "    os.makedirs(output_path, exist_ok=True)\n",
    "    patient = os.path.basename(npz_file_path).split(\".npz\")[0]\n",
    "    # Load the NPZ file\n",
    "    # Load the NPZ file\n",
    "    import numpy as np\n",
    "\n",
    "    # Load the NPZ file\n",
    "    loaded_data = np.load(npz_file_path)\n",
    "\n",
    "    # Check the keys present in the loaded NPZ file\n",
    "    print(\"Keys in the NPZ file:\", loaded_data.files)\n",
    "\n",
    "    # Now you have the extracted channel_data as a list of numpy arrays\n",
    "    channel_data = loaded_data['channel_data']\n",
    "\n",
    "    # Call the function to create and save RGB images\n",
    "    # DEF: reate_rgb_images_from_channels(channel_data, output_shape, output_path, filename_prefix)\n",
    "    # create_rgb_images_from_channels(channel_data, output_shape, output_path, patient)\n",
    "    # create_vectors_from_channels(channel_data, output_path)\n"
   ]
  },
  {
   "cell_type": "code",
   "execution_count": null,
   "id": "drTQ9DUOLKhc",
   "metadata": {
    "id": "drTQ9DUOLKhc"
   },
   "outputs": [],
   "source": []
  },
  {
   "cell_type": "code",
   "execution_count": null,
   "id": "GRQbAMRQgpMa",
   "metadata": {
    "id": "GRQbAMRQgpMa"
   },
   "outputs": [],
   "source": [
    "# output_path = \"/content/gdrive/MyDrive/Seminar/project/immune_310_project/dataset/JPG_RGB_224_224/labels/progressor\""
   ]
  },
  {
   "cell_type": "code",
   "execution_count": null,
   "id": "GbS5QWGQggqA",
   "metadata": {
    "id": "GbS5QWGQggqA"
   },
   "outputs": [],
   "source": [
    "\n",
    "# import os\n",
    "# os.path.dirname(output_path)"
   ]
  },
  {
   "cell_type": "code",
   "execution_count": null,
   "id": "DJsOx1v0g5VL",
   "metadata": {
    "id": "DJsOx1v0g5VL"
   },
   "outputs": [],
   "source": [
    "# root_folder = os.path.dirname(output_path)\n",
    "# root_folder"
   ]
  },
  {
   "cell_type": "code",
   "execution_count": 24,
   "id": "U9mXzRZPg8UT",
   "metadata": {
    "colab": {
     "base_uri": "https://localhost:8080/",
     "height": 35
    },
    "id": "U9mXzRZPg8UT",
    "outputId": "c885860d-5d7a-4982-80ee-d3ad1e03bfd0"
   },
   "outputs": [
    {
     "data": {
      "application/vnd.google.colaboratory.intrinsic+json": {
       "type": "string"
      },
      "text/plain": [
       "'/content/gdrive/MyDrive/Seminar/project/immune_310_project/dataset/JPG_RGB_224_224_NO_ZEROS/labels'"
      ]
     },
     "execution_count": 24,
     "metadata": {},
     "output_type": "execute_result"
    }
   ],
   "source": [
    "# os.path.join(os.path.dirname(root_folder),\"train_validation_test\")\n",
    "root_folder = os.path.dirname(output_path)\n",
    "root_folder"
   ]
  },
  {
   "cell_type": "code",
   "execution_count": 25,
   "id": "EFYv5Yo3gXst",
   "metadata": {
    "colab": {
     "base_uri": "https://localhost:8080/"
    },
    "id": "EFYv5Yo3gXst",
    "outputId": "736b7539-6c89-4be7-fab0-ac8619b661e9"
   },
   "outputs": [
    {
     "name": "stdout",
     "output_type": "stream",
     "text": [
      "root_folder is /content/gdrive/MyDrive/Seminar/project/immune_310_project/dataset/JPG_RGB_224_224_NO_ZEROS/labels\n",
      "output_folder is /content/gdrive/MyDrive/Seminar/project/immune_310_project/dataset/JPG_RGB_224_224_NO_ZEROS/train_validation_test\n",
      "Data splitting and copying complete.\n"
     ]
    }
   ],
   "source": [
    "# create the train / validation and test folder for the created images:\n",
    "\n",
    "import os\n",
    "import shutil\n",
    "import random\n",
    "\n",
    "# Define the root folder containing the labels and images\n",
    "root_folder = os.path.dirname(output_path)\n",
    "print(\"root_folder is {}\".format(root_folder))\n",
    "output_folder = os.path.join(os.path.dirname(root_folder),\"train_validation_test\") # Define the output folder where train, validation, and test sets will be created\n",
    "print(\"output_folder is {}\".format(output_folder))\n",
    "\n",
    "# Define label names\n",
    "label_names = os.listdir(root_folder)\n",
    "\n",
    "# Define train, validation, and test ratios\n",
    "train_ratio = 0.7\n",
    "validation_ratio = 0.15\n",
    "test_ratio = 0.15\n",
    "\n",
    "# Create train, validation, and test folders\n",
    "for split in ['train', 'validation', 'test']:\n",
    "    split_folder = os.path.join(output_folder, split)\n",
    "    os.makedirs(split_folder, exist_ok=True)\n",
    "    for label in label_names:\n",
    "        os.makedirs(os.path.join(split_folder, label), exist_ok=True)\n",
    "\n",
    "# Iterate through each label\n",
    "for label in label_names:\n",
    "    label_folder = os.path.join(root_folder, label)\n",
    "    image_files = [f for f in os.listdir(label_folder) if f.endswith('.jpg')]\n",
    "\n",
    "    random.shuffle(image_files)\n",
    "\n",
    "    num_samples = len(image_files)\n",
    "    num_train = int(num_samples * train_ratio)\n",
    "    num_validation = int(num_samples * validation_ratio)\n",
    "\n",
    "    train_images = image_files[:num_train]\n",
    "    validation_images = image_files[num_train:num_train + num_validation]\n",
    "    test_images = image_files[num_train + num_validation:]\n",
    "\n",
    "    for image in train_images:\n",
    "        src = os.path.join(label_folder, image)\n",
    "        dest = os.path.join(output_folder, 'train', label, image)\n",
    "        shutil.copy(src, dest)\n",
    "\n",
    "    for image in validation_images:\n",
    "        src = os.path.join(label_folder, image)\n",
    "        dest = os.path.join(output_folder, 'validation', label, image)\n",
    "        shutil.copy(src, dest)\n",
    "\n",
    "    for image in test_images:\n",
    "        src = os.path.join(label_folder, image)\n",
    "        dest = os.path.join(output_folder, 'test', label, image)\n",
    "        shutil.copy(src, dest)\n",
    "\n",
    "print(\"Data splitting and copying complete.\")\n",
    "\n"
   ]
  },
  {
   "cell_type": "code",
   "execution_count": null,
   "id": "foUrUf4WEyFF",
   "metadata": {
    "id": "foUrUf4WEyFF"
   },
   "outputs": [],
   "source": []
  }
 ],
 "metadata": {
  "accelerator": "GPU",
  "colab": {
   "gpuType": "T4",
   "include_colab_link": true,
   "provenance": []
  },
  "kernelspec": {
   "display_name": "Python 3 (ipykernel)",
   "language": "python",
   "name": "python3"
  },
  "language_info": {
   "codemirror_mode": {
    "name": "ipython",
    "version": 3
   },
   "file_extension": ".py",
   "mimetype": "text/x-python",
   "name": "python",
   "nbconvert_exporter": "python",
   "pygments_lexer": "ipython3",
   "version": "3.8.17"
  }
 },
 "nbformat": 4,
 "nbformat_minor": 5
}
