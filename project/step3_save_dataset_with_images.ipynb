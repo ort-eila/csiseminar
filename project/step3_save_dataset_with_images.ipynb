{
  "nbformat": 4,
  "nbformat_minor": 0,
  "metadata": {
    "colab": {
      "provenance": [],
      "gpuType": "T4",
      "authorship_tag": "ABX9TyOoNhKaMaMmK+nO06ULTVj8",
      "include_colab_link": true
    },
    "kernelspec": {
      "name": "python3",
      "display_name": "Python 3"
    },
    "language_info": {
      "name": "python"
    },
    "widgets": {
      "application/vnd.jupyter.widget-state+json": {
        "b3c5810907514ca8ad250a79baf5b37c": {
          "model_module": "@jupyter-widgets/controls",
          "model_name": "HBoxModel",
          "model_module_version": "1.5.0",
          "state": {
            "_dom_classes": [],
            "_model_module": "@jupyter-widgets/controls",
            "_model_module_version": "1.5.0",
            "_model_name": "HBoxModel",
            "_view_count": null,
            "_view_module": "@jupyter-widgets/controls",
            "_view_module_version": "1.5.0",
            "_view_name": "HBoxView",
            "box_style": "",
            "children": [
              "IPY_MODEL_30e103129bc64d8aa7171fea2cc11820",
              "IPY_MODEL_156f456445a74fabbbbdb00a570ace2c",
              "IPY_MODEL_95e917d8d29c4f0dadd56b241fcf981f"
            ],
            "layout": "IPY_MODEL_2fe4f5d7544448cf886e4162269493c3"
          }
        },
        "30e103129bc64d8aa7171fea2cc11820": {
          "model_module": "@jupyter-widgets/controls",
          "model_name": "HTMLModel",
          "model_module_version": "1.5.0",
          "state": {
            "_dom_classes": [],
            "_model_module": "@jupyter-widgets/controls",
            "_model_module_version": "1.5.0",
            "_model_name": "HTMLModel",
            "_view_count": null,
            "_view_module": "@jupyter-widgets/controls",
            "_view_module_version": "1.5.0",
            "_view_name": "HTMLView",
            "description": "",
            "description_tooltip": null,
            "layout": "IPY_MODEL_80c4fce4e92045a1a3b76a62cbce1361",
            "placeholder": "​",
            "style": "IPY_MODEL_6111a494d50d4705a35c80251e10f14d",
            "value": "Map:  39%"
          }
        },
        "156f456445a74fabbbbdb00a570ace2c": {
          "model_module": "@jupyter-widgets/controls",
          "model_name": "FloatProgressModel",
          "model_module_version": "1.5.0",
          "state": {
            "_dom_classes": [],
            "_model_module": "@jupyter-widgets/controls",
            "_model_module_version": "1.5.0",
            "_model_name": "FloatProgressModel",
            "_view_count": null,
            "_view_module": "@jupyter-widgets/controls",
            "_view_module_version": "1.5.0",
            "_view_name": "ProgressView",
            "bar_style": "",
            "description": "",
            "description_tooltip": null,
            "layout": "IPY_MODEL_1c6dde9ce2754c78a711cc56cbcb25de",
            "max": 1376,
            "min": 0,
            "orientation": "horizontal",
            "style": "IPY_MODEL_963c6e9499914070a25be81d7d14e4ce",
            "value": 543
          }
        },
        "95e917d8d29c4f0dadd56b241fcf981f": {
          "model_module": "@jupyter-widgets/controls",
          "model_name": "HTMLModel",
          "model_module_version": "1.5.0",
          "state": {
            "_dom_classes": [],
            "_model_module": "@jupyter-widgets/controls",
            "_model_module_version": "1.5.0",
            "_model_name": "HTMLModel",
            "_view_count": null,
            "_view_module": "@jupyter-widgets/controls",
            "_view_module_version": "1.5.0",
            "_view_name": "HTMLView",
            "description": "",
            "description_tooltip": null,
            "layout": "IPY_MODEL_f97d328adfa343b2bf958daeb9432c80",
            "placeholder": "​",
            "style": "IPY_MODEL_2cb2e8fe4a0248a3ac84da4f740c3e2e",
            "value": " 543/1376 [00:52&lt;03:07,  4.44 examples/s]"
          }
        },
        "2fe4f5d7544448cf886e4162269493c3": {
          "model_module": "@jupyter-widgets/base",
          "model_name": "LayoutModel",
          "model_module_version": "1.2.0",
          "state": {
            "_model_module": "@jupyter-widgets/base",
            "_model_module_version": "1.2.0",
            "_model_name": "LayoutModel",
            "_view_count": null,
            "_view_module": "@jupyter-widgets/base",
            "_view_module_version": "1.2.0",
            "_view_name": "LayoutView",
            "align_content": null,
            "align_items": null,
            "align_self": null,
            "border": null,
            "bottom": null,
            "display": null,
            "flex": null,
            "flex_flow": null,
            "grid_area": null,
            "grid_auto_columns": null,
            "grid_auto_flow": null,
            "grid_auto_rows": null,
            "grid_column": null,
            "grid_gap": null,
            "grid_row": null,
            "grid_template_areas": null,
            "grid_template_columns": null,
            "grid_template_rows": null,
            "height": null,
            "justify_content": null,
            "justify_items": null,
            "left": null,
            "margin": null,
            "max_height": null,
            "max_width": null,
            "min_height": null,
            "min_width": null,
            "object_fit": null,
            "object_position": null,
            "order": null,
            "overflow": null,
            "overflow_x": null,
            "overflow_y": null,
            "padding": null,
            "right": null,
            "top": null,
            "visibility": null,
            "width": null
          }
        },
        "80c4fce4e92045a1a3b76a62cbce1361": {
          "model_module": "@jupyter-widgets/base",
          "model_name": "LayoutModel",
          "model_module_version": "1.2.0",
          "state": {
            "_model_module": "@jupyter-widgets/base",
            "_model_module_version": "1.2.0",
            "_model_name": "LayoutModel",
            "_view_count": null,
            "_view_module": "@jupyter-widgets/base",
            "_view_module_version": "1.2.0",
            "_view_name": "LayoutView",
            "align_content": null,
            "align_items": null,
            "align_self": null,
            "border": null,
            "bottom": null,
            "display": null,
            "flex": null,
            "flex_flow": null,
            "grid_area": null,
            "grid_auto_columns": null,
            "grid_auto_flow": null,
            "grid_auto_rows": null,
            "grid_column": null,
            "grid_gap": null,
            "grid_row": null,
            "grid_template_areas": null,
            "grid_template_columns": null,
            "grid_template_rows": null,
            "height": null,
            "justify_content": null,
            "justify_items": null,
            "left": null,
            "margin": null,
            "max_height": null,
            "max_width": null,
            "min_height": null,
            "min_width": null,
            "object_fit": null,
            "object_position": null,
            "order": null,
            "overflow": null,
            "overflow_x": null,
            "overflow_y": null,
            "padding": null,
            "right": null,
            "top": null,
            "visibility": null,
            "width": null
          }
        },
        "6111a494d50d4705a35c80251e10f14d": {
          "model_module": "@jupyter-widgets/controls",
          "model_name": "DescriptionStyleModel",
          "model_module_version": "1.5.0",
          "state": {
            "_model_module": "@jupyter-widgets/controls",
            "_model_module_version": "1.5.0",
            "_model_name": "DescriptionStyleModel",
            "_view_count": null,
            "_view_module": "@jupyter-widgets/base",
            "_view_module_version": "1.2.0",
            "_view_name": "StyleView",
            "description_width": ""
          }
        },
        "1c6dde9ce2754c78a711cc56cbcb25de": {
          "model_module": "@jupyter-widgets/base",
          "model_name": "LayoutModel",
          "model_module_version": "1.2.0",
          "state": {
            "_model_module": "@jupyter-widgets/base",
            "_model_module_version": "1.2.0",
            "_model_name": "LayoutModel",
            "_view_count": null,
            "_view_module": "@jupyter-widgets/base",
            "_view_module_version": "1.2.0",
            "_view_name": "LayoutView",
            "align_content": null,
            "align_items": null,
            "align_self": null,
            "border": null,
            "bottom": null,
            "display": null,
            "flex": null,
            "flex_flow": null,
            "grid_area": null,
            "grid_auto_columns": null,
            "grid_auto_flow": null,
            "grid_auto_rows": null,
            "grid_column": null,
            "grid_gap": null,
            "grid_row": null,
            "grid_template_areas": null,
            "grid_template_columns": null,
            "grid_template_rows": null,
            "height": null,
            "justify_content": null,
            "justify_items": null,
            "left": null,
            "margin": null,
            "max_height": null,
            "max_width": null,
            "min_height": null,
            "min_width": null,
            "object_fit": null,
            "object_position": null,
            "order": null,
            "overflow": null,
            "overflow_x": null,
            "overflow_y": null,
            "padding": null,
            "right": null,
            "top": null,
            "visibility": null,
            "width": null
          }
        },
        "963c6e9499914070a25be81d7d14e4ce": {
          "model_module": "@jupyter-widgets/controls",
          "model_name": "ProgressStyleModel",
          "model_module_version": "1.5.0",
          "state": {
            "_model_module": "@jupyter-widgets/controls",
            "_model_module_version": "1.5.0",
            "_model_name": "ProgressStyleModel",
            "_view_count": null,
            "_view_module": "@jupyter-widgets/base",
            "_view_module_version": "1.2.0",
            "_view_name": "StyleView",
            "bar_color": null,
            "description_width": ""
          }
        },
        "f97d328adfa343b2bf958daeb9432c80": {
          "model_module": "@jupyter-widgets/base",
          "model_name": "LayoutModel",
          "model_module_version": "1.2.0",
          "state": {
            "_model_module": "@jupyter-widgets/base",
            "_model_module_version": "1.2.0",
            "_model_name": "LayoutModel",
            "_view_count": null,
            "_view_module": "@jupyter-widgets/base",
            "_view_module_version": "1.2.0",
            "_view_name": "LayoutView",
            "align_content": null,
            "align_items": null,
            "align_self": null,
            "border": null,
            "bottom": null,
            "display": null,
            "flex": null,
            "flex_flow": null,
            "grid_area": null,
            "grid_auto_columns": null,
            "grid_auto_flow": null,
            "grid_auto_rows": null,
            "grid_column": null,
            "grid_gap": null,
            "grid_row": null,
            "grid_template_areas": null,
            "grid_template_columns": null,
            "grid_template_rows": null,
            "height": null,
            "justify_content": null,
            "justify_items": null,
            "left": null,
            "margin": null,
            "max_height": null,
            "max_width": null,
            "min_height": null,
            "min_width": null,
            "object_fit": null,
            "object_position": null,
            "order": null,
            "overflow": null,
            "overflow_x": null,
            "overflow_y": null,
            "padding": null,
            "right": null,
            "top": null,
            "visibility": null,
            "width": null
          }
        },
        "2cb2e8fe4a0248a3ac84da4f740c3e2e": {
          "model_module": "@jupyter-widgets/controls",
          "model_name": "DescriptionStyleModel",
          "model_module_version": "1.5.0",
          "state": {
            "_model_module": "@jupyter-widgets/controls",
            "_model_module_version": "1.5.0",
            "_model_name": "DescriptionStyleModel",
            "_view_count": null,
            "_view_module": "@jupyter-widgets/base",
            "_view_module_version": "1.2.0",
            "_view_name": "StyleView",
            "description_width": ""
          }
        }
      }
    },
    "accelerator": "GPU"
  },
  "cells": [
    {
      "cell_type": "markdown",
      "metadata": {
        "id": "view-in-github",
        "colab_type": "text"
      },
      "source": [
        "<a href=\"https://colab.research.google.com/github/ort-eila/csiseminar/blob/main/project/step3_save_dataset_with_images.ipynb\" target=\"_parent\"><img src=\"https://colab.research.google.com/assets/colab-badge.svg\" alt=\"Open In Colab\"/></a>"
      ]
    },
    {
      "cell_type": "code",
      "source": [
        "# !pip install datasets transformers\n",
        "# !pip install --upgrade datasets\n"
      ],
      "metadata": {
        "id": "OldUIqyzUm8d"
      },
      "execution_count": 4,
      "outputs": []
    },
    {
      "cell_type": "code",
      "execution_count": 5,
      "metadata": {
        "colab": {
          "base_uri": "https://localhost:8080/"
        },
        "id": "VA9wr4JSTHXK",
        "outputId": "f3304e08-3702-479b-a53e-8483f79acf77"
      },
      "outputs": [
        {
          "output_type": "stream",
          "name": "stdout",
          "text": [
            "Drive already mounted at /content/gdrive; to attempt to forcibly remount, call drive.mount(\"/content/gdrive\", force_remount=True).\n"
          ]
        }
      ],
      "source": [
        "from google.colab import drive\n",
        "drive.mount(\"/content/gdrive\")"
      ]
    },
    {
      "cell_type": "code",
      "source": [
        "import os\n",
        "rgb_images_path = \"/content/gdrive/MyDrive/Seminar/project/immune_310_project/dataset/JPG_RGB_224_224_NO_ZEROS/train_validation_test\"\n",
        "\n",
        "\n",
        "# debug_rgb_images_path = \"/content/gdrive/MyDrive/Seminar/project/immune_310_project/output_folder\"\n",
        "output_json_file = os.path.join(rgb_images_path,'metadata.json')   # Output metadata JSON file name\n",
        "output_json_file"
      ],
      "metadata": {
        "id": "yCBBOmNSTNOr",
        "colab": {
          "base_uri": "https://localhost:8080/",
          "height": 35
        },
        "outputId": "c6f38bf2-861f-42e2-937d-d413c5f16020"
      },
      "execution_count": 6,
      "outputs": [
        {
          "output_type": "execute_result",
          "data": {
            "text/plain": [
              "'/content/gdrive/MyDrive/Seminar/project/immune_310_project/dataset/JPG_RGB_224_224_NO_ZEROS/train_validation_test/metadata.json'"
            ],
            "application/vnd.google.colaboratory.intrinsic+json": {
              "type": "string"
            }
          },
          "metadata": {},
          "execution_count": 6
        }
      ]
    },
    {
      "cell_type": "code",
      "source": [
        "import datasets\n",
        "\n",
        "print(\"datasets version:\", datasets.__version__)\n"
      ],
      "metadata": {
        "colab": {
          "base_uri": "https://localhost:8080/"
        },
        "id": "XdaEVkvJbAVG",
        "outputId": "7f2f9e34-b890-4965-cbed-c6220a84afdf"
      },
      "execution_count": 7,
      "outputs": [
        {
          "output_type": "stream",
          "name": "stdout",
          "text": [
            "datasets version: 2.14.4\n"
          ]
        }
      ]
    },
    {
      "cell_type": "code",
      "source": [
        "import os\n",
        "os.listdir(rgb_images_path)"
      ],
      "metadata": {
        "colab": {
          "base_uri": "https://localhost:8080/"
        },
        "id": "4lH6qQ_vVZ6R",
        "outputId": "d0c00253-d170-45fa-ea32-47ffc7efdc49"
      },
      "execution_count": 8,
      "outputs": [
        {
          "output_type": "execute_result",
          "data": {
            "text/plain": [
              "['train', 'validation', 'test']"
            ]
          },
          "metadata": {},
          "execution_count": 8
        }
      ]
    },
    {
      "cell_type": "code",
      "source": [
        "os.path.basename(rgb_images_path)"
      ],
      "metadata": {
        "colab": {
          "base_uri": "https://localhost:8080/",
          "height": 35
        },
        "id": "1fNzmZq1ZBe6",
        "outputId": "ef5016d8-b891-4eb2-995d-9701187c309f"
      },
      "execution_count": 9,
      "outputs": [
        {
          "output_type": "execute_result",
          "data": {
            "text/plain": [
              "'train_validation_test'"
            ],
            "application/vnd.google.colaboratory.intrinsic+json": {
              "type": "string"
            }
          },
          "metadata": {},
          "execution_count": 9
        }
      ]
    },
    {
      "cell_type": "code",
      "source": [
        "os.path.exists(output_json_file)"
      ],
      "metadata": {
        "colab": {
          "base_uri": "https://localhost:8080/"
        },
        "id": "HBfS8IhmbuNS",
        "outputId": "78df7615-42f4-4265-db01-b827d902fa7e"
      },
      "execution_count": 10,
      "outputs": [
        {
          "output_type": "execute_result",
          "data": {
            "text/plain": [
              "False"
            ]
          },
          "metadata": {},
          "execution_count": 10
        }
      ]
    },
    {
      "cell_type": "code",
      "source": [
        "# os.listdir(root_folder)"
      ],
      "metadata": {
        "id": "42uSMxbVffLA"
      },
      "execution_count": 11,
      "outputs": []
    },
    {
      "cell_type": "code",
      "source": [
        "import os\n",
        "import json\n",
        "\n",
        "# Define the root folder\n",
        "root_folder = rgb_images_path  # Replace with your root folder containing subfolders\n",
        "output_json_file = os.path.join(root_folder,'metadata.json')   # Output metadata JSON file name\n",
        "if (os.path.exists(output_json_file) == False):\n",
        "  metadata = []\n",
        "  folders_to_iterate = os.listdir(root_folder)\n",
        "  folders_to_iterate = [x for x in folders_to_iterate if 'train' in x or 'validation' in x or 'test' in x]\n",
        "  print (\"folders_to_iterate is \",folders_to_iterate)\n",
        "  # Iterate through subfolders (train, validation, test)\n",
        "  for split_folder in folders_to_iterate:\n",
        "    print(\"split_folder is \",split_folder)\n",
        "    split_folder_path = os.path.join(root_folder, split_folder)\n",
        "\n",
        "    if os.path.isdir(split_folder_path):\n",
        "      for labels in os.listdir(split_folder_path):\n",
        "        label_folder = os.path.join(split_folder_path, labels)\n",
        "        print(\"label_folder is \",label_folder)\n",
        "\n",
        "        if os.path.isdir(label_folder):\n",
        "          for image_file in os.listdir(label_folder):\n",
        "            if image_file.endswith('.jpg'):\n",
        "              image_path = os.path.join(label_folder, image_file)\n",
        "              # labels is required for the training\n",
        "              metadata.append({\"image_path\": image_path, \"labels\": labels, \"split\": split_folder})\n",
        "\n",
        "  # Save metadata as JSON file\n",
        "  with open(output_json_file, 'w') as json_file:\n",
        "      json.dump(metadata, json_file, indent=4)\n",
        "\n",
        "  print(\"Metadata JSON file created:\", output_json_file)\n",
        "else:\n",
        "  print(\"Nothing to do. Metadata JSON file was created:\", output_json_file)\n"
      ],
      "metadata": {
        "colab": {
          "base_uri": "https://localhost:8080/"
        },
        "id": "JBA9vsIjXP16",
        "outputId": "1b2381c3-6d62-447c-c0a1-21dc1dabc739"
      },
      "execution_count": 12,
      "outputs": [
        {
          "output_type": "stream",
          "name": "stdout",
          "text": [
            "folders_to_iterate is  ['train', 'validation', 'test']\n",
            "split_folder is  train\n",
            "label_folder is  /content/gdrive/MyDrive/Seminar/project/immune_310_project/dataset/JPG_RGB_224_224_NO_ZEROS/train_validation_test/train/progressor\n",
            "label_folder is  /content/gdrive/MyDrive/Seminar/project/immune_310_project/dataset/JPG_RGB_224_224_NO_ZEROS/train_validation_test/train/nonprogressor\n",
            "split_folder is  validation\n",
            "label_folder is  /content/gdrive/MyDrive/Seminar/project/immune_310_project/dataset/JPG_RGB_224_224_NO_ZEROS/train_validation_test/validation/progressor\n",
            "label_folder is  /content/gdrive/MyDrive/Seminar/project/immune_310_project/dataset/JPG_RGB_224_224_NO_ZEROS/train_validation_test/validation/nonprogressor\n",
            "split_folder is  test\n",
            "label_folder is  /content/gdrive/MyDrive/Seminar/project/immune_310_project/dataset/JPG_RGB_224_224_NO_ZEROS/train_validation_test/test/nonprogressor\n",
            "label_folder is  /content/gdrive/MyDrive/Seminar/project/immune_310_project/dataset/JPG_RGB_224_224_NO_ZEROS/train_validation_test/test/progressor\n",
            "Metadata JSON file created: /content/gdrive/MyDrive/Seminar/project/immune_310_project/dataset/JPG_RGB_224_224_NO_ZEROS/train_validation_test/metadata.json\n"
          ]
        }
      ]
    },
    {
      "cell_type": "code",
      "source": [
        "output_json_file"
      ],
      "metadata": {
        "colab": {
          "base_uri": "https://localhost:8080/",
          "height": 35
        },
        "id": "136y8YShdzqg",
        "outputId": "bf2c1e8d-4f2e-45cf-a818-6fa1c12e52a5"
      },
      "execution_count": 13,
      "outputs": [
        {
          "output_type": "execute_result",
          "data": {
            "text/plain": [
              "'/content/gdrive/MyDrive/Seminar/project/immune_310_project/dataset/JPG_RGB_224_224_NO_ZEROS/train_validation_test/metadata.json'"
            ],
            "application/vnd.google.colaboratory.intrinsic+json": {
              "type": "string"
            }
          },
          "metadata": {},
          "execution_count": 13
        }
      ]
    },
    {
      "cell_type": "code",
      "source": [
        "# Function to load the image using PIL and add it to the dataset\n",
        "def load_pil_image(example):\n",
        "    image_path = example[\"image_path\"]\n",
        "    pil_image = Image.open(image_path)\n",
        "    example[\"pil_image\"] = pil_image\n",
        "    return example"
      ],
      "metadata": {
        "id": "OyvbLqEae4Y7"
      },
      "execution_count": 14,
      "outputs": []
    },
    {
      "cell_type": "code",
      "source": [
        "from datasets import Dataset\n",
        "from PIL import Image\n",
        "import json\n",
        "\n",
        "# Load the metadata from metadata.json\n",
        "with open(output_json_file, \"r\") as metadata_file:\n",
        "    metadata = json.load(metadata_file)\n",
        "\n",
        "# Organize the dataset entries by split\n",
        "datasets_by_split = {\"train\": [], \"test\": [], \"validation\": []}\n",
        "\n",
        "for entry in metadata:\n",
        "    image_path = entry[\"image_path\"]\n",
        "    labels = entry[\"labels\"]\n",
        "    split = entry[\"split\"]\n",
        "\n",
        "    datasets_by_split[split].append({\"image_path\": image_path, \"labels\": labels})\n",
        "\n",
        "# Convert the organized datasets into Dataset objects\n",
        "dataset_objects = {}\n",
        "\n",
        "for split, entries in datasets_by_split.items():\n",
        "    dataset_objects[split] = Dataset.from_dict({\"image_path\": [entry[\"image_path\"] for entry in entries],\n",
        "                                                \"labels\": [entry[\"labels\"] for entry in entries]})\n",
        "\n",
        "# Apply the load_pil_image method to all images in all datasets\n",
        "for split in dataset_objects.keys():\n",
        "    dataset_objects[split] = dataset_objects[split].map(load_pil_image)\n",
        "\n",
        "# Create a single dataset with subdatasets\n",
        "combined_dataset = dataset_objects\n",
        "\n",
        "# Access the train, validation, and test splits\n",
        "train_dataset = combined_dataset[\"train\"]\n",
        "validation_dataset = combined_dataset[\"validation\"]\n",
        "test_dataset = combined_dataset[\"test\"]\n",
        "\n",
        "print(\"Datasets loaded and split, and images loaded as PIL images.\")\n"
      ],
      "metadata": {
        "colab": {
          "base_uri": "https://localhost:8080/",
          "height": 49,
          "referenced_widgets": [
            "b3c5810907514ca8ad250a79baf5b37c",
            "30e103129bc64d8aa7171fea2cc11820",
            "156f456445a74fabbbbdb00a570ace2c",
            "95e917d8d29c4f0dadd56b241fcf981f",
            "2fe4f5d7544448cf886e4162269493c3",
            "80c4fce4e92045a1a3b76a62cbce1361",
            "6111a494d50d4705a35c80251e10f14d",
            "1c6dde9ce2754c78a711cc56cbcb25de",
            "963c6e9499914070a25be81d7d14e4ce",
            "f97d328adfa343b2bf958daeb9432c80",
            "2cb2e8fe4a0248a3ac84da4f740c3e2e"
          ]
        },
        "id": "kpOxDs1fmixe",
        "outputId": "ae9e1a00-daf1-41aa-971d-e0a97f7b8782"
      },
      "execution_count": null,
      "outputs": [
        {
          "output_type": "display_data",
          "data": {
            "text/plain": [
              "Map:   0%|          | 0/1376 [00:00<?, ? examples/s]"
            ],
            "application/vnd.jupyter.widget-view+json": {
              "version_major": 2,
              "version_minor": 0,
              "model_id": "b3c5810907514ca8ad250a79baf5b37c"
            }
          },
          "metadata": {}
        }
      ]
    },
    {
      "cell_type": "code",
      "source": [
        "ds = combined_dataset"
      ],
      "metadata": {
        "id": "Dyhkf9ZQmrZJ"
      },
      "execution_count": null,
      "outputs": []
    },
    {
      "cell_type": "code",
      "source": [
        "ds[\"train\"]"
      ],
      "metadata": {
        "id": "m81W5Fp6jhkw"
      },
      "execution_count": null,
      "outputs": []
    },
    {
      "cell_type": "code",
      "source": [
        "ds[\"validation\"]"
      ],
      "metadata": {
        "id": "MPffk00WmAyu"
      },
      "execution_count": null,
      "outputs": []
    },
    {
      "cell_type": "code",
      "source": [
        "ds[\"test\"]"
      ],
      "metadata": {
        "id": "dhfpQ1QElNTG"
      },
      "execution_count": null,
      "outputs": []
    },
    {
      "cell_type": "code",
      "source": [
        "ds"
      ],
      "metadata": {
        "id": "Zynj3iVQc3Cx"
      },
      "execution_count": null,
      "outputs": []
    },
    {
      "cell_type": "code",
      "source": [
        "# Apply the function to each example in the dataset\n",
        "# ds = ds.map(load_pil_image)\n",
        "train_dataset"
      ],
      "metadata": {
        "id": "oKq9z_Qfe7KA"
      },
      "execution_count": null,
      "outputs": []
    },
    {
      "cell_type": "code",
      "source": [
        "type(ds)"
      ],
      "metadata": {
        "id": "ky5WvJ6-r5nV"
      },
      "execution_count": null,
      "outputs": []
    },
    {
      "cell_type": "code",
      "source": [
        "# will save 3 datasets to disk\n",
        "for val in [\"train\",\"validation\",\"test\"]:\n",
        "\n",
        "  ds_with_pil_images_fld = os.path.join(rgb_images_path,'ds_with_pil_images',val)   # Output metadata JSON file name\n",
        "  print(\"ds_with_pil_images_fld is {}\".format(ds_with_pil_images_fld))\n",
        "  os.makedirs(ds_with_pil_images_fld,exist_ok=True)\n",
        "  ds[val].save_to_disk(ds_with_pil_images_fld)\n",
        "  print(\"Datasets saved to disk with PIL images. \",val)\n",
        "# will be used by step 4"
      ],
      "metadata": {
        "id": "3c-FPgoVcE9P"
      },
      "execution_count": null,
      "outputs": []
    },
    {
      "cell_type": "code",
      "source": [],
      "metadata": {
        "id": "-zgzP3d55aU7"
      },
      "execution_count": null,
      "outputs": []
    }
  ]
}