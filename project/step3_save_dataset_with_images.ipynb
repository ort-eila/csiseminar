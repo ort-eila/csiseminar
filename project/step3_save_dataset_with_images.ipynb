{
  "cells": [
    {
      "cell_type": "markdown",
      "metadata": {
        "id": "view-in-github",
        "colab_type": "text"
      },
      "source": [
        "<a href=\"https://colab.research.google.com/github/ort-eila/csiseminar/blob/main/project/step3_save_dataset_with_images.ipynb\" target=\"_parent\"><img src=\"https://colab.research.google.com/assets/colab-badge.svg\" alt=\"Open In Colab\"/></a>"
      ]
    },
    {
      "cell_type": "code",
      "execution_count": 2,
      "metadata": {
        "id": "OldUIqyzUm8d"
      },
      "outputs": [],
      "source": [
        "# !pip install datasets transformers\n",
        "# !pip install --upgrade datasets\n"
      ]
    },
    {
      "cell_type": "code",
      "execution_count": 4,
      "metadata": {
        "id": "VA9wr4JSTHXK",
        "colab": {
          "base_uri": "https://localhost:8080/",
          "height": 35
        },
        "outputId": "3188e700-31b6-41ee-dfd2-ee552868d9f2"
      },
      "outputs": [
        {
          "output_type": "execute_result",
          "data": {
            "text/plain": [
              "'/content'"
            ],
            "application/vnd.google.colaboratory.intrinsic+json": {
              "type": "string"
            }
          },
          "metadata": {},
          "execution_count": 4
        }
      ],
      "source": [
        "# from google.colab import drive\n",
        "# drive.mount(\"/content/gdrive\")\n",
        "import os\n",
        "os.getcwd()"
      ]
    },
    {
      "cell_type": "code",
      "execution_count": 6,
      "metadata": {
        "id": "qAGsAbwUwXbU",
        "colab": {
          "base_uri": "https://localhost:8080/"
        },
        "outputId": "f3993bbd-d483-4e4b-c9ac-d672f05cf2ca"
      },
      "outputs": [
        {
          "output_type": "stream",
          "name": "stdout",
          "text": [
            "option 2\n",
            "Mounted at /content/gdrive\n"
          ]
        }
      ],
      "source": [
        "import os\n",
        "mode = \"google-drive\"\n",
        "if mode==\"stanford-mac\" in os.getcwd():\n",
        "  print(\"option 1\")\n",
        "  rgb_images_path = os.path.join(\"/Users/eilaarich-landkof-stanford/Downloads/train_validation_test_2023_08_14_20_18/\")\n",
        "elif mode==\"google-drive\":\n",
        "  print(\"option 2\")\n",
        "  from google.colab import drive\n",
        "  drive.mount(\"/content/gdrive\")\n",
        "  rgb_images_path = \"/content/gdrive/MyDrive/train_validation_test_2023_08_14_20_18\"\n",
        "elif mode == \"stanford\":\n",
        "  print(\"option 3\")\n",
        "  from google.colab import drive\n",
        "  drive.mount(\"/content/gdrive\")\n",
        "  rgb_images_path = \"/content/gdrive/MyDrive/Seminar/project/immune_310_project/dataset/JPG_VECT_TO_IMG_224_224/train_validation_test_2023_08_14_20_18\""
      ]
    },
    {
      "cell_type": "code",
      "execution_count": 7,
      "metadata": {
        "colab": {
          "base_uri": "https://localhost:8080/",
          "height": 35
        },
        "id": "yCBBOmNSTNOr",
        "outputId": "a3f23fa2-ebb3-468c-a6ad-e632724e7660"
      },
      "outputs": [
        {
          "output_type": "execute_result",
          "data": {
            "text/plain": [
              "'/content/gdrive/MyDrive/train_validation_test_2023_08_14_20_18/metadata.json'"
            ],
            "application/vnd.google.colaboratory.intrinsic+json": {
              "type": "string"
            }
          },
          "metadata": {},
          "execution_count": 7
        }
      ],
      "source": [
        "# import os\n",
        "# rgb_images_path = \"/content/gdrive/MyDrive/Seminar/project/immune_310_project/dataset/JPG_VECT_TO_IMG_224_224/train_validation_test\"\n",
        "\n",
        "\n",
        "# debug_rgb_images_path = \"/content/gdrive/MyDrive/Seminar/project/immune_310_project/output_folder\"\n",
        "output_json_file = os.path.join(rgb_images_path,'metadata.json')   # Output metadata JSON file name\n",
        "output_json_file"
      ]
    },
    {
      "cell_type": "code",
      "execution_count": 8,
      "metadata": {
        "id": "XdaEVkvJbAVG",
        "colab": {
          "base_uri": "https://localhost:8080/"
        },
        "outputId": "e79dc357-a30f-4c4e-8c3e-a8a7195e5b74"
      },
      "outputs": [
        {
          "output_type": "stream",
          "name": "stdout",
          "text": [
            "datasets version: 2.14.4\n"
          ]
        }
      ],
      "source": [
        "import datasets\n",
        "\n",
        "print(\"datasets version:\", datasets.__version__)\n"
      ]
    },
    {
      "cell_type": "code",
      "execution_count": 9,
      "metadata": {
        "id": "4lH6qQ_vVZ6R",
        "colab": {
          "base_uri": "https://localhost:8080/"
        },
        "outputId": "475e10f3-1e1f-4315-cbe7-89f9b7997f2b"
      },
      "outputs": [
        {
          "output_type": "execute_result",
          "data": {
            "text/plain": [
              "['metadata.json',\n",
              " 'tensorboard',\n",
              " 'validation',\n",
              " 'train',\n",
              " 'test',\n",
              " 'model_output_dir',\n",
              " 'ds_with_pil_images']"
            ]
          },
          "metadata": {},
          "execution_count": 9
        }
      ],
      "source": [
        "import os\n",
        "os.listdir(rgb_images_path)"
      ]
    },
    {
      "cell_type": "code",
      "execution_count": 10,
      "metadata": {
        "id": "1fNzmZq1ZBe6",
        "colab": {
          "base_uri": "https://localhost:8080/",
          "height": 35
        },
        "outputId": "81229d4c-bef8-4d68-91be-bfefc3d65965"
      },
      "outputs": [
        {
          "output_type": "execute_result",
          "data": {
            "text/plain": [
              "'train_validation_test_2023_08_14_20_18'"
            ],
            "application/vnd.google.colaboratory.intrinsic+json": {
              "type": "string"
            }
          },
          "metadata": {},
          "execution_count": 10
        }
      ],
      "source": [
        "os.path.basename(rgb_images_path)"
      ]
    },
    {
      "cell_type": "code",
      "execution_count": 11,
      "metadata": {
        "id": "HBfS8IhmbuNS",
        "colab": {
          "base_uri": "https://localhost:8080/"
        },
        "outputId": "5807979e-09e6-4028-c037-8abee1709be5"
      },
      "outputs": [
        {
          "output_type": "execute_result",
          "data": {
            "text/plain": [
              "True"
            ]
          },
          "metadata": {},
          "execution_count": 11
        }
      ],
      "source": [
        "os.path.exists(output_json_file)"
      ]
    },
    {
      "cell_type": "code",
      "execution_count": 12,
      "metadata": {
        "id": "42uSMxbVffLA"
      },
      "outputs": [],
      "source": [
        "# os.listdir(root_folder)"
      ]
    },
    {
      "cell_type": "code",
      "execution_count": 20,
      "metadata": {
        "id": "JBA9vsIjXP16",
        "colab": {
          "base_uri": "https://localhost:8080/"
        },
        "outputId": "92bd052b-aa6d-41ba-f68a-4d5708442442"
      },
      "outputs": [
        {
          "output_type": "stream",
          "name": "stdout",
          "text": [
            "folders_to_iterate is  ['validation', 'train', 'test']\n",
            "split_folder is  validation\n",
            "labels is \n",
            "labels is \n",
            "split_folder is  train\n",
            "labels is \n",
            "labels is \n",
            "split_folder is  test\n",
            "labels is \n",
            "labels is \n",
            "Metadata JSON file created: /content/gdrive/MyDrive/train_validation_test_2023_08_14_20_18/metadata.json\n"
          ]
        }
      ],
      "source": [
        "import os\n",
        "import json\n",
        "\n",
        "# Define the root folder\n",
        "root_folder = rgb_images_path  # Replace with your root folder containing subfolders\n",
        "output_json_file = os.path.join(root_folder,'metadata.json')   # Output metadata JSON file name\n",
        "if (os.path.exists(output_json_file) == False):\n",
        "  metadata = []\n",
        "  folders_to_iterate = os.listdir(root_folder)\n",
        "  folders_to_iterate = [x for x in folders_to_iterate if 'train' in x or 'validation' in x or 'test' in x]\n",
        "  print (\"folders_to_iterate is \",folders_to_iterate)\n",
        "  # Iterate through subfolders (train, validation, test)\n",
        "  for split_folder in folders_to_iterate:\n",
        "    print(\"split_folder is \",split_folder)\n",
        "    split_folder_path = os.path.join(root_folder, split_folder)\n",
        "\n",
        "    if os.path.isdir(split_folder_path):\n",
        "      for labels in os.listdir(split_folder_path):\n",
        "        print(\"labels is {}\".format(labels))\n",
        "        label_folder = os.path.join(split_folder_path, labels)\n",
        "\n",
        "        if os.path.isdir(label_folder):\n",
        "          list_dir_label_folder = os.listdir(label_folder)\n",
        "          # print(\"list_dir_label_folder is {}\".format(list_dir_label_folder))\n",
        "          # list_dir_label_folder = [x for x in list_dir_label_folder if \".DSto\" is not in x]\n",
        "          assert len(list_dir_label_folder)!=0\n",
        "          for image_file in os.listdir(label_folder):\n",
        "            if image_file.endswith('.jpg'):\n",
        "              image_path = os.path.join(label_folder, image_file)\n",
        "              # labels is required for the training\n",
        "              metadata.append({\"image_path\": image_path, \"labels\": labels, \"split\": split_folder})\n",
        "\n",
        "  # Save metadata as JSON file\n",
        "  with open(output_json_file, 'w') as json_file:\n",
        "      json.dump(metadata, json_file, indent=4)\n",
        "\n",
        "  print(\"Metadata JSON file created:\", output_json_file)\n",
        "else:\n",
        "  print(\"Nothing to do. Metadata JSON file was created:\", output_json_file)\n"
      ]
    },
    {
      "cell_type": "code",
      "execution_count": 21,
      "metadata": {
        "id": "136y8YShdzqg",
        "colab": {
          "base_uri": "https://localhost:8080/",
          "height": 35
        },
        "outputId": "df9e5e32-83be-4fbe-bda2-336aa3031567"
      },
      "outputs": [
        {
          "output_type": "execute_result",
          "data": {
            "text/plain": [
              "'/content/gdrive/MyDrive/train_validation_test_2023_08_14_20_18/metadata.json'"
            ],
            "application/vnd.google.colaboratory.intrinsic+json": {
              "type": "string"
            }
          },
          "metadata": {},
          "execution_count": 21
        }
      ],
      "source": [
        "output_json_file"
      ]
    },
    {
      "cell_type": "code",
      "execution_count": 22,
      "metadata": {
        "id": "OyvbLqEae4Y7"
      },
      "outputs": [],
      "source": [
        "# Function to load the image using PIL and add it to the dataset\n",
        "# TODO: bug here: return the no array not the object type. than will be able to shorten step 4\n",
        "#  the training\n",
        "def load_pil_image(example):\n",
        "    image_path = example[\"image_path\"]\n",
        "    pil_image = Image.open(image_path)\n",
        "    example[\"pil_image\"] = pil_image\n",
        "    return example"
      ]
    },
    {
      "cell_type": "code",
      "execution_count": null,
      "metadata": {
        "id": "kpOxDs1fmixe",
        "colab": {
          "base_uri": "https://localhost:8080/",
          "height": 49,
          "referenced_widgets": [
            "d1491dfdf0ea4f55b08ceefb466f3769",
            "e7a44467d8cb474e8f806577a7067ffa",
            "4c9da0711d0d47359c18f49e35bdbf87",
            "255a4dad5b1844e6868c69c7375194f4",
            "ca0bdd13beaf459bac3d344b0eb1fbfb",
            "22f3e89337594bb39fd497296ab8fb8e",
            "d69561d073c2455b9e7ec69a90d0a32c",
            "c01580e7807b49618e76851dddf1281b",
            "51149073da2448909dba18cf33d0e9bf",
            "04d86f7d4e074b1faaa303793d19370f",
            "b60163dad3f143219677c594973acf17"
          ]
        },
        "outputId": "f5c2edee-20d0-4728-d26e-f6d663e12c88"
      },
      "outputs": [
        {
          "output_type": "display_data",
          "data": {
            "text/plain": [
              "Map:   0%|          | 0/30559 [00:00<?, ? examples/s]"
            ],
            "application/vnd.jupyter.widget-view+json": {
              "version_major": 2,
              "version_minor": 0,
              "model_id": "d1491dfdf0ea4f55b08ceefb466f3769"
            }
          },
          "metadata": {}
        }
      ],
      "source": [
        "from datasets import Dataset\n",
        "from PIL import Image\n",
        "import json\n",
        "\n",
        "# Load the metadata from metadata.json\n",
        "with open(output_json_file, \"r\") as metadata_file:\n",
        "    metadata = json.load(metadata_file)\n",
        "\n",
        "# Organize the dataset entries by split\n",
        "datasets_by_split = {\"train\": [], \"test\": [], \"validation\": []}\n",
        "\n",
        "for entry in metadata:\n",
        "    image_path = entry[\"image_path\"]\n",
        "    labels = entry[\"labels\"]\n",
        "    split = entry[\"split\"]\n",
        "\n",
        "    datasets_by_split[split].append({\"image_path\": image_path, \"labels\": labels})\n",
        "\n",
        "# Convert the organized datasets into Dataset objects\n",
        "dataset_objects = {}\n",
        "\n",
        "for split, entries in datasets_by_split.items():\n",
        "    dataset_objects[split] = Dataset.from_dict({\"image_path\": [entry[\"image_path\"] for entry in entries],\n",
        "                                                \"labels\": [entry[\"labels\"] for entry in entries]})\n",
        "\n",
        "# Apply the load_pil_image method to all images in all datasets\n",
        "for split in dataset_objects.keys():\n",
        "    dataset_objects[split] = dataset_objects[split].map(load_pil_image)\n",
        "\n",
        "# Create a single dataset with subdatasets\n",
        "combined_dataset = dataset_objects\n",
        "\n",
        "# Access the train, validation, and test splits\n",
        "train_dataset = combined_dataset[\"train\"]\n",
        "validation_dataset = combined_dataset[\"validation\"]\n",
        "test_dataset = combined_dataset[\"test\"]\n",
        "\n",
        "print(\"Datasets loaded and split, and images loaded as PIL images.\")\n"
      ]
    },
    {
      "cell_type": "code",
      "execution_count": null,
      "metadata": {
        "id": "Dyhkf9ZQmrZJ"
      },
      "outputs": [],
      "source": [
        "ds = combined_dataset"
      ]
    },
    {
      "cell_type": "code",
      "execution_count": null,
      "metadata": {
        "id": "m81W5Fp6jhkw"
      },
      "outputs": [],
      "source": [
        "ds[\"train\"]"
      ]
    },
    {
      "cell_type": "code",
      "execution_count": null,
      "metadata": {
        "id": "MPffk00WmAyu"
      },
      "outputs": [],
      "source": [
        "ds[\"validation\"]"
      ]
    },
    {
      "cell_type": "code",
      "execution_count": null,
      "metadata": {
        "id": "dhfpQ1QElNTG"
      },
      "outputs": [],
      "source": [
        "ds[\"test\"]"
      ]
    },
    {
      "cell_type": "code",
      "execution_count": null,
      "metadata": {
        "id": "Zynj3iVQc3Cx"
      },
      "outputs": [],
      "source": [
        "ds"
      ]
    },
    {
      "cell_type": "code",
      "execution_count": null,
      "metadata": {
        "id": "oKq9z_Qfe7KA"
      },
      "outputs": [],
      "source": [
        "# Apply the function to each example in the dataset\n",
        "# ds = ds.map(load_pil_image)\n",
        "train_dataset"
      ]
    },
    {
      "cell_type": "code",
      "execution_count": null,
      "metadata": {
        "id": "ky5WvJ6-r5nV"
      },
      "outputs": [],
      "source": [
        "type(ds)"
      ]
    },
    {
      "cell_type": "code",
      "execution_count": null,
      "metadata": {
        "id": "3c-FPgoVcE9P"
      },
      "outputs": [],
      "source": [
        "for val in [\"train\",\"validation\",\"test\"]:\n",
        "\n",
        "  ds_with_pil_images_fld = os.path.join(rgb_images_path,'ds_with_pil_images',val)   # Output metadata JSON file name\n",
        "  print(\"ds_with_pil_images_fld is {}\".format(ds_with_pil_images_fld))\n",
        "  os.makedirs(ds_with_pil_images_fld,exist_ok=True)\n",
        "  ds[val].save_to_disk(ds_with_pil_images_fld)\n",
        "  print(\"Datasets saved to disk with PIL images. \",val)\n",
        "# will be used by step 4"
      ]
    },
    {
      "cell_type": "code",
      "execution_count": null,
      "metadata": {
        "id": "-zgzP3d55aU7"
      },
      "outputs": [],
      "source": []
    },
    {
      "cell_type": "code",
      "execution_count": null,
      "metadata": {
        "id": "2uYoKp9F9vhJ"
      },
      "outputs": [],
      "source": []
    }
  ],
  "metadata": {
    "colab": {
      "provenance": [],
      "include_colab_link": true
    },
    "kernelspec": {
      "display_name": "Python 3",
      "name": "python3"
    },
    "language_info": {
      "codemirror_mode": {
        "name": "ipython",
        "version": 3
      },
      "file_extension": ".py",
      "mimetype": "text/x-python",
      "name": "python",
      "nbconvert_exporter": "python",
      "pygments_lexer": "ipython3",
      "version": "3.8.17"
    },
    "widgets": {
      "application/vnd.jupyter.widget-state+json": {
        "d1491dfdf0ea4f55b08ceefb466f3769": {
          "model_module": "@jupyter-widgets/controls",
          "model_name": "HBoxModel",
          "model_module_version": "1.5.0",
          "state": {
            "_dom_classes": [],
            "_model_module": "@jupyter-widgets/controls",
            "_model_module_version": "1.5.0",
            "_model_name": "HBoxModel",
            "_view_count": null,
            "_view_module": "@jupyter-widgets/controls",
            "_view_module_version": "1.5.0",
            "_view_name": "HBoxView",
            "box_style": "",
            "children": [
              "IPY_MODEL_e7a44467d8cb474e8f806577a7067ffa",
              "IPY_MODEL_4c9da0711d0d47359c18f49e35bdbf87",
              "IPY_MODEL_255a4dad5b1844e6868c69c7375194f4"
            ],
            "layout": "IPY_MODEL_ca0bdd13beaf459bac3d344b0eb1fbfb"
          }
        },
        "e7a44467d8cb474e8f806577a7067ffa": {
          "model_module": "@jupyter-widgets/controls",
          "model_name": "HTMLModel",
          "model_module_version": "1.5.0",
          "state": {
            "_dom_classes": [],
            "_model_module": "@jupyter-widgets/controls",
            "_model_module_version": "1.5.0",
            "_model_name": "HTMLModel",
            "_view_count": null,
            "_view_module": "@jupyter-widgets/controls",
            "_view_module_version": "1.5.0",
            "_view_name": "HTMLView",
            "description": "",
            "description_tooltip": null,
            "layout": "IPY_MODEL_22f3e89337594bb39fd497296ab8fb8e",
            "placeholder": "​",
            "style": "IPY_MODEL_d69561d073c2455b9e7ec69a90d0a32c",
            "value": "Map:   3%"
          }
        },
        "4c9da0711d0d47359c18f49e35bdbf87": {
          "model_module": "@jupyter-widgets/controls",
          "model_name": "FloatProgressModel",
          "model_module_version": "1.5.0",
          "state": {
            "_dom_classes": [],
            "_model_module": "@jupyter-widgets/controls",
            "_model_module_version": "1.5.0",
            "_model_name": "FloatProgressModel",
            "_view_count": null,
            "_view_module": "@jupyter-widgets/controls",
            "_view_module_version": "1.5.0",
            "_view_name": "ProgressView",
            "bar_style": "",
            "description": "",
            "description_tooltip": null,
            "layout": "IPY_MODEL_c01580e7807b49618e76851dddf1281b",
            "max": 30559,
            "min": 0,
            "orientation": "horizontal",
            "style": "IPY_MODEL_51149073da2448909dba18cf33d0e9bf",
            "value": 1068
          }
        },
        "255a4dad5b1844e6868c69c7375194f4": {
          "model_module": "@jupyter-widgets/controls",
          "model_name": "HTMLModel",
          "model_module_version": "1.5.0",
          "state": {
            "_dom_classes": [],
            "_model_module": "@jupyter-widgets/controls",
            "_model_module_version": "1.5.0",
            "_model_name": "HTMLModel",
            "_view_count": null,
            "_view_module": "@jupyter-widgets/controls",
            "_view_module_version": "1.5.0",
            "_view_name": "HTMLView",
            "description": "",
            "description_tooltip": null,
            "layout": "IPY_MODEL_04d86f7d4e074b1faaa303793d19370f",
            "placeholder": "​",
            "style": "IPY_MODEL_b60163dad3f143219677c594973acf17",
            "value": " 1068/30559 [03:33&lt;1:38:12,  5.00 examples/s]"
          }
        },
        "ca0bdd13beaf459bac3d344b0eb1fbfb": {
          "model_module": "@jupyter-widgets/base",
          "model_name": "LayoutModel",
          "model_module_version": "1.2.0",
          "state": {
            "_model_module": "@jupyter-widgets/base",
            "_model_module_version": "1.2.0",
            "_model_name": "LayoutModel",
            "_view_count": null,
            "_view_module": "@jupyter-widgets/base",
            "_view_module_version": "1.2.0",
            "_view_name": "LayoutView",
            "align_content": null,
            "align_items": null,
            "align_self": null,
            "border": null,
            "bottom": null,
            "display": null,
            "flex": null,
            "flex_flow": null,
            "grid_area": null,
            "grid_auto_columns": null,
            "grid_auto_flow": null,
            "grid_auto_rows": null,
            "grid_column": null,
            "grid_gap": null,
            "grid_row": null,
            "grid_template_areas": null,
            "grid_template_columns": null,
            "grid_template_rows": null,
            "height": null,
            "justify_content": null,
            "justify_items": null,
            "left": null,
            "margin": null,
            "max_height": null,
            "max_width": null,
            "min_height": null,
            "min_width": null,
            "object_fit": null,
            "object_position": null,
            "order": null,
            "overflow": null,
            "overflow_x": null,
            "overflow_y": null,
            "padding": null,
            "right": null,
            "top": null,
            "visibility": null,
            "width": null
          }
        },
        "22f3e89337594bb39fd497296ab8fb8e": {
          "model_module": "@jupyter-widgets/base",
          "model_name": "LayoutModel",
          "model_module_version": "1.2.0",
          "state": {
            "_model_module": "@jupyter-widgets/base",
            "_model_module_version": "1.2.0",
            "_model_name": "LayoutModel",
            "_view_count": null,
            "_view_module": "@jupyter-widgets/base",
            "_view_module_version": "1.2.0",
            "_view_name": "LayoutView",
            "align_content": null,
            "align_items": null,
            "align_self": null,
            "border": null,
            "bottom": null,
            "display": null,
            "flex": null,
            "flex_flow": null,
            "grid_area": null,
            "grid_auto_columns": null,
            "grid_auto_flow": null,
            "grid_auto_rows": null,
            "grid_column": null,
            "grid_gap": null,
            "grid_row": null,
            "grid_template_areas": null,
            "grid_template_columns": null,
            "grid_template_rows": null,
            "height": null,
            "justify_content": null,
            "justify_items": null,
            "left": null,
            "margin": null,
            "max_height": null,
            "max_width": null,
            "min_height": null,
            "min_width": null,
            "object_fit": null,
            "object_position": null,
            "order": null,
            "overflow": null,
            "overflow_x": null,
            "overflow_y": null,
            "padding": null,
            "right": null,
            "top": null,
            "visibility": null,
            "width": null
          }
        },
        "d69561d073c2455b9e7ec69a90d0a32c": {
          "model_module": "@jupyter-widgets/controls",
          "model_name": "DescriptionStyleModel",
          "model_module_version": "1.5.0",
          "state": {
            "_model_module": "@jupyter-widgets/controls",
            "_model_module_version": "1.5.0",
            "_model_name": "DescriptionStyleModel",
            "_view_count": null,
            "_view_module": "@jupyter-widgets/base",
            "_view_module_version": "1.2.0",
            "_view_name": "StyleView",
            "description_width": ""
          }
        },
        "c01580e7807b49618e76851dddf1281b": {
          "model_module": "@jupyter-widgets/base",
          "model_name": "LayoutModel",
          "model_module_version": "1.2.0",
          "state": {
            "_model_module": "@jupyter-widgets/base",
            "_model_module_version": "1.2.0",
            "_model_name": "LayoutModel",
            "_view_count": null,
            "_view_module": "@jupyter-widgets/base",
            "_view_module_version": "1.2.0",
            "_view_name": "LayoutView",
            "align_content": null,
            "align_items": null,
            "align_self": null,
            "border": null,
            "bottom": null,
            "display": null,
            "flex": null,
            "flex_flow": null,
            "grid_area": null,
            "grid_auto_columns": null,
            "grid_auto_flow": null,
            "grid_auto_rows": null,
            "grid_column": null,
            "grid_gap": null,
            "grid_row": null,
            "grid_template_areas": null,
            "grid_template_columns": null,
            "grid_template_rows": null,
            "height": null,
            "justify_content": null,
            "justify_items": null,
            "left": null,
            "margin": null,
            "max_height": null,
            "max_width": null,
            "min_height": null,
            "min_width": null,
            "object_fit": null,
            "object_position": null,
            "order": null,
            "overflow": null,
            "overflow_x": null,
            "overflow_y": null,
            "padding": null,
            "right": null,
            "top": null,
            "visibility": null,
            "width": null
          }
        },
        "51149073da2448909dba18cf33d0e9bf": {
          "model_module": "@jupyter-widgets/controls",
          "model_name": "ProgressStyleModel",
          "model_module_version": "1.5.0",
          "state": {
            "_model_module": "@jupyter-widgets/controls",
            "_model_module_version": "1.5.0",
            "_model_name": "ProgressStyleModel",
            "_view_count": null,
            "_view_module": "@jupyter-widgets/base",
            "_view_module_version": "1.2.0",
            "_view_name": "StyleView",
            "bar_color": null,
            "description_width": ""
          }
        },
        "04d86f7d4e074b1faaa303793d19370f": {
          "model_module": "@jupyter-widgets/base",
          "model_name": "LayoutModel",
          "model_module_version": "1.2.0",
          "state": {
            "_model_module": "@jupyter-widgets/base",
            "_model_module_version": "1.2.0",
            "_model_name": "LayoutModel",
            "_view_count": null,
            "_view_module": "@jupyter-widgets/base",
            "_view_module_version": "1.2.0",
            "_view_name": "LayoutView",
            "align_content": null,
            "align_items": null,
            "align_self": null,
            "border": null,
            "bottom": null,
            "display": null,
            "flex": null,
            "flex_flow": null,
            "grid_area": null,
            "grid_auto_columns": null,
            "grid_auto_flow": null,
            "grid_auto_rows": null,
            "grid_column": null,
            "grid_gap": null,
            "grid_row": null,
            "grid_template_areas": null,
            "grid_template_columns": null,
            "grid_template_rows": null,
            "height": null,
            "justify_content": null,
            "justify_items": null,
            "left": null,
            "margin": null,
            "max_height": null,
            "max_width": null,
            "min_height": null,
            "min_width": null,
            "object_fit": null,
            "object_position": null,
            "order": null,
            "overflow": null,
            "overflow_x": null,
            "overflow_y": null,
            "padding": null,
            "right": null,
            "top": null,
            "visibility": null,
            "width": null
          }
        },
        "b60163dad3f143219677c594973acf17": {
          "model_module": "@jupyter-widgets/controls",
          "model_name": "DescriptionStyleModel",
          "model_module_version": "1.5.0",
          "state": {
            "_model_module": "@jupyter-widgets/controls",
            "_model_module_version": "1.5.0",
            "_model_name": "DescriptionStyleModel",
            "_view_count": null,
            "_view_module": "@jupyter-widgets/base",
            "_view_module_version": "1.2.0",
            "_view_name": "StyleView",
            "description_width": ""
          }
        }
      }
    }
  },
  "nbformat": 4,
  "nbformat_minor": 0
}