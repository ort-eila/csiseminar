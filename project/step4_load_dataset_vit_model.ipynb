{
  "nbformat": 4,
  "nbformat_minor": 0,
  "metadata": {
    "colab": {
      "provenance": [],
      "gpuType": "T4",
      "authorship_tag": "ABX9TyOwMxzh84Gzd7Zlj+JxWJrH",
      "include_colab_link": true
    },
    "kernelspec": {
      "name": "python3",
      "display_name": "Python 3"
    },
    "language_info": {
      "name": "python"
    },
    "accelerator": "GPU",
    "widgets": {
      "application/vnd.jupyter.widget-state+json": {
        "5cffb7213aa546eb8b976a32b2b2573f": {
          "model_module": "@jupyter-widgets/controls",
          "model_name": "HBoxModel",
          "model_module_version": "1.5.0",
          "state": {
            "_dom_classes": [],
            "_model_module": "@jupyter-widgets/controls",
            "_model_module_version": "1.5.0",
            "_model_name": "HBoxModel",
            "_view_count": null,
            "_view_module": "@jupyter-widgets/controls",
            "_view_module_version": "1.5.0",
            "_view_name": "HBoxView",
            "box_style": "",
            "children": [
              "IPY_MODEL_3377058e433b4fa9a08b58c6bd50d37e",
              "IPY_MODEL_57ae87708adf4568aa754f712abd4290",
              "IPY_MODEL_edb9e3aaf4414993a323284758afd5ed"
            ],
            "layout": "IPY_MODEL_2f08a82ee9954559a8d33b7ea328691f"
          }
        },
        "3377058e433b4fa9a08b58c6bd50d37e": {
          "model_module": "@jupyter-widgets/controls",
          "model_name": "HTMLModel",
          "model_module_version": "1.5.0",
          "state": {
            "_dom_classes": [],
            "_model_module": "@jupyter-widgets/controls",
            "_model_module_version": "1.5.0",
            "_model_name": "HTMLModel",
            "_view_count": null,
            "_view_module": "@jupyter-widgets/controls",
            "_view_module_version": "1.5.0",
            "_view_name": "HTMLView",
            "description": "",
            "description_tooltip": null,
            "layout": "IPY_MODEL_d97ec4ab607e4f18b02ce5552227ba7b",
            "placeholder": "​",
            "style": "IPY_MODEL_ba58cb5ee22147bda7f3de33fe53a997",
            "value": "Downloading (…)rocessor_config.json: 100%"
          }
        },
        "57ae87708adf4568aa754f712abd4290": {
          "model_module": "@jupyter-widgets/controls",
          "model_name": "FloatProgressModel",
          "model_module_version": "1.5.0",
          "state": {
            "_dom_classes": [],
            "_model_module": "@jupyter-widgets/controls",
            "_model_module_version": "1.5.0",
            "_model_name": "FloatProgressModel",
            "_view_count": null,
            "_view_module": "@jupyter-widgets/controls",
            "_view_module_version": "1.5.0",
            "_view_name": "ProgressView",
            "bar_style": "success",
            "description": "",
            "description_tooltip": null,
            "layout": "IPY_MODEL_7aed4615ee9e4830aa18f7ff38ad5c3e",
            "max": 160,
            "min": 0,
            "orientation": "horizontal",
            "style": "IPY_MODEL_d1e0e92df70242408234c38ec0522452",
            "value": 160
          }
        },
        "edb9e3aaf4414993a323284758afd5ed": {
          "model_module": "@jupyter-widgets/controls",
          "model_name": "HTMLModel",
          "model_module_version": "1.5.0",
          "state": {
            "_dom_classes": [],
            "_model_module": "@jupyter-widgets/controls",
            "_model_module_version": "1.5.0",
            "_model_name": "HTMLModel",
            "_view_count": null,
            "_view_module": "@jupyter-widgets/controls",
            "_view_module_version": "1.5.0",
            "_view_name": "HTMLView",
            "description": "",
            "description_tooltip": null,
            "layout": "IPY_MODEL_7bb5710864e34c399a31d067d493eca5",
            "placeholder": "​",
            "style": "IPY_MODEL_bef3d30a0d7a41be8b0292e9fce2d6d2",
            "value": " 160/160 [00:00&lt;00:00, 9.32kB/s]"
          }
        },
        "2f08a82ee9954559a8d33b7ea328691f": {
          "model_module": "@jupyter-widgets/base",
          "model_name": "LayoutModel",
          "model_module_version": "1.2.0",
          "state": {
            "_model_module": "@jupyter-widgets/base",
            "_model_module_version": "1.2.0",
            "_model_name": "LayoutModel",
            "_view_count": null,
            "_view_module": "@jupyter-widgets/base",
            "_view_module_version": "1.2.0",
            "_view_name": "LayoutView",
            "align_content": null,
            "align_items": null,
            "align_self": null,
            "border": null,
            "bottom": null,
            "display": null,
            "flex": null,
            "flex_flow": null,
            "grid_area": null,
            "grid_auto_columns": null,
            "grid_auto_flow": null,
            "grid_auto_rows": null,
            "grid_column": null,
            "grid_gap": null,
            "grid_row": null,
            "grid_template_areas": null,
            "grid_template_columns": null,
            "grid_template_rows": null,
            "height": null,
            "justify_content": null,
            "justify_items": null,
            "left": null,
            "margin": null,
            "max_height": null,
            "max_width": null,
            "min_height": null,
            "min_width": null,
            "object_fit": null,
            "object_position": null,
            "order": null,
            "overflow": null,
            "overflow_x": null,
            "overflow_y": null,
            "padding": null,
            "right": null,
            "top": null,
            "visibility": null,
            "width": null
          }
        },
        "d97ec4ab607e4f18b02ce5552227ba7b": {
          "model_module": "@jupyter-widgets/base",
          "model_name": "LayoutModel",
          "model_module_version": "1.2.0",
          "state": {
            "_model_module": "@jupyter-widgets/base",
            "_model_module_version": "1.2.0",
            "_model_name": "LayoutModel",
            "_view_count": null,
            "_view_module": "@jupyter-widgets/base",
            "_view_module_version": "1.2.0",
            "_view_name": "LayoutView",
            "align_content": null,
            "align_items": null,
            "align_self": null,
            "border": null,
            "bottom": null,
            "display": null,
            "flex": null,
            "flex_flow": null,
            "grid_area": null,
            "grid_auto_columns": null,
            "grid_auto_flow": null,
            "grid_auto_rows": null,
            "grid_column": null,
            "grid_gap": null,
            "grid_row": null,
            "grid_template_areas": null,
            "grid_template_columns": null,
            "grid_template_rows": null,
            "height": null,
            "justify_content": null,
            "justify_items": null,
            "left": null,
            "margin": null,
            "max_height": null,
            "max_width": null,
            "min_height": null,
            "min_width": null,
            "object_fit": null,
            "object_position": null,
            "order": null,
            "overflow": null,
            "overflow_x": null,
            "overflow_y": null,
            "padding": null,
            "right": null,
            "top": null,
            "visibility": null,
            "width": null
          }
        },
        "ba58cb5ee22147bda7f3de33fe53a997": {
          "model_module": "@jupyter-widgets/controls",
          "model_name": "DescriptionStyleModel",
          "model_module_version": "1.5.0",
          "state": {
            "_model_module": "@jupyter-widgets/controls",
            "_model_module_version": "1.5.0",
            "_model_name": "DescriptionStyleModel",
            "_view_count": null,
            "_view_module": "@jupyter-widgets/base",
            "_view_module_version": "1.2.0",
            "_view_name": "StyleView",
            "description_width": ""
          }
        },
        "7aed4615ee9e4830aa18f7ff38ad5c3e": {
          "model_module": "@jupyter-widgets/base",
          "model_name": "LayoutModel",
          "model_module_version": "1.2.0",
          "state": {
            "_model_module": "@jupyter-widgets/base",
            "_model_module_version": "1.2.0",
            "_model_name": "LayoutModel",
            "_view_count": null,
            "_view_module": "@jupyter-widgets/base",
            "_view_module_version": "1.2.0",
            "_view_name": "LayoutView",
            "align_content": null,
            "align_items": null,
            "align_self": null,
            "border": null,
            "bottom": null,
            "display": null,
            "flex": null,
            "flex_flow": null,
            "grid_area": null,
            "grid_auto_columns": null,
            "grid_auto_flow": null,
            "grid_auto_rows": null,
            "grid_column": null,
            "grid_gap": null,
            "grid_row": null,
            "grid_template_areas": null,
            "grid_template_columns": null,
            "grid_template_rows": null,
            "height": null,
            "justify_content": null,
            "justify_items": null,
            "left": null,
            "margin": null,
            "max_height": null,
            "max_width": null,
            "min_height": null,
            "min_width": null,
            "object_fit": null,
            "object_position": null,
            "order": null,
            "overflow": null,
            "overflow_x": null,
            "overflow_y": null,
            "padding": null,
            "right": null,
            "top": null,
            "visibility": null,
            "width": null
          }
        },
        "d1e0e92df70242408234c38ec0522452": {
          "model_module": "@jupyter-widgets/controls",
          "model_name": "ProgressStyleModel",
          "model_module_version": "1.5.0",
          "state": {
            "_model_module": "@jupyter-widgets/controls",
            "_model_module_version": "1.5.0",
            "_model_name": "ProgressStyleModel",
            "_view_count": null,
            "_view_module": "@jupyter-widgets/base",
            "_view_module_version": "1.2.0",
            "_view_name": "StyleView",
            "bar_color": null,
            "description_width": ""
          }
        },
        "7bb5710864e34c399a31d067d493eca5": {
          "model_module": "@jupyter-widgets/base",
          "model_name": "LayoutModel",
          "model_module_version": "1.2.0",
          "state": {
            "_model_module": "@jupyter-widgets/base",
            "_model_module_version": "1.2.0",
            "_model_name": "LayoutModel",
            "_view_count": null,
            "_view_module": "@jupyter-widgets/base",
            "_view_module_version": "1.2.0",
            "_view_name": "LayoutView",
            "align_content": null,
            "align_items": null,
            "align_self": null,
            "border": null,
            "bottom": null,
            "display": null,
            "flex": null,
            "flex_flow": null,
            "grid_area": null,
            "grid_auto_columns": null,
            "grid_auto_flow": null,
            "grid_auto_rows": null,
            "grid_column": null,
            "grid_gap": null,
            "grid_row": null,
            "grid_template_areas": null,
            "grid_template_columns": null,
            "grid_template_rows": null,
            "height": null,
            "justify_content": null,
            "justify_items": null,
            "left": null,
            "margin": null,
            "max_height": null,
            "max_width": null,
            "min_height": null,
            "min_width": null,
            "object_fit": null,
            "object_position": null,
            "order": null,
            "overflow": null,
            "overflow_x": null,
            "overflow_y": null,
            "padding": null,
            "right": null,
            "top": null,
            "visibility": null,
            "width": null
          }
        },
        "bef3d30a0d7a41be8b0292e9fce2d6d2": {
          "model_module": "@jupyter-widgets/controls",
          "model_name": "DescriptionStyleModel",
          "model_module_version": "1.5.0",
          "state": {
            "_model_module": "@jupyter-widgets/controls",
            "_model_module_version": "1.5.0",
            "_model_name": "DescriptionStyleModel",
            "_view_count": null,
            "_view_module": "@jupyter-widgets/base",
            "_view_module_version": "1.2.0",
            "_view_name": "StyleView",
            "description_width": ""
          }
        }
      }
    }
  },
  "cells": [
    {
      "cell_type": "markdown",
      "metadata": {
        "id": "view-in-github",
        "colab_type": "text"
      },
      "source": [
        "<a href=\"https://colab.research.google.com/github/ort-eila/csiseminar/blob/main/project/step4_load_dataset_vit_model.ipynb\" target=\"_parent\"><img src=\"https://colab.research.google.com/assets/colab-badge.svg\" alt=\"Open In Colab\"/></a>"
      ]
    },
    {
      "cell_type": "code",
      "source": [
        "# !pip install transformers\n",
        "# !pip install --upgrade transformers\n",
        "# !pip install datasets\n",
        "# !pip install --upgrade datasets\n",
        "\n",
        "# # for CPU:\n",
        "# !pip install transformers[torch]\n",
        "# # restart\n",
        "# !pip install tensorboard\n"
      ],
      "metadata": {
        "id": "OldUIqyzUm8d"
      },
      "execution_count": 2,
      "outputs": []
    },
    {
      "cell_type": "code",
      "source": [
        "rgb_images_path = \"\"\n",
        "import os\n",
        "os.getcwd()"
      ],
      "metadata": {
        "id": "OWupabIrDMED",
        "colab": {
          "base_uri": "https://localhost:8080/",
          "height": 35
        },
        "outputId": "02db6920-dbd1-43c8-bec7-38b0806a1d85"
      },
      "execution_count": 3,
      "outputs": [
        {
          "output_type": "execute_result",
          "data": {
            "text/plain": [
              "'/content'"
            ],
            "application/vnd.google.colaboratory.intrinsic+json": {
              "type": "string"
            }
          },
          "metadata": {},
          "execution_count": 3
        }
      ]
    },
    {
      "cell_type": "code",
      "source": [
        "if \"eilaarich-landkof-stanford\" in os.getcwd():\n",
        "    rgb_images_path = os.path.join(os.getcwd(),\"immune_310_project/dataset/JPG_VECT_TO_IMG_224_224/train_validation_test_2023_08_14_20_18\")\n",
        "else:\n",
        "    from google.colab import drive\n",
        "    drive.mount(\"/content/gdrive\")\n",
        "    rgb_images_path = \"/content/gdrive/MyDrive/Seminar/project/immune_310_project/dataset/JPG_VECT_TO_IMG_224_224/train_validation_test_2023_08_14_20_18\""
      ],
      "metadata": {
        "id": "YVN2-UK1DOvS",
        "colab": {
          "base_uri": "https://localhost:8080/"
        },
        "outputId": "27d8d37d-970c-41a7-e8e5-7c1994a60fff"
      },
      "execution_count": 4,
      "outputs": [
        {
          "output_type": "stream",
          "name": "stdout",
          "text": [
            "Mounted at /content/gdrive\n"
          ]
        }
      ]
    },
    {
      "cell_type": "code",
      "execution_count": 5,
      "metadata": {
        "id": "VA9wr4JSTHXK"
      },
      "outputs": [],
      "source": [
        "# from google.colab import drive\n",
        "# drive.mount(\"/content/gdrive\")"
      ]
    },
    {
      "cell_type": "code",
      "source": [
        "# import os\n",
        "# rgb_images_path = \"/content/gdrive/MyDrive/Seminar/project/immune_310_project/dataset/JPG_VECT_TO_IMG_224_224/train_validation_test\""
      ],
      "metadata": {
        "id": "yCBBOmNSTNOr"
      },
      "execution_count": 6,
      "outputs": []
    },
    {
      "cell_type": "code",
      "source": [
        "import datasets\n",
        "\n",
        "print(\"datasets version:\", datasets.__version__)\n"
      ],
      "metadata": {
        "colab": {
          "base_uri": "https://localhost:8080/"
        },
        "id": "XdaEVkvJbAVG",
        "outputId": "8299540e-7a61-401e-ff07-b6c66192e0d1"
      },
      "execution_count": 7,
      "outputs": [
        {
          "output_type": "stream",
          "name": "stdout",
          "text": [
            "datasets version: 2.14.4\n"
          ]
        }
      ]
    },
    {
      "cell_type": "code",
      "source": [
        "from datasets import ClassLabel\n",
        "\n",
        "class_labels = ClassLabel(names=[\"nonprogressor\", \"progressor\"])\n"
      ],
      "metadata": {
        "id": "136y8YShdzqg"
      },
      "execution_count": 8,
      "outputs": []
    },
    {
      "cell_type": "code",
      "source": [
        "# d = Dataset.load_from_disk(\"/content/gdrive/MyDrive/Seminar/project/immune_310_project/dataset/JPG_VECT_TO_IMG_224_224/train_validation_test_2023_08_14_20_18/ds_with_pil_images/train\")\n",
        "# Dataset.load_from_disk(\"\")"
      ],
      "metadata": {
        "id": "3TpsqiisJzwf"
      },
      "execution_count": 9,
      "outputs": []
    },
    {
      "cell_type": "code",
      "source": [
        "os.listdir(\"/content/gdrive/MyDrive/Seminar/project/immune_310_project/dataset/JPG_VECT_TO_IMG_224_224/train_validation_test_2023_08_14_20_18/\")\n"
      ],
      "metadata": {
        "colab": {
          "base_uri": "https://localhost:8080/"
        },
        "id": "mVYra-YbU5fX",
        "outputId": "b82528f5-723c-492b-bb6e-b8d6fb918874"
      },
      "execution_count": 10,
      "outputs": [
        {
          "output_type": "execute_result",
          "data": {
            "text/plain": [
              "['train',\n",
              " 'validation',\n",
              " 'test',\n",
              " 'metadata.json',\n",
              " 'ds_with_pil_images',\n",
              " 'model_output_dir',\n",
              " 'tensorboard']"
            ]
          },
          "metadata": {},
          "execution_count": 10
        }
      ]
    },
    {
      "cell_type": "code",
      "source": [
        "from datasets.io.abc import Dataset\n",
        "\n",
        "ds={}\n",
        "for val in [\"train\",\"validation\",\"test\"]:\n",
        "  ds_with_pil_images_fld = os.path.join(rgb_images_path,'ds_with_pil_images',val)   # Output metadata JSON file name\n",
        "  print(\"ds_with_pil_images_fld is {}\".format(ds_with_pil_images_fld))\n",
        "  ds[val] = Dataset.load_from_disk(ds_with_pil_images_fld)\n",
        "  print(\"Datasets saved to disk with PIL images. \",val)\n",
        "# will be used by step 4"
      ],
      "metadata": {
        "id": "xvBd6fc9a4Jd",
        "colab": {
          "base_uri": "https://localhost:8080/"
        },
        "outputId": "b5b22ccb-4380-40c4-c812-140034bba6ee"
      },
      "execution_count": 11,
      "outputs": [
        {
          "output_type": "stream",
          "name": "stdout",
          "text": [
            "ds_with_pil_images_fld is /content/gdrive/MyDrive/Seminar/project/immune_310_project/dataset/JPG_VECT_TO_IMG_224_224/train_validation_test_2023_08_14_20_18/ds_with_pil_images/train\n",
            "Datasets saved to disk with PIL images.  train\n",
            "ds_with_pil_images_fld is /content/gdrive/MyDrive/Seminar/project/immune_310_project/dataset/JPG_VECT_TO_IMG_224_224/train_validation_test_2023_08_14_20_18/ds_with_pil_images/validation\n",
            "Datasets saved to disk with PIL images.  validation\n",
            "ds_with_pil_images_fld is /content/gdrive/MyDrive/Seminar/project/immune_310_project/dataset/JPG_VECT_TO_IMG_224_224/train_validation_test_2023_08_14_20_18/ds_with_pil_images/test\n",
            "Datasets saved to disk with PIL images.  test\n"
          ]
        }
      ]
    },
    {
      "cell_type": "code",
      "source": [
        "# ds['train']"
      ],
      "metadata": {
        "id": "LoWu2c5WerSS"
      },
      "execution_count": 12,
      "outputs": []
    },
    {
      "cell_type": "code",
      "source": [
        "# from PIL import Image\n",
        "# import numpy as np\n",
        "# from IPython.display import display\n",
        "\n",
        "\n",
        "# # Access an example and its PIL image\n",
        "# ex = ds['train'][0]\n",
        "# print(\"Example:\", ex)\n",
        "\n",
        "# # Display the PIL image\n",
        "# display(ex[\"pil_image\"])\n",
        "\n",
        "# # Convert PIL image to NumPy array\n",
        "# image_array = np.array(ex[\"pil_image\"])\n",
        "\n",
        "# # Display image array shape and pixel values\n",
        "# print(\"Image array shape:\", image_array.shape)\n",
        "# print(\"Min pixel value:\", np.min(image_array))\n",
        "# print(\"Max pixel value:\", np.max(image_array))"
      ],
      "metadata": {
        "id": "mh2GkRS8arDJ"
      },
      "execution_count": 13,
      "outputs": []
    },
    {
      "cell_type": "code",
      "source": [
        "# labels = ds['train'][0]['labels']\n",
        "# labels"
      ],
      "metadata": {
        "id": "eq6C5gCpedTj"
      },
      "execution_count": 14,
      "outputs": []
    },
    {
      "cell_type": "code",
      "source": [
        "# class_labels"
      ],
      "metadata": {
        "id": "u2kaknVs8JUj"
      },
      "execution_count": 15,
      "outputs": []
    },
    {
      "cell_type": "code",
      "source": [
        "# class_labels.str2int(labels)"
      ],
      "metadata": {
        "id": "HsxeO-Ut6MHm"
      },
      "execution_count": 16,
      "outputs": []
    },
    {
      "cell_type": "code",
      "source": [
        "from transformers import ViTFeatureExtractor\n",
        "\n",
        "model_name_or_path = 'google/vit-base-patch16-224-in21k'\n",
        "feature_extractor = ViTFeatureExtractor.from_pretrained(model_name_or_path)"
      ],
      "metadata": {
        "colab": {
          "base_uri": "https://localhost:8080/",
          "height": 105,
          "referenced_widgets": [
            "5cffb7213aa546eb8b976a32b2b2573f",
            "3377058e433b4fa9a08b58c6bd50d37e",
            "57ae87708adf4568aa754f712abd4290",
            "edb9e3aaf4414993a323284758afd5ed",
            "2f08a82ee9954559a8d33b7ea328691f",
            "d97ec4ab607e4f18b02ce5552227ba7b",
            "ba58cb5ee22147bda7f3de33fe53a997",
            "7aed4615ee9e4830aa18f7ff38ad5c3e",
            "d1e0e92df70242408234c38ec0522452",
            "7bb5710864e34c399a31d067d493eca5",
            "bef3d30a0d7a41be8b0292e9fce2d6d2"
          ]
        },
        "id": "n_Q_au_o7x10",
        "outputId": "bedc40f0-42ff-4c49-c437-52538b1ad54d"
      },
      "execution_count": 17,
      "outputs": [
        {
          "output_type": "display_data",
          "data": {
            "text/plain": [
              "Downloading (…)rocessor_config.json:   0%|          | 0.00/160 [00:00<?, ?B/s]"
            ],
            "application/vnd.jupyter.widget-view+json": {
              "version_major": 2,
              "version_minor": 0,
              "model_id": "5cffb7213aa546eb8b976a32b2b2573f"
            }
          },
          "metadata": {}
        },
        {
          "output_type": "stream",
          "name": "stderr",
          "text": [
            "/usr/local/lib/python3.10/dist-packages/transformers/models/vit/feature_extraction_vit.py:28: FutureWarning: The class ViTFeatureExtractor is deprecated and will be removed in version 5 of Transformers. Please use ViTImageProcessor instead.\n",
            "  warnings.warn(\n"
          ]
        }
      ]
    },
    {
      "cell_type": "code",
      "source": [
        "feature_extractor"
      ],
      "metadata": {
        "colab": {
          "base_uri": "https://localhost:8080/"
        },
        "id": "AlCd0biJ8UhI",
        "outputId": "762cf714-3b54-4903-8cb8-2a96157c1348"
      },
      "execution_count": 18,
      "outputs": [
        {
          "output_type": "execute_result",
          "data": {
            "text/plain": [
              "ViTFeatureExtractor {\n",
              "  \"do_normalize\": true,\n",
              "  \"do_rescale\": true,\n",
              "  \"do_resize\": true,\n",
              "  \"image_mean\": [\n",
              "    0.5,\n",
              "    0.5,\n",
              "    0.5\n",
              "  ],\n",
              "  \"image_processor_type\": \"ViTFeatureExtractor\",\n",
              "  \"image_std\": [\n",
              "    0.5,\n",
              "    0.5,\n",
              "    0.5\n",
              "  ],\n",
              "  \"resample\": 2,\n",
              "  \"rescale_factor\": 0.00392156862745098,\n",
              "  \"size\": {\n",
              "    \"height\": 224,\n",
              "    \"width\": 224\n",
              "  }\n",
              "}"
            ]
          },
          "metadata": {},
          "execution_count": 18
        }
      ]
    },
    {
      "cell_type": "code",
      "source": [
        "# ds['train']"
      ],
      "metadata": {
        "id": "NkBEycm8TSZs"
      },
      "execution_count": 19,
      "outputs": []
    },
    {
      "cell_type": "code",
      "source": [
        "# ex"
      ],
      "metadata": {
        "id": "VogrBmdGDnux"
      },
      "execution_count": 20,
      "outputs": []
    },
    {
      "cell_type": "code",
      "source": [
        "# # DEBUG - with the current feature extration\n",
        "# ex = ds['train'][400]\n",
        "# # image = ex['pil_image']\n",
        "# image_path = ex['image_path']\n",
        "# pil_image = Image.open(image_path)\n",
        "# feature_extractor(pil_image, return_tensors='pt')"
      ],
      "metadata": {
        "id": "Q8F2SK-K8ieM"
      },
      "execution_count": 21,
      "outputs": []
    },
    {
      "cell_type": "code",
      "source": [
        "# # ONLY FOR DEBUG - with the default feature extraction\n",
        "# def process_example(example):\n",
        "#   # image_path = example['image_path']\n",
        "#   # pil_image = Image.open(image_path)\n",
        "#   # np.array(example[\"pil_image\"])\n",
        "#   feature_extractor(np.array(example[\"pil_image\"]), return_tensors='pt')\n",
        "#   inputs = feature_extractor(pil_image, return_tensors='pt')\n",
        "#   inputs['labels'] = class_labels.str2int(example['labels'])\n",
        "#   return inputs"
      ],
      "metadata": {
        "id": "c1RsVYht8vrE"
      },
      "execution_count": 22,
      "outputs": []
    },
    {
      "cell_type": "code",
      "source": [
        "# in_example = process_example(ds['train'][0])\n",
        "# in_example"
      ],
      "metadata": {
        "id": "cTfoqgv-9BLF"
      },
      "execution_count": 23,
      "outputs": []
    },
    {
      "cell_type": "code",
      "source": [
        "# type(in_example['pixel_values'])"
      ],
      "metadata": {
        "id": "nsaXBgmqC4tV"
      },
      "execution_count": 24,
      "outputs": []
    },
    {
      "cell_type": "code",
      "source": [
        "def augmentation_fn(image):\n",
        "  import torchvision.transforms as T\n",
        "  transform = T.Compose([\n",
        "    T.RandomHorizontalFlip(p=0.5),  # 50% chance of horizontal flip\n",
        "    T.RandomVerticalFlip(p=0.5),    # 50% chance of vertical flip\n",
        "    # T.ColorJitter(brightness=0.2, contrast=0.2, saturation=0.2, hue=0.1),  # Random color jitter\n",
        "    T.RandomRotation(degrees=10),   # Random rotation up to 10 degrees\n",
        "  ])\n",
        "\n",
        "  augmented_image = transform(image)\n",
        "  return augmented_image"
      ],
      "metadata": {
        "id": "G9Tb_ZANCwch"
      },
      "execution_count": 25,
      "outputs": []
    },
    {
      "cell_type": "code",
      "source": [
        "# ds['train'][0]"
      ],
      "metadata": {
        "id": "gGJEDeAtTEFB"
      },
      "execution_count": 26,
      "outputs": []
    },
    {
      "cell_type": "code",
      "source": [
        "#test\n",
        "print(ds['train'][0])\n",
        "aug_example = augmentation_fn(ds['train'][0]['pil_image'])\n",
        "aug_example"
      ],
      "metadata": {
        "colab": {
          "base_uri": "https://localhost:8080/",
          "height": 279
        },
        "id": "pxAogxKfr3v6",
        "outputId": "e6996886-2e46-4bc6-dfe6-e96c22040efa"
      },
      "execution_count": 27,
      "outputs": [
        {
          "output_type": "stream",
          "name": "stdout",
          "text": [
            "{'image_path': '/content/gdrive/MyDrive/Seminar/project/immune_310_project/dataset/JPG_VECT_TO_IMG_224_224/train_validation_test_2023_08_14_20_18/train/progressor/6103_vector_image_row_1023_col793.jpg', 'labels': 'progressor', 'pil_image': <PIL.JpegImagePlugin.JpegImageFile image mode=RGB size=224x224 at 0x7F351A429B70>}\n"
          ]
        },
        {
          "output_type": "execute_result",
          "data": {
            "text/plain": [
              "<PIL.Image.Image image mode=RGB size=224x224>"
            ],
            "image/png": "[encoded data removed]"
          },
          "metadata": {},
          "execution_count": 27
        }
      ]
    },
    {
      "cell_type": "code",
      "source": [
        "# from PIL import Image\n",
        "# import torchvision.transforms as T\n",
        "# # Load an example image\n",
        "# image = Image.open(ds['train'][0]['image_path'])\n",
        "# # RandomResizedCrop: Randomly crops and resizes the image\n",
        "# random_resized_crop = T.RandomResizedCrop(size=(224, 224), scale=(0.8, 1.0), ratio=(0.9, 1.1))\n",
        "# augmented_image1 = random_resized_crop(image)\n",
        "# # Display the original and augmented images\n",
        "# # image.show()\n",
        "# augmented_image1"
      ],
      "metadata": {
        "id": "QgBs-x61r9qo"
      },
      "execution_count": 28,
      "outputs": []
    },
    {
      "cell_type": "code",
      "source": [
        "# samples =[ds['train'][0]]\n",
        "# samples"
      ],
      "metadata": {
        "id": "dOndc1GuXzd4"
      },
      "execution_count": 29,
      "outputs": []
    },
    {
      "cell_type": "code",
      "source": [
        "# import numpy as np\n",
        "# do_normalize=False\n",
        "# do_rescale=False\n",
        "# do_resize=False\n",
        "# # np.array(example[\"pil_image\"])\n",
        "# feature_extractor([np.array(sample['pil_image']) for sample in samples],\n",
        "#                              do_normalize=do_normalize,\n",
        "#                              do_rescale=do_rescale,\n",
        "#                              do_resize=do_resize,\n",
        "#                              augmentation_fn=augmentation_fn,\n",
        "#                              return_tensors='pt')"
      ],
      "metadata": {
        "id": "FNCok8oPTYb2"
      },
      "execution_count": 30,
      "outputs": []
    },
    {
      "cell_type": "code",
      "source": [
        "import numpy as np\n",
        "do_normalize=False\n",
        "do_rescale=False\n",
        "do_resize=False\n",
        "model_name_prefix = \"norm_{}_scl_{}_resz_{}_aug_T\".format(do_normalize,do_rescale,do_resize)\n",
        "print(\"model_name_prefix is {}\".format(model_name_prefix))\n",
        "\n",
        "prepared_ds={}\n",
        "def transform(example_batch):\n",
        "  from PIL import Image\n",
        "    # Take a list of PIL images and turn them to pixel values\n",
        "  inputs = feature_extractor([Image.open(x) for x in example_batch['image_path']],\n",
        "                              do_normalize=do_normalize,\n",
        "                              do_rescale=do_rescale,\n",
        "                              do_resize=do_resize,\n",
        "                              augmentation_fn=augmentation_fn,\n",
        "                              return_tensors='pt')\n",
        "\n",
        "  # Extract PIL image objects from example_batch\n",
        "  # pil_images = [sample['pil_image'] for sample in example_batch]\n",
        "  # inputs = feature_extractor(pil_images,\n",
        "  #                            do_normalize=do_normalize,\n",
        "  #                            do_rescale=do_rescale,\n",
        "  #                            do_resize=do_resize,\n",
        "  #                            augmentation_fn=augmentation_fn,\n",
        "  #                            return_tensors='pt')\n",
        "\n",
        "\n",
        "    # Don't forget to include the labels!\n",
        "  # inputs['labels'] = [class_labels.str2int(sample['labels']) for sample in example_batch]\n",
        "  inputs['labels'] = example_batch['labels']\n",
        "  return inputs\n",
        "\n",
        "for val in [\"train\",\"validation\",\"test\"]:\n",
        "  prepared_ds[val] = ds[val].with_transform(transform)"
      ],
      "metadata": {
        "id": "nAslJflg9Bed",
        "colab": {
          "base_uri": "https://localhost:8080/"
        },
        "outputId": "cf63bfef-698c-4218-e3e2-86cd498f8411"
      },
      "execution_count": 74,
      "outputs": [
        {
          "output_type": "stream",
          "name": "stdout",
          "text": [
            "model_name_prefix is norm_False_scl_False_resz_False_aug_T\n"
          ]
        }
      ]
    },
    {
      "cell_type": "code",
      "source": [
        "# prepared_ds['train']"
      ],
      "metadata": {
        "id": "v5fIwIo19IJH"
      },
      "execution_count": 75,
      "outputs": []
    },
    {
      "cell_type": "code",
      "source": [
        "import torch\n",
        "\n",
        "def collate_fn(batch):\n",
        "  return {\n",
        "        # 'pixel_values': torch.stack([x['pil_image'] for x in batch]),\n",
        "        'pixel_values': torch.stack([x['pixel_values'] for x in batch]),\n",
        "        # 'labels': torch.tensor([x['labels'] for x in batch])\n",
        "        'labels': torch.tensor([class_labels.str2int(x['labels']) for x in batch])\n",
        "    }\n",
        "\n",
        "    # class_labels.str2int\n"
      ],
      "metadata": {
        "id": "1KxxD_Qg9K2V"
      },
      "execution_count": 76,
      "outputs": []
    },
    {
      "cell_type": "code",
      "source": [
        "import numpy as np\n",
        "from datasets import load_metric\n",
        "\n",
        "metric = load_metric(\"accuracy\")\n",
        "def compute_metrics(p):\n",
        "    return metric.compute(predictions=np.argmax(p.predictions, axis=1), references=p.label_ids)"
      ],
      "metadata": {
        "id": "MRIhFyCB9QQS"
      },
      "execution_count": 77,
      "outputs": []
    },
    {
      "cell_type": "code",
      "source": [
        "class_labels.names"
      ],
      "metadata": {
        "colab": {
          "base_uri": "https://localhost:8080/"
        },
        "id": "oDNaburKEA_U",
        "outputId": "100d19cb-72f6-4e40-9a7e-e92568caf5f9"
      },
      "execution_count": 78,
      "outputs": [
        {
          "output_type": "execute_result",
          "data": {
            "text/plain": [
              "['nonprogressor', 'progressor']"
            ]
          },
          "metadata": {},
          "execution_count": 78
        }
      ]
    },
    {
      "cell_type": "code",
      "source": [
        "\n",
        "# for CPU:\n",
        "# !pip install transformers[torch]\n",
        "# restart\n",
        "# !pip install tensorboard"
      ],
      "metadata": {
        "id": "IZifGvUTTh6l"
      },
      "execution_count": 79,
      "outputs": []
    },
    {
      "cell_type": "code",
      "source": [
        "from transformers import ViTForImageClassification\n",
        "\n",
        "labels = class_labels.names #ds['train'].features['labels'].names\n",
        "\n",
        "model = ViTForImageClassification.from_pretrained(\n",
        "    model_name_or_path,\n",
        "    num_labels=len(labels),\n",
        "    id2label={str(i): c for i, c in enumerate(labels)},\n",
        "    label2id={c: str(i) for i, c in enumerate(labels)}\n",
        ")"
      ],
      "metadata": {
        "id": "kwAn4E3J9SIW",
        "colab": {
          "base_uri": "https://localhost:8080/"
        },
        "outputId": "4a54fb94-6f45-4f46-c22a-c4fd90f155e3"
      },
      "execution_count": 80,
      "outputs": [
        {
          "output_type": "stream",
          "name": "stderr",
          "text": [
            "Some weights of ViTForImageClassification were not initialized from the model checkpoint at google/vit-base-patch16-224-in21k and are newly initialized: ['classifier.bias', 'classifier.weight']\n",
            "You should probably TRAIN this model on a down-stream task to be able to use it for predictions and inference.\n"
          ]
        }
      ]
    },
    {
      "cell_type": "code",
      "source": [
        "# Generate a date-time string\n",
        "from datetime import datetime\n",
        "current_datetime = datetime.now().strftime(\"%Y-%m-%d_%H-%M-%S\")\n",
        "current_datetime"
      ],
      "metadata": {
        "colab": {
          "base_uri": "https://localhost:8080/",
          "height": 35
        },
        "id": "g1upvHM1Od_s",
        "outputId": "bb5f75d4-3d72-4a53-96a0-547f3656f7fe"
      },
      "execution_count": 81,
      "outputs": [
        {
          "output_type": "execute_result",
          "data": {
            "text/plain": [
              "'2023-08-14_23-28-26'"
            ],
            "application/vnd.google.colaboratory.intrinsic+json": {
              "type": "string"
            }
          },
          "metadata": {},
          "execution_count": 81
        }
      ]
    },
    {
      "cell_type": "code",
      "source": [],
      "metadata": {
        "id": "c5VP5A3aOGWc"
      },
      "execution_count": 81,
      "outputs": []
    },
    {
      "cell_type": "code",
      "source": [
        "from transformers import EarlyStoppingCallback, IntervalStrategy\n",
        "\n",
        "# from sklearn.utils.class_weight import compute_class_weight\n",
        "# # Create callbacks\n",
        "# train_dataclass_weights=class_weights,\n",
        "#\n",
        "\n",
        "lr = 5e-3\n",
        "num_train_epochs = 50\n",
        "batch_size = 16\n",
        "early_stopping_callback = EarlyStoppingCallback(early_stopping_patience=5)\n",
        "# class_weights = compute_class_weight('balanced', classes=[0, 1], y=prepared_ds[\"train\"][\"labels\"])\n",
        "model_name = \"_lr_{}_epochs_{}_batch_size_{}\".format(str(lr).replace(\".\",\"_\"),num_train_epochs,batch_size)\n",
        "print(\"model_name is {}\".format(model_name))\n",
        "# evaluation_strategy = \"epoch\"\n",
        "# optimizers\n",
        "# callbacks\n",
        "model_output_dir = os.path.join(rgb_images_path, \"model_output_dir\",model_name_prefix+model_name)\n",
        "print(\"model_output_dir is {}\".format(model_output_dir))\n",
        "\n",
        "os.makedirs(model_output_dir,exist_ok=True)\n",
        "model_output_dir\n",
        "\n",
        "tensorboard_log = os.path.join(rgb_images_path, \"tensorboard\",current_datetime+model_name)\n",
        "os.makedirs(tensorboard_log,exist_ok=True)\n",
        "tensorboard_log"
      ],
      "metadata": {
        "colab": {
          "base_uri": "https://localhost:8080/",
          "height": 109
        },
        "id": "0CHxNIZ1TgDS",
        "outputId": "0a18767b-b40a-48be-a602-405cb7026be6"
      },
      "execution_count": 82,
      "outputs": [
        {
          "output_type": "stream",
          "name": "stdout",
          "text": [
            "model_name is _lr_0_005_epochs_50_batch_size_16\n",
            "model_output_dir is /content/gdrive/MyDrive/Seminar/project/immune_310_project/dataset/JPG_VECT_TO_IMG_224_224/train_validation_test_2023_08_14_20_18/model_output_dir/norm_False_scl_False_resz_False_aug_T_lr_0_005_epochs_50_batch_size_16\n"
          ]
        },
        {
          "output_type": "execute_result",
          "data": {
            "text/plain": [
              "'/content/gdrive/MyDrive/Seminar/project/immune_310_project/dataset/JPG_VECT_TO_IMG_224_224/train_validation_test_2023_08_14_20_18/tensorboard/2023-08-14_23-28-26_lr_0_005_epochs_50_batch_size_16'"
            ],
            "application/vnd.google.colaboratory.intrinsic+json": {
              "type": "string"
            }
          },
          "metadata": {},
          "execution_count": 82
        }
      ]
    },
    {
      "cell_type": "code",
      "source": [
        "tensorboard_log"
      ],
      "metadata": {
        "colab": {
          "base_uri": "https://localhost:8080/",
          "height": 53
        },
        "id": "yxWtYLBdWzMT",
        "outputId": "45a63a4a-4b5d-4460-a660-1b8a1a57cdab"
      },
      "execution_count": 83,
      "outputs": [
        {
          "output_type": "execute_result",
          "data": {
            "text/plain": [
              "'/content/gdrive/MyDrive/Seminar/project/immune_310_project/dataset/JPG_VECT_TO_IMG_224_224/train_validation_test_2023_08_14_20_18/tensorboard/2023-08-14_23-28-26_lr_0_005_epochs_50_batch_size_16'"
            ],
            "application/vnd.google.colaboratory.intrinsic+json": {
              "type": "string"
            }
          },
          "metadata": {},
          "execution_count": 83
        }
      ]
    },
    {
      "cell_type": "code",
      "source": [
        "from transformers import TrainingArguments\n",
        "\n",
        "training_args = TrainingArguments(\n",
        "  output_dir=model_output_dir,\n",
        "  per_device_train_batch_size=batch_size,\n",
        "  evaluation_strategy = \"epoch\",\n",
        "  logging_strategy = \"epoch\",\n",
        "  save_strategy = \"epoch\",\n",
        "  num_train_epochs=num_train_epochs,\n",
        "  save_steps=100,\n",
        "  eval_steps = 50,\n",
        "  logging_steps=10,\n",
        "  learning_rate=lr,\n",
        "  save_total_limit=5,\n",
        "  remove_unused_columns=False,\n",
        "  push_to_hub=False,\n",
        "  report_to='tensorboard',\n",
        "  load_best_model_at_end=True,\n",
        "  # fp16=False,  # Disable mixed precision training. The True had error issues\n",
        "  fp16_opt_level=\"O2\",  # Specify optimization level\n",
        "  logging_dir=tensorboard_log, # Set the logging directory\n",
        ")\n"
      ],
      "metadata": {
        "id": "mmmWoDbLEaGI"
      },
      "execution_count": 84,
      "outputs": []
    },
    {
      "cell_type": "code",
      "source": [
        "prepared_ds"
      ],
      "metadata": {
        "colab": {
          "base_uri": "https://localhost:8080/"
        },
        "id": "xKI-oRZHz_hD",
        "outputId": "f16a1700-2380-4cca-89cd-ac54caf97c4a"
      },
      "execution_count": 85,
      "outputs": [
        {
          "output_type": "execute_result",
          "data": {
            "text/plain": [
              "{'train': Dataset({\n",
              "     features: ['image_path', 'labels', 'pil_image'],\n",
              "     num_rows: 30519\n",
              " }),\n",
              " 'validation': Dataset({\n",
              "     features: ['image_path', 'labels', 'pil_image'],\n",
              "     num_rows: 6539\n",
              " }),\n",
              " 'test': Dataset({\n",
              "     features: ['image_path', 'labels', 'pil_image'],\n",
              "     num_rows: 6542\n",
              " })}"
            ]
          },
          "metadata": {},
          "execution_count": 85
        }
      ]
    },
    {
      "cell_type": "code",
      "source": [
        "from transformers import Trainer\n",
        "\n",
        "trainer = Trainer(\n",
        "    model=model,\n",
        "    args=training_args,\n",
        "    data_collator=collate_fn,\n",
        "    compute_metrics=compute_metrics,\n",
        "    train_dataset=prepared_ds[\"train\"],\n",
        "    eval_dataset=prepared_ds[\"validation\"],\n",
        "    callbacks = [early_stopping_callback],\n",
        "    tokenizer=feature_extractor,\n",
        "    # train_dataclass_weights=class_weights,\n",
        ")"
      ],
      "metadata": {
        "id": "3gaGlHFCEfoP"
      },
      "execution_count": 86,
      "outputs": []
    },
    {
      "cell_type": "code",
      "source": [
        "train_results = trainer.train()\n"
      ],
      "metadata": {
        "id": "S2K57vfFH0zc",
        "colab": {
          "base_uri": "https://localhost:8080/",
          "height": 131
        },
        "outputId": "ed0561ed-7763-4d12-d1ea-53408eee0504"
      },
      "execution_count": null,
      "outputs": [
        {
          "output_type": "stream",
          "name": "stderr",
          "text": [
            "/usr/local/lib/python3.10/dist-packages/transformers/optimization.py:411: FutureWarning: This implementation of AdamW is deprecated and will be removed in a future version. Use the PyTorch implementation torch.optim.AdamW instead, or set `no_deprecation_warning=True` to disable this warning\n",
            "  warnings.warn(\n"
          ]
        },
        {
          "output_type": "display_data",
          "data": {
            "text/plain": [
              "<IPython.core.display.HTML object>"
            ],
            "text/html": [
              "\n",
              "    <div>\n",
              "      \n",
              "      <progress value='23' max='95400' style='width:300px; height:20px; vertical-align: middle;'></progress>\n",
              "      [   23/95400 09:33 < 722:54:23, 0.04 it/s, Epoch 0.01/50]\n",
              "    </div>\n",
              "    <table border=\"1\" class=\"dataframe\">\n",
              "  <thead>\n",
              " <tr style=\"text-align: left;\">\n",
              "      <th>Epoch</th>\n",
              "      <th>Training Loss</th>\n",
              "      <th>Validation Loss</th>\n",
              "    </tr>\n",
              "  </thead>\n",
              "  <tbody>\n",
              "  </tbody>\n",
              "</table><p>"
            ]
          },
          "metadata": {}
        }
      ]
    },
    {
      "cell_type": "code",
      "source": [],
      "metadata": {
        "id": "fzP1pDgSOs59"
      },
      "execution_count": null,
      "outputs": []
    },
    {
      "cell_type": "code",
      "source": [
        "trainer.save_model()\n",
        "trainer.log_metrics(\"train\", train_results.metrics)\n",
        "trainer.save_metrics(\"train\", train_results.metrics)\n",
        "trainer.save_state()"
      ],
      "metadata": {
        "id": "jfFTAiUQu4ck"
      },
      "execution_count": null,
      "outputs": []
    },
    {
      "cell_type": "code",
      "source": [
        "prepared_ds['test']"
      ],
      "metadata": {
        "id": "KNrJHsTEy4vh"
      },
      "execution_count": null,
      "outputs": []
    },
    {
      "cell_type": "code",
      "source": [
        "metrics = trainer.evaluate(prepared_ds['test'])\n",
        "trainer.log_metrics(\"eval\", metrics)\n",
        "trainer.save_metrics(\"eval\", metrics)"
      ],
      "metadata": {
        "id": "3stKYrWBH4dW"
      },
      "execution_count": null,
      "outputs": []
    },
    {
      "cell_type": "code",
      "source": [
        "kwargs = {\n",
        "    \"finetuned_from\": model.config._name_or_path,\n",
        "    \"tasks\": \"image-classification\",\n",
        "    \"dataset\": 'dcis-eila',\n",
        "    \"tags\": ['image-classification'],\n",
        "}\n",
        "\n",
        "if training_args.push_to_hub:\n",
        "    trainer.push_to_hub('🍻 cheers', **kwargs)\n",
        "else:\n",
        "    trainer.create_model_card(**kwargs)"
      ],
      "metadata": {
        "id": "sVsRPOwqH8tm"
      },
      "execution_count": null,
      "outputs": []
    },
    {
      "cell_type": "code",
      "source": [],
      "metadata": {
        "id": "sfsyFURk18Fc"
      },
      "execution_count": null,
      "outputs": []
    },
    {
      "cell_type": "code",
      "source": [],
      "metadata": {
        "id": "JkadroVuOyWV"
      },
      "execution_count": null,
      "outputs": []
    },
    {
      "cell_type": "code",
      "source": [],
      "metadata": {
        "id": "ZPW3s-6JOyjA"
      },
      "execution_count": null,
      "outputs": []
    },
    {
      "cell_type": "code",
      "source": [],
      "metadata": {
        "id": "rxP2o14hOyo4"
      },
      "execution_count": null,
      "outputs": []
    }
  ]
}