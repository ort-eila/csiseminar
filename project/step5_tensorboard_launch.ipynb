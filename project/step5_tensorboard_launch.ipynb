{
  "cells": [
    {
      "cell_type": "markdown",
      "metadata": {
        "id": "view-in-github",
        "colab_type": "text"
      },
      "source": [
        "<a href=\"https://colab.research.google.com/github/ort-eila/csiseminar/blob/main/project/step5_tensorboard_launch.ipynb\" target=\"_parent\"><img src=\"https://colab.research.google.com/assets/colab-badge.svg\" alt=\"Open In Colab\"/></a>"
      ]
    },
    {
      "cell_type": "code",
      "source": [
        "# !pip install tensorboard"
      ],
      "metadata": {
        "id": "-Df-0AyhNwIM"
      },
      "id": "-Df-0AyhNwIM",
      "execution_count": null,
      "outputs": []
    },
    {
      "cell_type": "code",
      "source": [
        "# Load the TensorBoard extension\n",
        "%load_ext tensorboard"
      ],
      "metadata": {
        "id": "p1k3NKLCNx5X"
      },
      "id": "p1k3NKLCNx5X",
      "execution_count": null,
      "outputs": []
    },
    {
      "cell_type": "code",
      "source": [
        "from google.colab import drive\n",
        "drive.mount(\"/content/gdrive\")"
      ],
      "metadata": {
        "id": "L-S09wRMpypv"
      },
      "id": "L-S09wRMpypv",
      "execution_count": null,
      "outputs": []
    },
    {
      "cell_type": "code",
      "source": [
        "# Start the TensorBoard server\n",
        "# %tensorboard --logdir=/content/gdrive/MyDrive/Seminar/project/immune_310_project/dataset/JPG_RGB_224_224/train_validation_test/tensorboard/2023-08-12_05-36-53\n",
        "# Use your actual logdir"
      ],
      "metadata": {
        "id": "cTTbZ7LRN3m3"
      },
      "id": "cTTbZ7LRN3m3",
      "execution_count": null,
      "outputs": []
    },
    {
      "cell_type": "code",
      "source": [
        "logdir=\"/content/gdrive/MyDrive/Seminar/project/immune_310_project/dataset/JPG_RGB_224_224/train_validation_test/tensorboard/\""
      ],
      "metadata": {
        "id": "R40-D1BWqA0q"
      },
      "id": "R40-D1BWqA0q",
      "execution_count": null,
      "outputs": []
    },
    {
      "cell_type": "code",
      "source": [
        "%load_ext tensorboard\n",
        "%tensorboard --logdir=logdir\n",
        "\n",
        "import IPython\n",
        "\n",
        "display(IPython.display.HTML('''\n",
        "<button id='open_tb'>Open TensorBoard</button>\n",
        "<button id='hide_tb'>Hide TensorBoard</button>\n",
        "<script>document.querySelector('#open_tb').onclick = () => { window.open(document.querySelector('iframe').src, \"__blank\") }\n",
        "        document.querySelector('#hide_tb').onclick = () => { document.querySelector('iframe').style.display = \"none\" }</script>'''))"
      ],
      "metadata": {
        "id": "33-rkySRbsAt"
      },
      "id": "33-rkySRbsAt",
      "execution_count": null,
      "outputs": []
    }
  ],
  "metadata": {
    "kernelspec": {
      "display_name": "Python 3",
      "name": "python3"
    },
    "language_info": {
      "codemirror_mode": {
        "name": "ipython",
        "version": 3
      },
      "file_extension": ".py",
      "mimetype": "text/x-python",
      "name": "python",
      "nbconvert_exporter": "python",
      "pygments_lexer": "ipython3",
      "version": "3.8.17"
    },
    "colab": {
      "provenance": [],
      "include_colab_link": true
    }
  },
  "nbformat": 4,
  "nbformat_minor": 5
}